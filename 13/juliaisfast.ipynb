{
 "cells": [
  {
   "cell_type": "markdown",
   "metadata": {},
   "source": [
    "# Julia is fast\n",
    "\n",
    "Very often, benchmarks are used to compare languages. These benchmarks can lead to long discussions, first as to exactly what is being benchmarked and secondly what explains the differences. These simple questions can sometimes get more complicated than you at first might imagine.\n",
    "\n",
    "The purpose of this notebook is for you to see a simple benchmark for yourself.\n",
    "\n",
    "(This material began life as a wonderful lecture by Steven Johnson at MIT: [https://github.com/stevengj/18S096/blob/master/lectures/lecture1/Boxes-and-registers.ipynb]().)\n",
    "\n",
    "\n",
    "## Outline of this notebook\n",
    "\n",
    "- Define the sum function\n",
    "- Implementations & benchmarking of sum in...\n",
    "  - C (hand-written)\n",
    "  - C (hand-written with -ffast-math)\n",
    "  - python (built-in)\n",
    "  - python (numpy)\n",
    "  - python (hand-written)\n",
    "  - Julia (built-in)\n",
    "  - Julia (hand-written)\n",
    "  - Julia (hand-written with SIMD)\n",
    "- Summary of benchmarks\n",
    "\n",
    "## sum: An easy enough function to understand\n",
    "Consider the sum function `sum(a)`, which computes\n",
    "$$\n",
    "\\mathrm{sum}(a)=\\sum_{i=1}^n a_i,\n",
    "$$\n",
    "where $n$ is the length of $a$."
   ]
  },
  {
   "cell_type": "code",
   "execution_count": 1,
   "metadata": {},
   "outputs": [
    {
     "data": {
      "text/plain": [
       "10000000-element Array{Float64,1}:\n",
       " 0.5572547741976575  \n",
       " 0.8727587760129973  \n",
       " 0.49135866994457666 \n",
       " 0.18123640187643808 \n",
       " 0.9842497443406053  \n",
       " 0.7871596730785038  \n",
       " 0.009559893231301464\n",
       " 0.8797176995464948  \n",
       " 0.23309869655557325 \n",
       " 0.3203871792935873  \n",
       " 0.19771756820115294 \n",
       " 0.7801730719895528  \n",
       " 0.40104042765277903 \n",
       " ⋮                   \n",
       " 0.4679552427667941  \n",
       " 0.3257853208748085  \n",
       " 0.4853154867365139  \n",
       " 0.6918817876938064  \n",
       " 0.9142010238654066  \n",
       " 0.24684095578115972 \n",
       " 0.9879337991000432  \n",
       " 0.8085902797817175  \n",
       " 0.8267102661248351  \n",
       " 0.375441808884325   \n",
       " 0.6088728107280998  \n",
       " 0.4181674800261439  "
      ]
     },
     "execution_count": 1,
     "metadata": {},
     "output_type": "execute_result"
    }
   ],
   "source": [
    "a = rand(10^7) # 1D vector of random numbers, uniform on [0,1)"
   ]
  },
  {
   "cell_type": "code",
   "execution_count": 2,
   "metadata": {},
   "outputs": [
    {
     "data": {
      "text/plain": [
       "4.998061185374489e6"
      ]
     },
     "execution_count": 2,
     "metadata": {},
     "output_type": "execute_result"
    }
   ],
   "source": [
    "sum(a)"
   ]
  },
  {
   "cell_type": "markdown",
   "metadata": {},
   "source": [
    "The expected result is `0.5 * 10^7`, since the mean of each entry is `0.5`.\n",
    "\n",
    "## Benchmarking a few ways in a few languages"
   ]
  },
  {
   "cell_type": "code",
   "execution_count": 3,
   "metadata": {},
   "outputs": [
    {
     "name": "stdout",
     "output_type": "stream",
     "text": [
      "  0.003749 seconds (5 allocations: 176 bytes)\n"
     ]
    },
    {
     "data": {
      "text/plain": [
       "4.998061185374489e6"
      ]
     },
     "execution_count": 3,
     "metadata": {},
     "output_type": "execute_result"
    }
   ],
   "source": [
    "@time sum(a)"
   ]
  },
  {
   "cell_type": "code",
   "execution_count": 4,
   "metadata": {},
   "outputs": [
    {
     "name": "stdout",
     "output_type": "stream",
     "text": [
      "  0.003532 seconds (5 allocations: 176 bytes)\n"
     ]
    },
    {
     "data": {
      "text/plain": [
       "4.998061185374489e6"
      ]
     },
     "execution_count": 4,
     "metadata": {},
     "output_type": "execute_result"
    }
   ],
   "source": [
    "@time sum(a)"
   ]
  },
  {
   "cell_type": "code",
   "execution_count": 5,
   "metadata": {},
   "outputs": [
    {
     "name": "stdout",
     "output_type": "stream",
     "text": [
      "  0.003743 seconds (5 allocations: 176 bytes)\n"
     ]
    },
    {
     "data": {
      "text/plain": [
       "4.998061185374489e6"
      ]
     },
     "execution_count": 5,
     "metadata": {},
     "output_type": "execute_result"
    }
   ],
   "source": [
    "@time sum(a)"
   ]
  },
  {
   "cell_type": "markdown",
   "metadata": {},
   "source": [
    "The `@time` macro can yield noisy results, so it's not our best choice for benchmarking!\n",
    "\n",
    "Luckily, Julia has a `BenchmarkTools.jl` package to make benchmarking easy and accurate:"
   ]
  },
  {
   "cell_type": "code",
   "execution_count": 6,
   "metadata": {},
   "outputs": [],
   "source": [
    "using BenchmarkTools"
   ]
  },
  {
   "cell_type": "markdown",
   "metadata": {},
   "source": [
    "### The C language\n",
    "\n",
    "C is often considered the gold standard: difficult on the human, nice for the machine. Getting within a factor of 2 of C is often satisfying. Nonetheless, even within C, there are many kinds of optimizations possible that a naive C writer may or may not get the advantage of.\n",
    "\n",
    "The current author does not speak C, so he does not read the cell below, but is happy to know that you can put C code in a Julia session, compile it, and run it. Note that the `\"\"\"` wrap a multi-line string."
   ]
  },
  {
   "cell_type": "code",
   "execution_count": 7,
   "metadata": {},
   "outputs": [
    {
     "data": {
      "text/plain": [
       "c_sum (generic function with 1 method)"
      ]
     },
     "execution_count": 7,
     "metadata": {},
     "output_type": "execute_result"
    }
   ],
   "source": [
    "using Libdl\n",
    "C_code = \"\"\"\n",
    "#include <stddef.h>\n",
    "double c_sum(size_t n, double *X) {\n",
    "    double s = 0.0;\n",
    "    for (size_t i = 0; i < n; ++i) {\n",
    "        s += X[i];\n",
    "    }\n",
    "    return s;\n",
    "}\n",
    "\"\"\"\n",
    "\n",
    "const Clib      = tempname()   # make a temporary file\n",
    "\n",
    "\n",
    "# compile to a shared library by piping C_code to gcc\n",
    "# (works only if you have gcc installed):\n",
    "\n",
    "open(`gcc -fPIC -O3 -mavx2 -xc -shared -o $(Clib * \".\" * Libdl.dlext) -`, \"w\") do f\n",
    "    print(f, C_code)\n",
    "end\n",
    "\n",
    "# define a Julia function that calls the C function:\n",
    "c_sum(X::Array{Float64}) = ccall((\"c_sum\", Clib), Float64, (Csize_t, Ptr{Float64}), length(X), X)"
   ]
  },
  {
   "cell_type": "code",
   "execution_count": 8,
   "metadata": {},
   "outputs": [
    {
     "name": "stdout",
     "output_type": "stream",
     "text": [
      "c_sum(a) = 4.998061185374056e6\n"
     ]
    },
    {
     "data": {
      "text/plain": [
       "4.998061185374056e6"
      ]
     },
     "execution_count": 8,
     "metadata": {},
     "output_type": "execute_result"
    }
   ],
   "source": [
    "@show c_sum(a)"
   ]
  },
  {
   "cell_type": "code",
   "execution_count": 9,
   "metadata": {},
   "outputs": [
    {
     "data": {
      "text/plain": [
       "true"
      ]
     },
     "execution_count": 9,
     "metadata": {},
     "output_type": "execute_result"
    }
   ],
   "source": [
    "c_sum(a) ≈ sum(a) # type \\approx and then <TAB> to get the ≈ symbolb"
   ]
  },
  {
   "cell_type": "code",
   "execution_count": 10,
   "metadata": {},
   "outputs": [
    {
     "data": {
      "text/plain": [
       "-4.330649971961975e-7"
      ]
     },
     "execution_count": 10,
     "metadata": {},
     "output_type": "execute_result"
    }
   ],
   "source": [
    "c_sum(a) - sum(a)"
   ]
  },
  {
   "cell_type": "code",
   "execution_count": 11,
   "metadata": {},
   "outputs": [
    {
     "data": {
      "text/plain": [
       "isapprox (generic function with 8 methods)"
      ]
     },
     "execution_count": 11,
     "metadata": {},
     "output_type": "execute_result"
    }
   ],
   "source": [
    "≈  # alias for the `isapprox` function"
   ]
  },
  {
   "cell_type": "markdown",
   "metadata": {},
   "source": [
    "#### Examples"
   ]
  },
  {
   "cell_type": "code",
   "execution_count": 12,
   "metadata": {},
   "outputs": [
    {
     "data": {
      "text/plain": [
       "true"
      ]
     },
     "execution_count": 12,
     "metadata": {},
     "output_type": "execute_result"
    }
   ],
   "source": [
    "0.1 ≈ (0.1 - 1e-10)"
   ]
  },
  {
   "cell_type": "code",
   "execution_count": 13,
   "metadata": {},
   "outputs": [
    {
     "data": {
      "text/plain": [
       "true"
      ]
     },
     "execution_count": 13,
     "metadata": {},
     "output_type": "execute_result"
    }
   ],
   "source": [
    "isapprox(10, 11; atol = 2)"
   ]
  },
  {
   "cell_type": "code",
   "execution_count": 14,
   "metadata": {},
   "outputs": [
    {
     "data": {
      "text/plain": [
       "true"
      ]
     },
     "execution_count": 14,
     "metadata": {},
     "output_type": "execute_result"
    }
   ],
   "source": [
    "isapprox([10.0^9, 1.0], [10.0^9, 2.0])"
   ]
  },
  {
   "cell_type": "code",
   "execution_count": 15,
   "metadata": {},
   "outputs": [
    {
     "data": {
      "text/plain": [
       "false"
      ]
     },
     "execution_count": 15,
     "metadata": {},
     "output_type": "execute_result"
    }
   ],
   "source": [
    "1e-10 ≈ 0"
   ]
  },
  {
   "cell_type": "code",
   "execution_count": 16,
   "metadata": {},
   "outputs": [
    {
     "data": {
      "text/plain": [
       "true"
      ]
     },
     "execution_count": 16,
     "metadata": {},
     "output_type": "execute_result"
    }
   ],
   "source": [
    "isapprox(1e-10, 0, atol=1e-8)"
   ]
  },
  {
   "cell_type": "markdown",
   "metadata": {},
   "source": [
    "We can now benchmark the C code directly from Julia:"
   ]
  },
  {
   "cell_type": "code",
   "execution_count": 17,
   "metadata": {},
   "outputs": [
    {
     "data": {
      "text/plain": [
       "BenchmarkTools.Trial: \n",
       "  memory estimate:  0 bytes\n",
       "  allocs estimate:  0\n",
       "  --------------\n",
       "  minimum time:     9.555 ms (0.00% GC)\n",
       "  median time:      9.872 ms (0.00% GC)\n",
       "  mean time:        10.204 ms (0.00% GC)\n",
       "  maximum time:     14.675 ms (0.00% GC)\n",
       "  --------------\n",
       "  samples:          490\n",
       "  evals/sample:     1"
      ]
     },
     "execution_count": 17,
     "metadata": {},
     "output_type": "execute_result"
    }
   ],
   "source": [
    "c_bench = @benchmark c_sum($a)"
   ]
  },
  {
   "cell_type": "markdown",
   "metadata": {},
   "source": [
    "We'll collect all the results in a dictionary"
   ]
  },
  {
   "cell_type": "code",
   "execution_count": 18,
   "metadata": {},
   "outputs": [
    {
     "data": {
      "text/plain": [
       "Dict{Any,Any} with 1 entry:\n",
       "  \"C\" => 9.555"
      ]
     },
     "execution_count": 18,
     "metadata": {},
     "output_type": "execute_result"
    }
   ],
   "source": [
    "d = Dict()  # a \"dictionary\", i.e. an associative array\n",
    "d[\"C\"] = minimum(c_bench.times) / 1e6  # in milliseconds\n",
    "d"
   ]
  },
  {
   "cell_type": "markdown",
   "metadata": {},
   "source": [
    "It's worth noting that benchmarking on a computer can be tricky as can been seen\n",
    "from a histogram of the timings"
   ]
  },
  {
   "cell_type": "code",
   "execution_count": 19,
   "metadata": {},
   "outputs": [
    {
     "data": {
      "image/svg+xml": [
       "<?xml version=\"1.0\" encoding=\"utf-8\"?>\n",
       "<svg xmlns=\"http://www.w3.org/2000/svg\" xmlns:xlink=\"http://www.w3.org/1999/xlink\" width=\"600\" height=\"400\" viewBox=\"0 0 2400 1600\">\n",
       "<defs>\n",
       "  <clipPath id=\"clip4800\">\n",
       "    <rect x=\"0\" y=\"0\" width=\"2400\" height=\"1600\"/>\n",
       "  </clipPath>\n",
       "</defs>\n",
       "<polygon clip-path=\"url(#clip4800)\" points=\"\n",
       "0,1600 2400,1600 2400,0 0,0 \n",
       "  \" fill=\"#ffffff\" fill-rule=\"evenodd\" fill-opacity=\"1\"/>\n",
       "<defs>\n",
       "  <clipPath id=\"clip4801\">\n",
       "    <rect x=\"480\" y=\"0\" width=\"1681\" height=\"1600\"/>\n",
       "  </clipPath>\n",
       "</defs>\n",
       "<polygon clip-path=\"url(#clip4800)\" points=\"\n",
       "211.005,1440.48 2321.26,1440.48 2321.26,47.2441 211.005,47.2441 \n",
       "  \" fill=\"#ffffff\" fill-rule=\"evenodd\" fill-opacity=\"1\"/>\n",
       "<defs>\n",
       "  <clipPath id=\"clip4802\">\n",
       "    <rect x=\"211\" y=\"47\" width=\"2111\" height=\"1394\"/>\n",
       "  </clipPath>\n",
       "</defs>\n",
       "<polyline clip-path=\"url(#clip4802)\" style=\"stroke:#000000; stroke-width:2; stroke-opacity:0.1; fill:none\" points=\"\n",
       "  491.18,1440.48 491.18,47.2441 \n",
       "  \"/>\n",
       "<polyline clip-path=\"url(#clip4802)\" style=\"stroke:#000000; stroke-width:2; stroke-opacity:0.1; fill:none\" points=\"\n",
       "  855.864,1440.48 855.864,47.2441 \n",
       "  \"/>\n",
       "<polyline clip-path=\"url(#clip4802)\" style=\"stroke:#000000; stroke-width:2; stroke-opacity:0.1; fill:none\" points=\"\n",
       "  1220.55,1440.48 1220.55,47.2441 \n",
       "  \"/>\n",
       "<polyline clip-path=\"url(#clip4802)\" style=\"stroke:#000000; stroke-width:2; stroke-opacity:0.1; fill:none\" points=\"\n",
       "  1585.23,1440.48 1585.23,47.2441 \n",
       "  \"/>\n",
       "<polyline clip-path=\"url(#clip4802)\" style=\"stroke:#000000; stroke-width:2; stroke-opacity:0.1; fill:none\" points=\"\n",
       "  1949.91,1440.48 1949.91,47.2441 \n",
       "  \"/>\n",
       "<polyline clip-path=\"url(#clip4802)\" style=\"stroke:#000000; stroke-width:2; stroke-opacity:0.1; fill:none\" points=\"\n",
       "  2314.6,1440.48 2314.6,47.2441 \n",
       "  \"/>\n",
       "<polyline clip-path=\"url(#clip4802)\" style=\"stroke:#000000; stroke-width:2; stroke-opacity:0.1; fill:none\" points=\"\n",
       "  211.005,1401.05 2321.26,1401.05 \n",
       "  \"/>\n",
       "<polyline clip-path=\"url(#clip4802)\" style=\"stroke:#000000; stroke-width:2; stroke-opacity:0.1; fill:none\" points=\"\n",
       "  211.005,1124.34 2321.26,1124.34 \n",
       "  \"/>\n",
       "<polyline clip-path=\"url(#clip4802)\" style=\"stroke:#000000; stroke-width:2; stroke-opacity:0.1; fill:none\" points=\"\n",
       "  211.005,847.63 2321.26,847.63 \n",
       "  \"/>\n",
       "<polyline clip-path=\"url(#clip4802)\" style=\"stroke:#000000; stroke-width:2; stroke-opacity:0.1; fill:none\" points=\"\n",
       "  211.005,570.919 2321.26,570.919 \n",
       "  \"/>\n",
       "<polyline clip-path=\"url(#clip4802)\" style=\"stroke:#000000; stroke-width:2; stroke-opacity:0.1; fill:none\" points=\"\n",
       "  211.005,294.208 2321.26,294.208 \n",
       "  \"/>\n",
       "<polyline clip-path=\"url(#clip4800)\" style=\"stroke:#000000; stroke-width:4; stroke-opacity:1; fill:none\" points=\"\n",
       "  211.005,1440.48 2321.26,1440.48 \n",
       "  \"/>\n",
       "<polyline clip-path=\"url(#clip4800)\" style=\"stroke:#000000; stroke-width:4; stroke-opacity:1; fill:none\" points=\"\n",
       "  211.005,1440.48 211.005,47.2441 \n",
       "  \"/>\n",
       "<polyline clip-path=\"url(#clip4800)\" style=\"stroke:#000000; stroke-width:4; stroke-opacity:1; fill:none\" points=\"\n",
       "  491.18,1440.48 491.18,1419.58 \n",
       "  \"/>\n",
       "<polyline clip-path=\"url(#clip4800)\" style=\"stroke:#000000; stroke-width:4; stroke-opacity:1; fill:none\" points=\"\n",
       "  855.864,1440.48 855.864,1419.58 \n",
       "  \"/>\n",
       "<polyline clip-path=\"url(#clip4800)\" style=\"stroke:#000000; stroke-width:4; stroke-opacity:1; fill:none\" points=\"\n",
       "  1220.55,1440.48 1220.55,1419.58 \n",
       "  \"/>\n",
       "<polyline clip-path=\"url(#clip4800)\" style=\"stroke:#000000; stroke-width:4; stroke-opacity:1; fill:none\" points=\"\n",
       "  1585.23,1440.48 1585.23,1419.58 \n",
       "  \"/>\n",
       "<polyline clip-path=\"url(#clip4800)\" style=\"stroke:#000000; stroke-width:4; stroke-opacity:1; fill:none\" points=\"\n",
       "  1949.91,1440.48 1949.91,1419.58 \n",
       "  \"/>\n",
       "<polyline clip-path=\"url(#clip4800)\" style=\"stroke:#000000; stroke-width:4; stroke-opacity:1; fill:none\" points=\"\n",
       "  2314.6,1440.48 2314.6,1419.58 \n",
       "  \"/>\n",
       "<polyline clip-path=\"url(#clip4800)\" style=\"stroke:#000000; stroke-width:4; stroke-opacity:1; fill:none\" points=\"\n",
       "  211.005,1401.05 242.659,1401.05 \n",
       "  \"/>\n",
       "<polyline clip-path=\"url(#clip4800)\" style=\"stroke:#000000; stroke-width:4; stroke-opacity:1; fill:none\" points=\"\n",
       "  211.005,1124.34 242.659,1124.34 \n",
       "  \"/>\n",
       "<polyline clip-path=\"url(#clip4800)\" style=\"stroke:#000000; stroke-width:4; stroke-opacity:1; fill:none\" points=\"\n",
       "  211.005,847.63 242.659,847.63 \n",
       "  \"/>\n",
       "<polyline clip-path=\"url(#clip4800)\" style=\"stroke:#000000; stroke-width:4; stroke-opacity:1; fill:none\" points=\"\n",
       "  211.005,570.919 242.659,570.919 \n",
       "  \"/>\n",
       "<polyline clip-path=\"url(#clip4800)\" style=\"stroke:#000000; stroke-width:4; stroke-opacity:1; fill:none\" points=\"\n",
       "  211.005,294.208 242.659,294.208 \n",
       "  \"/>\n",
       "<g clip-path=\"url(#clip4800)\">\n",
       "<text style=\"fill:#000000; fill-opacity:1; font-family:Arial,Helvetica Neue,Helvetica,sans-serif; font-size:48px; text-anchor:middle;\" transform=\"rotate(0, 491.18, 1494.48)\" x=\"491.18\" y=\"1494.48\">10</text>\n",
       "</g>\n",
       "<g clip-path=\"url(#clip4800)\">\n",
       "<text style=\"fill:#000000; fill-opacity:1; font-family:Arial,Helvetica Neue,Helvetica,sans-serif; font-size:48px; text-anchor:middle;\" transform=\"rotate(0, 855.864, 1494.48)\" x=\"855.864\" y=\"1494.48\">11</text>\n",
       "</g>\n",
       "<g clip-path=\"url(#clip4800)\">\n",
       "<text style=\"fill:#000000; fill-opacity:1; font-family:Arial,Helvetica Neue,Helvetica,sans-serif; font-size:48px; text-anchor:middle;\" transform=\"rotate(0, 1220.55, 1494.48)\" x=\"1220.55\" y=\"1494.48\">12</text>\n",
       "</g>\n",
       "<g clip-path=\"url(#clip4800)\">\n",
       "<text style=\"fill:#000000; fill-opacity:1; font-family:Arial,Helvetica Neue,Helvetica,sans-serif; font-size:48px; text-anchor:middle;\" transform=\"rotate(0, 1585.23, 1494.48)\" x=\"1585.23\" y=\"1494.48\">13</text>\n",
       "</g>\n",
       "<g clip-path=\"url(#clip4800)\">\n",
       "<text style=\"fill:#000000; fill-opacity:1; font-family:Arial,Helvetica Neue,Helvetica,sans-serif; font-size:48px; text-anchor:middle;\" transform=\"rotate(0, 1949.91, 1494.48)\" x=\"1949.91\" y=\"1494.48\">14</text>\n",
       "</g>\n",
       "<g clip-path=\"url(#clip4800)\">\n",
       "<text style=\"fill:#000000; fill-opacity:1; font-family:Arial,Helvetica Neue,Helvetica,sans-serif; font-size:48px; text-anchor:middle;\" transform=\"rotate(0, 2314.6, 1494.48)\" x=\"2314.6\" y=\"1494.48\">15</text>\n",
       "</g>\n",
       "<g clip-path=\"url(#clip4800)\">\n",
       "<text style=\"fill:#000000; fill-opacity:1; font-family:Arial,Helvetica Neue,Helvetica,sans-serif; font-size:48px; text-anchor:end;\" transform=\"rotate(0, 187.005, 1418.55)\" x=\"187.005\" y=\"1418.55\">0</text>\n",
       "</g>\n",
       "<g clip-path=\"url(#clip4800)\">\n",
       "<text style=\"fill:#000000; fill-opacity:1; font-family:Arial,Helvetica Neue,Helvetica,sans-serif; font-size:48px; text-anchor:end;\" transform=\"rotate(0, 187.005, 1141.84)\" x=\"187.005\" y=\"1141.84\">20</text>\n",
       "</g>\n",
       "<g clip-path=\"url(#clip4800)\">\n",
       "<text style=\"fill:#000000; fill-opacity:1; font-family:Arial,Helvetica Neue,Helvetica,sans-serif; font-size:48px; text-anchor:end;\" transform=\"rotate(0, 187.005, 865.13)\" x=\"187.005\" y=\"865.13\">40</text>\n",
       "</g>\n",
       "<g clip-path=\"url(#clip4800)\">\n",
       "<text style=\"fill:#000000; fill-opacity:1; font-family:Arial,Helvetica Neue,Helvetica,sans-serif; font-size:48px; text-anchor:end;\" transform=\"rotate(0, 187.005, 588.419)\" x=\"187.005\" y=\"588.419\">60</text>\n",
       "</g>\n",
       "<g clip-path=\"url(#clip4800)\">\n",
       "<text style=\"fill:#000000; fill-opacity:1; font-family:Arial,Helvetica Neue,Helvetica,sans-serif; font-size:48px; text-anchor:end;\" transform=\"rotate(0, 187.005, 311.708)\" x=\"187.005\" y=\"311.708\">80</text>\n",
       "</g>\n",
       "<g clip-path=\"url(#clip4800)\">\n",
       "<text style=\"fill:#000000; fill-opacity:1; font-family:Arial,Helvetica Neue,Helvetica,sans-serif; font-size:66px; text-anchor:middle;\" transform=\"rotate(0, 1266.13, 1590.4)\" x=\"1266.13\" y=\"1590.4\">milliseconds</text>\n",
       "</g>\n",
       "<g clip-path=\"url(#clip4800)\">\n",
       "<text style=\"fill:#000000; fill-opacity:1; font-family:Arial,Helvetica Neue,Helvetica,sans-serif; font-size:66px; text-anchor:middle;\" transform=\"rotate(-90, 57.6, 743.863)\" x=\"57.6\" y=\"743.863\">count</text>\n",
       "</g>\n",
       "<polygon clip-path=\"url(#clip4802)\" points=\"\n",
       "327.073,1096.67 327.073,1401.05 345.307,1401.05 345.307,1096.67 327.073,1096.67 327.073,1096.67 \n",
       "  \" fill=\"#009af9\" fill-rule=\"evenodd\" fill-opacity=\"1\"/>\n",
       "<polyline clip-path=\"url(#clip4802)\" style=\"stroke:#000000; stroke-width:4; stroke-opacity:1; fill:none\" points=\"\n",
       "  327.073,1096.67 327.073,1401.05 345.307,1401.05 345.307,1096.67 327.073,1096.67 \n",
       "  \"/>\n",
       "<polygon clip-path=\"url(#clip4802)\" points=\"\n",
       "345.307,1165.85 345.307,1401.05 363.541,1401.05 363.541,1165.85 345.307,1165.85 345.307,1165.85 \n",
       "  \" fill=\"#009af9\" fill-rule=\"evenodd\" fill-opacity=\"1\"/>\n",
       "<polyline clip-path=\"url(#clip4802)\" style=\"stroke:#000000; stroke-width:4; stroke-opacity:1; fill:none\" points=\"\n",
       "  345.307,1165.85 345.307,1401.05 363.541,1401.05 363.541,1165.85 345.307,1165.85 \n",
       "  \"/>\n",
       "<polygon clip-path=\"url(#clip4802)\" points=\"\n",
       "363.541,985.985 363.541,1401.05 381.775,1401.05 381.775,985.985 363.541,985.985 363.541,985.985 \n",
       "  \" fill=\"#009af9\" fill-rule=\"evenodd\" fill-opacity=\"1\"/>\n",
       "<polyline clip-path=\"url(#clip4802)\" style=\"stroke:#000000; stroke-width:4; stroke-opacity:1; fill:none\" points=\"\n",
       "  363.541,985.985 363.541,1401.05 381.775,1401.05 381.775,985.985 363.541,985.985 \n",
       "  \"/>\n",
       "<polygon clip-path=\"url(#clip4802)\" points=\"\n",
       "381.775,1138.18 381.775,1401.05 400.009,1401.05 400.009,1138.18 381.775,1138.18 381.775,1138.18 \n",
       "  \" fill=\"#009af9\" fill-rule=\"evenodd\" fill-opacity=\"1\"/>\n",
       "<polyline clip-path=\"url(#clip4802)\" style=\"stroke:#000000; stroke-width:4; stroke-opacity:1; fill:none\" points=\"\n",
       "  381.775,1138.18 381.775,1401.05 400.009,1401.05 400.009,1138.18 381.775,1138.18 \n",
       "  \"/>\n",
       "<polygon clip-path=\"url(#clip4802)\" points=\"\n",
       "400.009,86.6754 400.009,1401.05 418.244,1401.05 418.244,86.6754 400.009,86.6754 400.009,86.6754 \n",
       "  \" fill=\"#009af9\" fill-rule=\"evenodd\" fill-opacity=\"1\"/>\n",
       "<polyline clip-path=\"url(#clip4802)\" style=\"stroke:#000000; stroke-width:4; stroke-opacity:1; fill:none\" points=\"\n",
       "  400.009,86.6754 400.009,1401.05 418.244,1401.05 418.244,86.6754 400.009,86.6754 \n",
       "  \"/>\n",
       "<polygon clip-path=\"url(#clip4802)\" points=\"\n",
       "418.244,723.11 418.244,1401.05 436.478,1401.05 436.478,723.11 418.244,723.11 418.244,723.11 \n",
       "  \" fill=\"#009af9\" fill-rule=\"evenodd\" fill-opacity=\"1\"/>\n",
       "<polyline clip-path=\"url(#clip4802)\" style=\"stroke:#000000; stroke-width:4; stroke-opacity:1; fill:none\" points=\"\n",
       "  418.244,723.11 418.244,1401.05 436.478,1401.05 436.478,723.11 418.244,723.11 \n",
       "  \"/>\n",
       "<polygon clip-path=\"url(#clip4802)\" points=\"\n",
       "436.478,944.479 436.478,1401.05 454.712,1401.05 454.712,944.479 436.478,944.479 436.478,944.479 \n",
       "  \" fill=\"#009af9\" fill-rule=\"evenodd\" fill-opacity=\"1\"/>\n",
       "<polyline clip-path=\"url(#clip4802)\" style=\"stroke:#000000; stroke-width:4; stroke-opacity:1; fill:none\" points=\"\n",
       "  436.478,944.479 436.478,1401.05 454.712,1401.05 454.712,944.479 436.478,944.479 \n",
       "  \"/>\n",
       "<polygon clip-path=\"url(#clip4802)\" points=\"\n",
       "454.712,1221.19 454.712,1401.05 472.946,1401.05 472.946,1221.19 454.712,1221.19 454.712,1221.19 \n",
       "  \" fill=\"#009af9\" fill-rule=\"evenodd\" fill-opacity=\"1\"/>\n",
       "<polyline clip-path=\"url(#clip4802)\" style=\"stroke:#000000; stroke-width:4; stroke-opacity:1; fill:none\" points=\"\n",
       "  454.712,1221.19 454.712,1401.05 472.946,1401.05 472.946,1221.19 454.712,1221.19 \n",
       "  \"/>\n",
       "<polygon clip-path=\"url(#clip4802)\" points=\"\n",
       "472.946,1138.18 472.946,1401.05 491.18,1401.05 491.18,1138.18 472.946,1138.18 472.946,1138.18 \n",
       "  \" fill=\"#009af9\" fill-rule=\"evenodd\" fill-opacity=\"1\"/>\n",
       "<polyline clip-path=\"url(#clip4802)\" style=\"stroke:#000000; stroke-width:4; stroke-opacity:1; fill:none\" points=\"\n",
       "  472.946,1138.18 472.946,1401.05 491.18,1401.05 491.18,1138.18 472.946,1138.18 \n",
       "  \"/>\n",
       "<polygon clip-path=\"url(#clip4802)\" points=\"\n",
       "491.18,847.63 491.18,1401.05 509.414,1401.05 509.414,847.63 491.18,847.63 491.18,847.63 \n",
       "  \" fill=\"#009af9\" fill-rule=\"evenodd\" fill-opacity=\"1\"/>\n",
       "<polyline clip-path=\"url(#clip4802)\" style=\"stroke:#000000; stroke-width:4; stroke-opacity:1; fill:none\" points=\"\n",
       "  491.18,847.63 491.18,1401.05 509.414,1401.05 509.414,847.63 491.18,847.63 \n",
       "  \"/>\n",
       "<polygon clip-path=\"url(#clip4802)\" points=\"\n",
       "509.414,1152.01 509.414,1401.05 527.649,1401.05 527.649,1152.01 509.414,1152.01 509.414,1152.01 \n",
       "  \" fill=\"#009af9\" fill-rule=\"evenodd\" fill-opacity=\"1\"/>\n",
       "<polyline clip-path=\"url(#clip4802)\" style=\"stroke:#000000; stroke-width:4; stroke-opacity:1; fill:none\" points=\"\n",
       "  509.414,1152.01 509.414,1401.05 527.649,1401.05 527.649,1152.01 509.414,1152.01 \n",
       "  \"/>\n",
       "<polygon clip-path=\"url(#clip4802)\" points=\"\n",
       "527.649,1262.7 527.649,1401.05 545.883,1401.05 545.883,1262.7 527.649,1262.7 527.649,1262.7 \n",
       "  \" fill=\"#009af9\" fill-rule=\"evenodd\" fill-opacity=\"1\"/>\n",
       "<polyline clip-path=\"url(#clip4802)\" style=\"stroke:#000000; stroke-width:4; stroke-opacity:1; fill:none\" points=\"\n",
       "  527.649,1262.7 527.649,1401.05 545.883,1401.05 545.883,1262.7 527.649,1262.7 \n",
       "  \"/>\n",
       "<polygon clip-path=\"url(#clip4802)\" points=\"\n",
       "545.883,1290.37 545.883,1401.05 564.117,1401.05 564.117,1290.37 545.883,1290.37 545.883,1290.37 \n",
       "  \" fill=\"#009af9\" fill-rule=\"evenodd\" fill-opacity=\"1\"/>\n",
       "<polyline clip-path=\"url(#clip4802)\" style=\"stroke:#000000; stroke-width:4; stroke-opacity:1; fill:none\" points=\"\n",
       "  545.883,1290.37 545.883,1401.05 564.117,1401.05 564.117,1290.37 545.883,1290.37 \n",
       "  \"/>\n",
       "<polygon clip-path=\"url(#clip4802)\" points=\"\n",
       "564.117,1276.53 564.117,1401.05 582.351,1401.05 582.351,1276.53 564.117,1276.53 564.117,1276.53 \n",
       "  \" fill=\"#009af9\" fill-rule=\"evenodd\" fill-opacity=\"1\"/>\n",
       "<polyline clip-path=\"url(#clip4802)\" style=\"stroke:#000000; stroke-width:4; stroke-opacity:1; fill:none\" points=\"\n",
       "  564.117,1276.53 564.117,1401.05 582.351,1401.05 582.351,1276.53 564.117,1276.53 \n",
       "  \"/>\n",
       "<polygon clip-path=\"url(#clip4802)\" points=\"\n",
       "582.351,1331.87 582.351,1401.05 600.585,1401.05 600.585,1331.87 582.351,1331.87 582.351,1331.87 \n",
       "  \" fill=\"#009af9\" fill-rule=\"evenodd\" fill-opacity=\"1\"/>\n",
       "<polyline clip-path=\"url(#clip4802)\" style=\"stroke:#000000; stroke-width:4; stroke-opacity:1; fill:none\" points=\"\n",
       "  582.351,1331.87 582.351,1401.05 600.585,1401.05 600.585,1331.87 582.351,1331.87 \n",
       "  \"/>\n",
       "<polygon clip-path=\"url(#clip4802)\" points=\"\n",
       "600.585,1331.87 600.585,1401.05 618.819,1401.05 618.819,1331.87 600.585,1331.87 600.585,1331.87 \n",
       "  \" fill=\"#009af9\" fill-rule=\"evenodd\" fill-opacity=\"1\"/>\n",
       "<polyline clip-path=\"url(#clip4802)\" style=\"stroke:#000000; stroke-width:4; stroke-opacity:1; fill:none\" points=\"\n",
       "  600.585,1331.87 600.585,1401.05 618.819,1401.05 618.819,1331.87 600.585,1331.87 \n",
       "  \"/>\n",
       "<polygon clip-path=\"url(#clip4802)\" points=\"\n",
       "618.819,1331.87 618.819,1401.05 637.054,1401.05 637.054,1331.87 618.819,1331.87 618.819,1331.87 \n",
       "  \" fill=\"#009af9\" fill-rule=\"evenodd\" fill-opacity=\"1\"/>\n",
       "<polyline clip-path=\"url(#clip4802)\" style=\"stroke:#000000; stroke-width:4; stroke-opacity:1; fill:none\" points=\"\n",
       "  618.819,1331.87 618.819,1401.05 637.054,1401.05 637.054,1331.87 618.819,1331.87 \n",
       "  \"/>\n",
       "<polygon clip-path=\"url(#clip4802)\" points=\"\n",
       "637.054,1345.71 637.054,1401.05 655.288,1401.05 655.288,1345.71 637.054,1345.71 637.054,1345.71 \n",
       "  \" fill=\"#009af9\" fill-rule=\"evenodd\" fill-opacity=\"1\"/>\n",
       "<polyline clip-path=\"url(#clip4802)\" style=\"stroke:#000000; stroke-width:4; stroke-opacity:1; fill:none\" points=\"\n",
       "  637.054,1345.71 637.054,1401.05 655.288,1401.05 655.288,1345.71 637.054,1345.71 \n",
       "  \"/>\n",
       "<polygon clip-path=\"url(#clip4802)\" points=\"\n",
       "655.288,1359.54 655.288,1401.05 673.522,1401.05 673.522,1359.54 655.288,1359.54 655.288,1359.54 \n",
       "  \" fill=\"#009af9\" fill-rule=\"evenodd\" fill-opacity=\"1\"/>\n",
       "<polyline clip-path=\"url(#clip4802)\" style=\"stroke:#000000; stroke-width:4; stroke-opacity:1; fill:none\" points=\"\n",
       "  655.288,1359.54 655.288,1401.05 673.522,1401.05 673.522,1359.54 655.288,1359.54 \n",
       "  \"/>\n",
       "<polygon clip-path=\"url(#clip4802)\" points=\"\n",
       "673.522,1373.38 673.522,1401.05 691.756,1401.05 691.756,1373.38 673.522,1373.38 673.522,1373.38 \n",
       "  \" fill=\"#009af9\" fill-rule=\"evenodd\" fill-opacity=\"1\"/>\n",
       "<polyline clip-path=\"url(#clip4802)\" style=\"stroke:#000000; stroke-width:4; stroke-opacity:1; fill:none\" points=\"\n",
       "  673.522,1373.38 673.522,1401.05 691.756,1401.05 691.756,1373.38 673.522,1373.38 \n",
       "  \"/>\n",
       "<polygon clip-path=\"url(#clip4802)\" points=\"\n",
       "691.756,1387.22 691.756,1401.05 709.99,1401.05 709.99,1387.22 691.756,1387.22 691.756,1387.22 \n",
       "  \" fill=\"#009af9\" fill-rule=\"evenodd\" fill-opacity=\"1\"/>\n",
       "<polyline clip-path=\"url(#clip4802)\" style=\"stroke:#000000; stroke-width:4; stroke-opacity:1; fill:none\" points=\"\n",
       "  691.756,1387.22 691.756,1401.05 709.99,1401.05 709.99,1387.22 691.756,1387.22 \n",
       "  \"/>\n",
       "<polygon clip-path=\"url(#clip4802)\" points=\"\n",
       "709.99,1373.38 709.99,1401.05 728.224,1401.05 728.224,1373.38 709.99,1373.38 709.99,1373.38 \n",
       "  \" fill=\"#009af9\" fill-rule=\"evenodd\" fill-opacity=\"1\"/>\n",
       "<polyline clip-path=\"url(#clip4802)\" style=\"stroke:#000000; stroke-width:4; stroke-opacity:1; fill:none\" points=\"\n",
       "  709.99,1373.38 709.99,1401.05 728.224,1401.05 728.224,1373.38 709.99,1373.38 \n",
       "  \"/>\n",
       "<polygon clip-path=\"url(#clip4802)\" points=\"\n",
       "728.224,1387.22 728.224,1401.05 746.459,1401.05 746.459,1387.22 728.224,1387.22 728.224,1387.22 \n",
       "  \" fill=\"#009af9\" fill-rule=\"evenodd\" fill-opacity=\"1\"/>\n",
       "<polyline clip-path=\"url(#clip4802)\" style=\"stroke:#000000; stroke-width:4; stroke-opacity:1; fill:none\" points=\"\n",
       "  728.224,1387.22 728.224,1401.05 746.459,1401.05 746.459,1387.22 728.224,1387.22 \n",
       "  \"/>\n",
       "<polygon clip-path=\"url(#clip4802)\" points=\"\n",
       "746.459,1387.22 746.459,1401.05 764.693,1401.05 764.693,1387.22 746.459,1387.22 746.459,1387.22 \n",
       "  \" fill=\"#009af9\" fill-rule=\"evenodd\" fill-opacity=\"1\"/>\n",
       "<polyline clip-path=\"url(#clip4802)\" style=\"stroke:#000000; stroke-width:4; stroke-opacity:1; fill:none\" points=\"\n",
       "  746.459,1387.22 746.459,1401.05 764.693,1401.05 764.693,1387.22 746.459,1387.22 \n",
       "  \"/>\n",
       "<polygon clip-path=\"url(#clip4802)\" points=\"\n",
       "764.693,1387.22 764.693,1401.05 782.927,1401.05 782.927,1387.22 764.693,1387.22 764.693,1387.22 \n",
       "  \" fill=\"#009af9\" fill-rule=\"evenodd\" fill-opacity=\"1\"/>\n",
       "<polyline clip-path=\"url(#clip4802)\" style=\"stroke:#000000; stroke-width:4; stroke-opacity:1; fill:none\" points=\"\n",
       "  764.693,1387.22 764.693,1401.05 782.927,1401.05 782.927,1387.22 764.693,1387.22 \n",
       "  \"/>\n",
       "<polygon clip-path=\"url(#clip4802)\" points=\"\n",
       "782.927,1373.38 782.927,1401.05 801.161,1401.05 801.161,1373.38 782.927,1373.38 782.927,1373.38 \n",
       "  \" fill=\"#009af9\" fill-rule=\"evenodd\" fill-opacity=\"1\"/>\n",
       "<polyline clip-path=\"url(#clip4802)\" style=\"stroke:#000000; stroke-width:4; stroke-opacity:1; fill:none\" points=\"\n",
       "  782.927,1373.38 782.927,1401.05 801.161,1401.05 801.161,1373.38 782.927,1373.38 \n",
       "  \"/>\n",
       "<polygon clip-path=\"url(#clip4802)\" points=\"\n",
       "801.161,1373.38 801.161,1401.05 819.395,1401.05 819.395,1373.38 801.161,1373.38 801.161,1373.38 \n",
       "  \" fill=\"#009af9\" fill-rule=\"evenodd\" fill-opacity=\"1\"/>\n",
       "<polyline clip-path=\"url(#clip4802)\" style=\"stroke:#000000; stroke-width:4; stroke-opacity:1; fill:none\" points=\"\n",
       "  801.161,1373.38 801.161,1401.05 819.395,1401.05 819.395,1373.38 801.161,1373.38 \n",
       "  \"/>\n",
       "<polygon clip-path=\"url(#clip4802)\" points=\"\n",
       "819.395,1373.38 819.395,1401.05 837.629,1401.05 837.629,1373.38 819.395,1373.38 819.395,1373.38 \n",
       "  \" fill=\"#009af9\" fill-rule=\"evenodd\" fill-opacity=\"1\"/>\n",
       "<polyline clip-path=\"url(#clip4802)\" style=\"stroke:#000000; stroke-width:4; stroke-opacity:1; fill:none\" points=\"\n",
       "  819.395,1373.38 819.395,1401.05 837.629,1401.05 837.629,1373.38 819.395,1373.38 \n",
       "  \"/>\n",
       "<polygon clip-path=\"url(#clip4802)\" points=\"\n",
       "837.629,1387.22 837.629,1401.05 855.864,1401.05 855.864,1387.22 837.629,1387.22 837.629,1387.22 \n",
       "  \" fill=\"#009af9\" fill-rule=\"evenodd\" fill-opacity=\"1\"/>\n",
       "<polyline clip-path=\"url(#clip4802)\" style=\"stroke:#000000; stroke-width:4; stroke-opacity:1; fill:none\" points=\"\n",
       "  837.629,1387.22 837.629,1401.05 855.864,1401.05 855.864,1387.22 837.629,1387.22 \n",
       "  \"/>\n",
       "<polygon clip-path=\"url(#clip4802)\" points=\"\n",
       "855.864,1387.22 855.864,1401.05 874.098,1401.05 874.098,1387.22 855.864,1387.22 855.864,1387.22 \n",
       "  \" fill=\"#009af9\" fill-rule=\"evenodd\" fill-opacity=\"1\"/>\n",
       "<polyline clip-path=\"url(#clip4802)\" style=\"stroke:#000000; stroke-width:4; stroke-opacity:1; fill:none\" points=\"\n",
       "  855.864,1387.22 855.864,1401.05 874.098,1401.05 874.098,1387.22 855.864,1387.22 \n",
       "  \"/>\n",
       "<polygon clip-path=\"url(#clip4802)\" points=\"\n",
       "874.098,1401.05 874.098,1401.05 892.332,1401.05 892.332,1401.05 874.098,1401.05 874.098,1401.05 \n",
       "  \" fill=\"#009af9\" fill-rule=\"evenodd\" fill-opacity=\"1\"/>\n",
       "<polyline clip-path=\"url(#clip4802)\" style=\"stroke:#000000; stroke-width:4; stroke-opacity:1; fill:none\" points=\"\n",
       "  874.098,1401.05 874.098,1401.05 892.332,1401.05 874.098,1401.05 \n",
       "  \"/>\n",
       "<polygon clip-path=\"url(#clip4802)\" points=\"\n",
       "892.332,1387.22 892.332,1401.05 910.566,1401.05 910.566,1387.22 892.332,1387.22 892.332,1387.22 \n",
       "  \" fill=\"#009af9\" fill-rule=\"evenodd\" fill-opacity=\"1\"/>\n",
       "<polyline clip-path=\"url(#clip4802)\" style=\"stroke:#000000; stroke-width:4; stroke-opacity:1; fill:none\" points=\"\n",
       "  892.332,1387.22 892.332,1401.05 910.566,1401.05 910.566,1387.22 892.332,1387.22 \n",
       "  \"/>\n",
       "<polygon clip-path=\"url(#clip4802)\" points=\"\n",
       "910.566,1387.22 910.566,1401.05 928.8,1401.05 928.8,1387.22 910.566,1387.22 910.566,1387.22 \n",
       "  \" fill=\"#009af9\" fill-rule=\"evenodd\" fill-opacity=\"1\"/>\n",
       "<polyline clip-path=\"url(#clip4802)\" style=\"stroke:#000000; stroke-width:4; stroke-opacity:1; fill:none\" points=\"\n",
       "  910.566,1387.22 910.566,1401.05 928.8,1401.05 928.8,1387.22 910.566,1387.22 \n",
       "  \"/>\n",
       "<polygon clip-path=\"url(#clip4802)\" points=\"\n",
       "928.8,1373.38 928.8,1401.05 947.034,1401.05 947.034,1373.38 928.8,1373.38 928.8,1373.38 \n",
       "  \" fill=\"#009af9\" fill-rule=\"evenodd\" fill-opacity=\"1\"/>\n",
       "<polyline clip-path=\"url(#clip4802)\" style=\"stroke:#000000; stroke-width:4; stroke-opacity:1; fill:none\" points=\"\n",
       "  928.8,1373.38 928.8,1401.05 947.034,1401.05 947.034,1373.38 928.8,1373.38 \n",
       "  \"/>\n",
       "<polygon clip-path=\"url(#clip4802)\" points=\"\n",
       "947.034,1401.05 947.034,1401.05 965.269,1401.05 965.269,1401.05 947.034,1401.05 947.034,1401.05 \n",
       "  \" fill=\"#009af9\" fill-rule=\"evenodd\" fill-opacity=\"1\"/>\n",
       "<polyline clip-path=\"url(#clip4802)\" style=\"stroke:#000000; stroke-width:4; stroke-opacity:1; fill:none\" points=\"\n",
       "  947.034,1401.05 947.034,1401.05 965.269,1401.05 947.034,1401.05 \n",
       "  \"/>\n",
       "<polygon clip-path=\"url(#clip4802)\" points=\"\n",
       "965.269,1401.05 965.269,1401.05 983.503,1401.05 983.503,1401.05 965.269,1401.05 965.269,1401.05 \n",
       "  \" fill=\"#009af9\" fill-rule=\"evenodd\" fill-opacity=\"1\"/>\n",
       "<polyline clip-path=\"url(#clip4802)\" style=\"stroke:#000000; stroke-width:4; stroke-opacity:1; fill:none\" points=\"\n",
       "  965.269,1401.05 965.269,1401.05 983.503,1401.05 965.269,1401.05 \n",
       "  \"/>\n",
       "<polygon clip-path=\"url(#clip4802)\" points=\"\n",
       "983.503,1373.38 983.503,1401.05 1001.74,1401.05 1001.74,1373.38 983.503,1373.38 983.503,1373.38 \n",
       "  \" fill=\"#009af9\" fill-rule=\"evenodd\" fill-opacity=\"1\"/>\n",
       "<polyline clip-path=\"url(#clip4802)\" style=\"stroke:#000000; stroke-width:4; stroke-opacity:1; fill:none\" points=\"\n",
       "  983.503,1373.38 983.503,1401.05 1001.74,1401.05 1001.74,1373.38 983.503,1373.38 \n",
       "  \"/>\n",
       "<polygon clip-path=\"url(#clip4802)\" points=\"\n",
       "1001.74,1401.05 1001.74,1401.05 1019.97,1401.05 1019.97,1401.05 1001.74,1401.05 1001.74,1401.05 \n",
       "  \" fill=\"#009af9\" fill-rule=\"evenodd\" fill-opacity=\"1\"/>\n",
       "<polyline clip-path=\"url(#clip4802)\" style=\"stroke:#000000; stroke-width:4; stroke-opacity:1; fill:none\" points=\"\n",
       "  1001.74,1401.05 1001.74,1401.05 1019.97,1401.05 1001.74,1401.05 \n",
       "  \"/>\n",
       "<polygon clip-path=\"url(#clip4802)\" points=\"\n",
       "1019.97,1401.05 1019.97,1401.05 1038.21,1401.05 1038.21,1401.05 1019.97,1401.05 1019.97,1401.05 \n",
       "  \" fill=\"#009af9\" fill-rule=\"evenodd\" fill-opacity=\"1\"/>\n",
       "<polyline clip-path=\"url(#clip4802)\" style=\"stroke:#000000; stroke-width:4; stroke-opacity:1; fill:none\" points=\"\n",
       "  1019.97,1401.05 1019.97,1401.05 1038.21,1401.05 1019.97,1401.05 \n",
       "  \"/>\n",
       "<polygon clip-path=\"url(#clip4802)\" points=\"\n",
       "1038.21,1401.05 1038.21,1401.05 1056.44,1401.05 1056.44,1401.05 1038.21,1401.05 1038.21,1401.05 \n",
       "  \" fill=\"#009af9\" fill-rule=\"evenodd\" fill-opacity=\"1\"/>\n",
       "<polyline clip-path=\"url(#clip4802)\" style=\"stroke:#000000; stroke-width:4; stroke-opacity:1; fill:none\" points=\"\n",
       "  1038.21,1401.05 1038.21,1401.05 1056.44,1401.05 1038.21,1401.05 \n",
       "  \"/>\n",
       "<polygon clip-path=\"url(#clip4802)\" points=\"\n",
       "1056.44,1331.87 1056.44,1401.05 1074.67,1401.05 1074.67,1331.87 1056.44,1331.87 1056.44,1331.87 \n",
       "  \" fill=\"#009af9\" fill-rule=\"evenodd\" fill-opacity=\"1\"/>\n",
       "<polyline clip-path=\"url(#clip4802)\" style=\"stroke:#000000; stroke-width:4; stroke-opacity:1; fill:none\" points=\"\n",
       "  1056.44,1331.87 1056.44,1401.05 1074.67,1401.05 1074.67,1331.87 1056.44,1331.87 \n",
       "  \"/>\n",
       "<polygon clip-path=\"url(#clip4802)\" points=\"\n",
       "1074.67,1373.38 1074.67,1401.05 1092.91,1401.05 1092.91,1373.38 1074.67,1373.38 1074.67,1373.38 \n",
       "  \" fill=\"#009af9\" fill-rule=\"evenodd\" fill-opacity=\"1\"/>\n",
       "<polyline clip-path=\"url(#clip4802)\" style=\"stroke:#000000; stroke-width:4; stroke-opacity:1; fill:none\" points=\"\n",
       "  1074.67,1373.38 1074.67,1401.05 1092.91,1401.05 1092.91,1373.38 1074.67,1373.38 \n",
       "  \"/>\n",
       "<polygon clip-path=\"url(#clip4802)\" points=\"\n",
       "1092.91,1345.71 1092.91,1401.05 1111.14,1401.05 1111.14,1345.71 1092.91,1345.71 1092.91,1345.71 \n",
       "  \" fill=\"#009af9\" fill-rule=\"evenodd\" fill-opacity=\"1\"/>\n",
       "<polyline clip-path=\"url(#clip4802)\" style=\"stroke:#000000; stroke-width:4; stroke-opacity:1; fill:none\" points=\"\n",
       "  1092.91,1345.71 1092.91,1401.05 1111.14,1401.05 1111.14,1345.71 1092.91,1345.71 \n",
       "  \"/>\n",
       "<polygon clip-path=\"url(#clip4802)\" points=\"\n",
       "1111.14,1262.7 1111.14,1401.05 1129.38,1401.05 1129.38,1262.7 1111.14,1262.7 1111.14,1262.7 \n",
       "  \" fill=\"#009af9\" fill-rule=\"evenodd\" fill-opacity=\"1\"/>\n",
       "<polyline clip-path=\"url(#clip4802)\" style=\"stroke:#000000; stroke-width:4; stroke-opacity:1; fill:none\" points=\"\n",
       "  1111.14,1262.7 1111.14,1401.05 1129.38,1401.05 1129.38,1262.7 1111.14,1262.7 \n",
       "  \"/>\n",
       "<polygon clip-path=\"url(#clip4802)\" points=\"\n",
       "1129.38,1193.52 1129.38,1401.05 1147.61,1401.05 1147.61,1193.52 1129.38,1193.52 1129.38,1193.52 \n",
       "  \" fill=\"#009af9\" fill-rule=\"evenodd\" fill-opacity=\"1\"/>\n",
       "<polyline clip-path=\"url(#clip4802)\" style=\"stroke:#000000; stroke-width:4; stroke-opacity:1; fill:none\" points=\"\n",
       "  1129.38,1193.52 1129.38,1401.05 1147.61,1401.05 1147.61,1193.52 1129.38,1193.52 \n",
       "  \"/>\n",
       "<polygon clip-path=\"url(#clip4802)\" points=\"\n",
       "1147.61,1331.87 1147.61,1401.05 1165.84,1401.05 1165.84,1331.87 1147.61,1331.87 1147.61,1331.87 \n",
       "  \" fill=\"#009af9\" fill-rule=\"evenodd\" fill-opacity=\"1\"/>\n",
       "<polyline clip-path=\"url(#clip4802)\" style=\"stroke:#000000; stroke-width:4; stroke-opacity:1; fill:none\" points=\"\n",
       "  1147.61,1331.87 1147.61,1401.05 1165.84,1401.05 1165.84,1331.87 1147.61,1331.87 \n",
       "  \"/>\n",
       "<polygon clip-path=\"url(#clip4802)\" points=\"\n",
       "1165.84,1373.38 1165.84,1401.05 1184.08,1401.05 1184.08,1373.38 1165.84,1373.38 1165.84,1373.38 \n",
       "  \" fill=\"#009af9\" fill-rule=\"evenodd\" fill-opacity=\"1\"/>\n",
       "<polyline clip-path=\"url(#clip4802)\" style=\"stroke:#000000; stroke-width:4; stroke-opacity:1; fill:none\" points=\"\n",
       "  1165.84,1373.38 1165.84,1401.05 1184.08,1401.05 1184.08,1373.38 1165.84,1373.38 \n",
       "  \"/>\n",
       "<polygon clip-path=\"url(#clip4802)\" points=\"\n",
       "1184.08,1401.05 1184.08,1401.05 1202.31,1401.05 1202.31,1401.05 1184.08,1401.05 1184.08,1401.05 \n",
       "  \" fill=\"#009af9\" fill-rule=\"evenodd\" fill-opacity=\"1\"/>\n",
       "<polyline clip-path=\"url(#clip4802)\" style=\"stroke:#000000; stroke-width:4; stroke-opacity:1; fill:none\" points=\"\n",
       "  1184.08,1401.05 1184.08,1401.05 1202.31,1401.05 1184.08,1401.05 \n",
       "  \"/>\n",
       "<polygon clip-path=\"url(#clip4802)\" points=\"\n",
       "1202.31,1401.05 1202.31,1401.05 1220.55,1401.05 1220.55,1401.05 1202.31,1401.05 1202.31,1401.05 \n",
       "  \" fill=\"#009af9\" fill-rule=\"evenodd\" fill-opacity=\"1\"/>\n",
       "<polyline clip-path=\"url(#clip4802)\" style=\"stroke:#000000; stroke-width:4; stroke-opacity:1; fill:none\" points=\"\n",
       "  1202.31,1401.05 1202.31,1401.05 1220.55,1401.05 1202.31,1401.05 \n",
       "  \"/>\n",
       "<polygon clip-path=\"url(#clip4802)\" points=\"\n",
       "1220.55,1373.38 1220.55,1401.05 1238.78,1401.05 1238.78,1373.38 1220.55,1373.38 1220.55,1373.38 \n",
       "  \" fill=\"#009af9\" fill-rule=\"evenodd\" fill-opacity=\"1\"/>\n",
       "<polyline clip-path=\"url(#clip4802)\" style=\"stroke:#000000; stroke-width:4; stroke-opacity:1; fill:none\" points=\"\n",
       "  1220.55,1373.38 1220.55,1401.05 1238.78,1401.05 1238.78,1373.38 1220.55,1373.38 \n",
       "  \"/>\n",
       "<polygon clip-path=\"url(#clip4802)\" points=\"\n",
       "1238.78,1359.54 1238.78,1401.05 1257.02,1401.05 1257.02,1359.54 1238.78,1359.54 1238.78,1359.54 \n",
       "  \" fill=\"#009af9\" fill-rule=\"evenodd\" fill-opacity=\"1\"/>\n",
       "<polyline clip-path=\"url(#clip4802)\" style=\"stroke:#000000; stroke-width:4; stroke-opacity:1; fill:none\" points=\"\n",
       "  1238.78,1359.54 1238.78,1401.05 1257.02,1401.05 1257.02,1359.54 1238.78,1359.54 \n",
       "  \"/>\n",
       "<polygon clip-path=\"url(#clip4802)\" points=\"\n",
       "1257.02,1401.05 1257.02,1401.05 1275.25,1401.05 1275.25,1401.05 1257.02,1401.05 1257.02,1401.05 \n",
       "  \" fill=\"#009af9\" fill-rule=\"evenodd\" fill-opacity=\"1\"/>\n",
       "<polyline clip-path=\"url(#clip4802)\" style=\"stroke:#000000; stroke-width:4; stroke-opacity:1; fill:none\" points=\"\n",
       "  1257.02,1401.05 1257.02,1401.05 1275.25,1401.05 1257.02,1401.05 \n",
       "  \"/>\n",
       "<polygon clip-path=\"url(#clip4802)\" points=\"\n",
       "1275.25,1401.05 1275.25,1401.05 1293.48,1401.05 1293.48,1401.05 1275.25,1401.05 1275.25,1401.05 \n",
       "  \" fill=\"#009af9\" fill-rule=\"evenodd\" fill-opacity=\"1\"/>\n",
       "<polyline clip-path=\"url(#clip4802)\" style=\"stroke:#000000; stroke-width:4; stroke-opacity:1; fill:none\" points=\"\n",
       "  1275.25,1401.05 1275.25,1401.05 1293.48,1401.05 1275.25,1401.05 \n",
       "  \"/>\n",
       "<polygon clip-path=\"url(#clip4802)\" points=\"\n",
       "1293.48,1373.38 1293.48,1401.05 1311.72,1401.05 1311.72,1373.38 1293.48,1373.38 1293.48,1373.38 \n",
       "  \" fill=\"#009af9\" fill-rule=\"evenodd\" fill-opacity=\"1\"/>\n",
       "<polyline clip-path=\"url(#clip4802)\" style=\"stroke:#000000; stroke-width:4; stroke-opacity:1; fill:none\" points=\"\n",
       "  1293.48,1373.38 1293.48,1401.05 1311.72,1401.05 1311.72,1373.38 1293.48,1373.38 \n",
       "  \"/>\n",
       "<polygon clip-path=\"url(#clip4802)\" points=\"\n",
       "1311.72,1387.22 1311.72,1401.05 1329.95,1401.05 1329.95,1387.22 1311.72,1387.22 1311.72,1387.22 \n",
       "  \" fill=\"#009af9\" fill-rule=\"evenodd\" fill-opacity=\"1\"/>\n",
       "<polyline clip-path=\"url(#clip4802)\" style=\"stroke:#000000; stroke-width:4; stroke-opacity:1; fill:none\" points=\"\n",
       "  1311.72,1387.22 1311.72,1401.05 1329.95,1401.05 1329.95,1387.22 1311.72,1387.22 \n",
       "  \"/>\n",
       "<polygon clip-path=\"url(#clip4802)\" points=\"\n",
       "1329.95,1401.05 1329.95,1401.05 1348.19,1401.05 1348.19,1401.05 1329.95,1401.05 1329.95,1401.05 \n",
       "  \" fill=\"#009af9\" fill-rule=\"evenodd\" fill-opacity=\"1\"/>\n",
       "<polyline clip-path=\"url(#clip4802)\" style=\"stroke:#000000; stroke-width:4; stroke-opacity:1; fill:none\" points=\"\n",
       "  1329.95,1401.05 1329.95,1401.05 1348.19,1401.05 1329.95,1401.05 \n",
       "  \"/>\n",
       "<polygon clip-path=\"url(#clip4802)\" points=\"\n",
       "1348.19,1387.22 1348.19,1401.05 1366.42,1401.05 1366.42,1387.22 1348.19,1387.22 1348.19,1387.22 \n",
       "  \" fill=\"#009af9\" fill-rule=\"evenodd\" fill-opacity=\"1\"/>\n",
       "<polyline clip-path=\"url(#clip4802)\" style=\"stroke:#000000; stroke-width:4; stroke-opacity:1; fill:none\" points=\"\n",
       "  1348.19,1387.22 1348.19,1401.05 1366.42,1401.05 1366.42,1387.22 1348.19,1387.22 \n",
       "  \"/>\n",
       "<polygon clip-path=\"url(#clip4802)\" points=\"\n",
       "1366.42,1401.05 1366.42,1401.05 1384.65,1401.05 1384.65,1401.05 1366.42,1401.05 1366.42,1401.05 \n",
       "  \" fill=\"#009af9\" fill-rule=\"evenodd\" fill-opacity=\"1\"/>\n",
       "<polyline clip-path=\"url(#clip4802)\" style=\"stroke:#000000; stroke-width:4; stroke-opacity:1; fill:none\" points=\"\n",
       "  1366.42,1401.05 1366.42,1401.05 1384.65,1401.05 1366.42,1401.05 \n",
       "  \"/>\n",
       "<polygon clip-path=\"url(#clip4802)\" points=\"\n",
       "1384.65,1387.22 1384.65,1401.05 1402.89,1401.05 1402.89,1387.22 1384.65,1387.22 1384.65,1387.22 \n",
       "  \" fill=\"#009af9\" fill-rule=\"evenodd\" fill-opacity=\"1\"/>\n",
       "<polyline clip-path=\"url(#clip4802)\" style=\"stroke:#000000; stroke-width:4; stroke-opacity:1; fill:none\" points=\"\n",
       "  1384.65,1387.22 1384.65,1401.05 1402.89,1401.05 1402.89,1387.22 1384.65,1387.22 \n",
       "  \"/>\n",
       "<polygon clip-path=\"url(#clip4802)\" points=\"\n",
       "1402.89,1373.38 1402.89,1401.05 1421.12,1401.05 1421.12,1373.38 1402.89,1373.38 1402.89,1373.38 \n",
       "  \" fill=\"#009af9\" fill-rule=\"evenodd\" fill-opacity=\"1\"/>\n",
       "<polyline clip-path=\"url(#clip4802)\" style=\"stroke:#000000; stroke-width:4; stroke-opacity:1; fill:none\" points=\"\n",
       "  1402.89,1373.38 1402.89,1401.05 1421.12,1401.05 1421.12,1373.38 1402.89,1373.38 \n",
       "  \"/>\n",
       "<polygon clip-path=\"url(#clip4802)\" points=\"\n",
       "1421.12,1401.05 1421.12,1401.05 1439.36,1401.05 1439.36,1401.05 1421.12,1401.05 1421.12,1401.05 \n",
       "  \" fill=\"#009af9\" fill-rule=\"evenodd\" fill-opacity=\"1\"/>\n",
       "<polyline clip-path=\"url(#clip4802)\" style=\"stroke:#000000; stroke-width:4; stroke-opacity:1; fill:none\" points=\"\n",
       "  1421.12,1401.05 1421.12,1401.05 1439.36,1401.05 1421.12,1401.05 \n",
       "  \"/>\n",
       "<polygon clip-path=\"url(#clip4802)\" points=\"\n",
       "1439.36,1401.05 1439.36,1401.05 1457.59,1401.05 1457.59,1401.05 1439.36,1401.05 1439.36,1401.05 \n",
       "  \" fill=\"#009af9\" fill-rule=\"evenodd\" fill-opacity=\"1\"/>\n",
       "<polyline clip-path=\"url(#clip4802)\" style=\"stroke:#000000; stroke-width:4; stroke-opacity:1; fill:none\" points=\"\n",
       "  1439.36,1401.05 1439.36,1401.05 1457.59,1401.05 1439.36,1401.05 \n",
       "  \"/>\n",
       "<polygon clip-path=\"url(#clip4802)\" points=\"\n",
       "1457.59,1373.38 1457.59,1401.05 1475.83,1401.05 1475.83,1373.38 1457.59,1373.38 1457.59,1373.38 \n",
       "  \" fill=\"#009af9\" fill-rule=\"evenodd\" fill-opacity=\"1\"/>\n",
       "<polyline clip-path=\"url(#clip4802)\" style=\"stroke:#000000; stroke-width:4; stroke-opacity:1; fill:none\" points=\"\n",
       "  1457.59,1373.38 1457.59,1401.05 1475.83,1401.05 1475.83,1373.38 1457.59,1373.38 \n",
       "  \"/>\n",
       "<polygon clip-path=\"url(#clip4802)\" points=\"\n",
       "1475.83,1373.38 1475.83,1401.05 1494.06,1401.05 1494.06,1373.38 1475.83,1373.38 1475.83,1373.38 \n",
       "  \" fill=\"#009af9\" fill-rule=\"evenodd\" fill-opacity=\"1\"/>\n",
       "<polyline clip-path=\"url(#clip4802)\" style=\"stroke:#000000; stroke-width:4; stroke-opacity:1; fill:none\" points=\"\n",
       "  1475.83,1373.38 1475.83,1401.05 1494.06,1401.05 1494.06,1373.38 1475.83,1373.38 \n",
       "  \"/>\n",
       "<polygon clip-path=\"url(#clip4802)\" points=\"\n",
       "1494.06,1387.22 1494.06,1401.05 1512.29,1401.05 1512.29,1387.22 1494.06,1387.22 1494.06,1387.22 \n",
       "  \" fill=\"#009af9\" fill-rule=\"evenodd\" fill-opacity=\"1\"/>\n",
       "<polyline clip-path=\"url(#clip4802)\" style=\"stroke:#000000; stroke-width:4; stroke-opacity:1; fill:none\" points=\"\n",
       "  1494.06,1387.22 1494.06,1401.05 1512.29,1401.05 1512.29,1387.22 1494.06,1387.22 \n",
       "  \"/>\n",
       "<polygon clip-path=\"url(#clip4802)\" points=\"\n",
       "1512.29,1401.05 1512.29,1401.05 1530.53,1401.05 1530.53,1401.05 1512.29,1401.05 1512.29,1401.05 \n",
       "  \" fill=\"#009af9\" fill-rule=\"evenodd\" fill-opacity=\"1\"/>\n",
       "<polyline clip-path=\"url(#clip4802)\" style=\"stroke:#000000; stroke-width:4; stroke-opacity:1; fill:none\" points=\"\n",
       "  1512.29,1401.05 1512.29,1401.05 1530.53,1401.05 1512.29,1401.05 \n",
       "  \"/>\n",
       "<polygon clip-path=\"url(#clip4802)\" points=\"\n",
       "1530.53,1401.05 1530.53,1401.05 1548.76,1401.05 1548.76,1401.05 1530.53,1401.05 1530.53,1401.05 \n",
       "  \" fill=\"#009af9\" fill-rule=\"evenodd\" fill-opacity=\"1\"/>\n",
       "<polyline clip-path=\"url(#clip4802)\" style=\"stroke:#000000; stroke-width:4; stroke-opacity:1; fill:none\" points=\"\n",
       "  1530.53,1401.05 1530.53,1401.05 1548.76,1401.05 1530.53,1401.05 \n",
       "  \"/>\n",
       "<polygon clip-path=\"url(#clip4802)\" points=\"\n",
       "1548.76,1401.05 1548.76,1401.05 1567,1401.05 1567,1401.05 1548.76,1401.05 1548.76,1401.05 \n",
       "  \" fill=\"#009af9\" fill-rule=\"evenodd\" fill-opacity=\"1\"/>\n",
       "<polyline clip-path=\"url(#clip4802)\" style=\"stroke:#000000; stroke-width:4; stroke-opacity:1; fill:none\" points=\"\n",
       "  1548.76,1401.05 1548.76,1401.05 1567,1401.05 1548.76,1401.05 \n",
       "  \"/>\n",
       "<polygon clip-path=\"url(#clip4802)\" points=\"\n",
       "1567,1401.05 1567,1401.05 1585.23,1401.05 1585.23,1401.05 1567,1401.05 1567,1401.05 \n",
       "  \" fill=\"#009af9\" fill-rule=\"evenodd\" fill-opacity=\"1\"/>\n",
       "<polyline clip-path=\"url(#clip4802)\" style=\"stroke:#000000; stroke-width:4; stroke-opacity:1; fill:none\" points=\"\n",
       "  1567,1401.05 1567,1401.05 1585.23,1401.05 1567,1401.05 \n",
       "  \"/>\n",
       "<polygon clip-path=\"url(#clip4802)\" points=\"\n",
       "1585.23,1401.05 1585.23,1401.05 1603.46,1401.05 1603.46,1401.05 1585.23,1401.05 1585.23,1401.05 \n",
       "  \" fill=\"#009af9\" fill-rule=\"evenodd\" fill-opacity=\"1\"/>\n",
       "<polyline clip-path=\"url(#clip4802)\" style=\"stroke:#000000; stroke-width:4; stroke-opacity:1; fill:none\" points=\"\n",
       "  1585.23,1401.05 1585.23,1401.05 1603.46,1401.05 1585.23,1401.05 \n",
       "  \"/>\n",
       "<polygon clip-path=\"url(#clip4802)\" points=\"\n",
       "1603.46,1401.05 1603.46,1401.05 1621.7,1401.05 1621.7,1401.05 1603.46,1401.05 1603.46,1401.05 \n",
       "  \" fill=\"#009af9\" fill-rule=\"evenodd\" fill-opacity=\"1\"/>\n",
       "<polyline clip-path=\"url(#clip4802)\" style=\"stroke:#000000; stroke-width:4; stroke-opacity:1; fill:none\" points=\"\n",
       "  1603.46,1401.05 1603.46,1401.05 1621.7,1401.05 1603.46,1401.05 \n",
       "  \"/>\n",
       "<polygon clip-path=\"url(#clip4802)\" points=\"\n",
       "1621.7,1401.05 1621.7,1401.05 1639.93,1401.05 1639.93,1401.05 1621.7,1401.05 1621.7,1401.05 \n",
       "  \" fill=\"#009af9\" fill-rule=\"evenodd\" fill-opacity=\"1\"/>\n",
       "<polyline clip-path=\"url(#clip4802)\" style=\"stroke:#000000; stroke-width:4; stroke-opacity:1; fill:none\" points=\"\n",
       "  1621.7,1401.05 1621.7,1401.05 1639.93,1401.05 1621.7,1401.05 \n",
       "  \"/>\n",
       "<polygon clip-path=\"url(#clip4802)\" points=\"\n",
       "1639.93,1387.22 1639.93,1401.05 1658.17,1401.05 1658.17,1387.22 1639.93,1387.22 1639.93,1387.22 \n",
       "  \" fill=\"#009af9\" fill-rule=\"evenodd\" fill-opacity=\"1\"/>\n",
       "<polyline clip-path=\"url(#clip4802)\" style=\"stroke:#000000; stroke-width:4; stroke-opacity:1; fill:none\" points=\"\n",
       "  1639.93,1387.22 1639.93,1401.05 1658.17,1401.05 1658.17,1387.22 1639.93,1387.22 \n",
       "  \"/>\n",
       "<polygon clip-path=\"url(#clip4802)\" points=\"\n",
       "1658.17,1401.05 1658.17,1401.05 1676.4,1401.05 1676.4,1401.05 1658.17,1401.05 1658.17,1401.05 \n",
       "  \" fill=\"#009af9\" fill-rule=\"evenodd\" fill-opacity=\"1\"/>\n",
       "<polyline clip-path=\"url(#clip4802)\" style=\"stroke:#000000; stroke-width:4; stroke-opacity:1; fill:none\" points=\"\n",
       "  1658.17,1401.05 1658.17,1401.05 1676.4,1401.05 1658.17,1401.05 \n",
       "  \"/>\n",
       "<polygon clip-path=\"url(#clip4802)\" points=\"\n",
       "1676.4,1387.22 1676.4,1401.05 1694.64,1401.05 1694.64,1387.22 1676.4,1387.22 1676.4,1387.22 \n",
       "  \" fill=\"#009af9\" fill-rule=\"evenodd\" fill-opacity=\"1\"/>\n",
       "<polyline clip-path=\"url(#clip4802)\" style=\"stroke:#000000; stroke-width:4; stroke-opacity:1; fill:none\" points=\"\n",
       "  1676.4,1387.22 1676.4,1401.05 1694.64,1401.05 1694.64,1387.22 1676.4,1387.22 \n",
       "  \"/>\n",
       "<polygon clip-path=\"url(#clip4802)\" points=\"\n",
       "1694.64,1401.05 1694.64,1401.05 1712.87,1401.05 1712.87,1401.05 1694.64,1401.05 1694.64,1401.05 \n",
       "  \" fill=\"#009af9\" fill-rule=\"evenodd\" fill-opacity=\"1\"/>\n",
       "<polyline clip-path=\"url(#clip4802)\" style=\"stroke:#000000; stroke-width:4; stroke-opacity:1; fill:none\" points=\"\n",
       "  1694.64,1401.05 1694.64,1401.05 1712.87,1401.05 1694.64,1401.05 \n",
       "  \"/>\n",
       "<polygon clip-path=\"url(#clip4802)\" points=\"\n",
       "1712.87,1401.05 1712.87,1401.05 1731.1,1401.05 1731.1,1401.05 1712.87,1401.05 1712.87,1401.05 \n",
       "  \" fill=\"#009af9\" fill-rule=\"evenodd\" fill-opacity=\"1\"/>\n",
       "<polyline clip-path=\"url(#clip4802)\" style=\"stroke:#000000; stroke-width:4; stroke-opacity:1; fill:none\" points=\"\n",
       "  1712.87,1401.05 1712.87,1401.05 1731.1,1401.05 1712.87,1401.05 \n",
       "  \"/>\n",
       "<polygon clip-path=\"url(#clip4802)\" points=\"\n",
       "1731.1,1401.05 1731.1,1401.05 1749.34,1401.05 1749.34,1401.05 1731.1,1401.05 1731.1,1401.05 \n",
       "  \" fill=\"#009af9\" fill-rule=\"evenodd\" fill-opacity=\"1\"/>\n",
       "<polyline clip-path=\"url(#clip4802)\" style=\"stroke:#000000; stroke-width:4; stroke-opacity:1; fill:none\" points=\"\n",
       "  1731.1,1401.05 1731.1,1401.05 1749.34,1401.05 1731.1,1401.05 \n",
       "  \"/>\n",
       "<polygon clip-path=\"url(#clip4802)\" points=\"\n",
       "1749.34,1401.05 1749.34,1401.05 1767.57,1401.05 1767.57,1401.05 1749.34,1401.05 1749.34,1401.05 \n",
       "  \" fill=\"#009af9\" fill-rule=\"evenodd\" fill-opacity=\"1\"/>\n",
       "<polyline clip-path=\"url(#clip4802)\" style=\"stroke:#000000; stroke-width:4; stroke-opacity:1; fill:none\" points=\"\n",
       "  1749.34,1401.05 1749.34,1401.05 1767.57,1401.05 1749.34,1401.05 \n",
       "  \"/>\n",
       "<polygon clip-path=\"url(#clip4802)\" points=\"\n",
       "1767.57,1401.05 1767.57,1401.05 1785.81,1401.05 1785.81,1401.05 1767.57,1401.05 1767.57,1401.05 \n",
       "  \" fill=\"#009af9\" fill-rule=\"evenodd\" fill-opacity=\"1\"/>\n",
       "<polyline clip-path=\"url(#clip4802)\" style=\"stroke:#000000; stroke-width:4; stroke-opacity:1; fill:none\" points=\"\n",
       "  1767.57,1401.05 1767.57,1401.05 1785.81,1401.05 1767.57,1401.05 \n",
       "  \"/>\n",
       "<polygon clip-path=\"url(#clip4802)\" points=\"\n",
       "1785.81,1387.22 1785.81,1401.05 1804.04,1401.05 1804.04,1387.22 1785.81,1387.22 1785.81,1387.22 \n",
       "  \" fill=\"#009af9\" fill-rule=\"evenodd\" fill-opacity=\"1\"/>\n",
       "<polyline clip-path=\"url(#clip4802)\" style=\"stroke:#000000; stroke-width:4; stroke-opacity:1; fill:none\" points=\"\n",
       "  1785.81,1387.22 1785.81,1401.05 1804.04,1401.05 1804.04,1387.22 1785.81,1387.22 \n",
       "  \"/>\n",
       "<polygon clip-path=\"url(#clip4802)\" points=\"\n",
       "1804.04,1401.05 1804.04,1401.05 1822.27,1401.05 1822.27,1401.05 1804.04,1401.05 1804.04,1401.05 \n",
       "  \" fill=\"#009af9\" fill-rule=\"evenodd\" fill-opacity=\"1\"/>\n",
       "<polyline clip-path=\"url(#clip4802)\" style=\"stroke:#000000; stroke-width:4; stroke-opacity:1; fill:none\" points=\"\n",
       "  1804.04,1401.05 1804.04,1401.05 1822.27,1401.05 1804.04,1401.05 \n",
       "  \"/>\n",
       "<polygon clip-path=\"url(#clip4802)\" points=\"\n",
       "1822.27,1401.05 1822.27,1401.05 1840.51,1401.05 1840.51,1401.05 1822.27,1401.05 1822.27,1401.05 \n",
       "  \" fill=\"#009af9\" fill-rule=\"evenodd\" fill-opacity=\"1\"/>\n",
       "<polyline clip-path=\"url(#clip4802)\" style=\"stroke:#000000; stroke-width:4; stroke-opacity:1; fill:none\" points=\"\n",
       "  1822.27,1401.05 1822.27,1401.05 1840.51,1401.05 1822.27,1401.05 \n",
       "  \"/>\n",
       "<polygon clip-path=\"url(#clip4802)\" points=\"\n",
       "1840.51,1401.05 1840.51,1401.05 1858.74,1401.05 1858.74,1401.05 1840.51,1401.05 1840.51,1401.05 \n",
       "  \" fill=\"#009af9\" fill-rule=\"evenodd\" fill-opacity=\"1\"/>\n",
       "<polyline clip-path=\"url(#clip4802)\" style=\"stroke:#000000; stroke-width:4; stroke-opacity:1; fill:none\" points=\"\n",
       "  1840.51,1401.05 1840.51,1401.05 1858.74,1401.05 1840.51,1401.05 \n",
       "  \"/>\n",
       "<polygon clip-path=\"url(#clip4802)\" points=\"\n",
       "1858.74,1401.05 1858.74,1401.05 1876.98,1401.05 1876.98,1401.05 1858.74,1401.05 1858.74,1401.05 \n",
       "  \" fill=\"#009af9\" fill-rule=\"evenodd\" fill-opacity=\"1\"/>\n",
       "<polyline clip-path=\"url(#clip4802)\" style=\"stroke:#000000; stroke-width:4; stroke-opacity:1; fill:none\" points=\"\n",
       "  1858.74,1401.05 1858.74,1401.05 1876.98,1401.05 1858.74,1401.05 \n",
       "  \"/>\n",
       "<polygon clip-path=\"url(#clip4802)\" points=\"\n",
       "1876.98,1401.05 1876.98,1401.05 1895.21,1401.05 1895.21,1401.05 1876.98,1401.05 1876.98,1401.05 \n",
       "  \" fill=\"#009af9\" fill-rule=\"evenodd\" fill-opacity=\"1\"/>\n",
       "<polyline clip-path=\"url(#clip4802)\" style=\"stroke:#000000; stroke-width:4; stroke-opacity:1; fill:none\" points=\"\n",
       "  1876.98,1401.05 1876.98,1401.05 1895.21,1401.05 1876.98,1401.05 \n",
       "  \"/>\n",
       "<polygon clip-path=\"url(#clip4802)\" points=\"\n",
       "1895.21,1401.05 1895.21,1401.05 1913.45,1401.05 1913.45,1401.05 1895.21,1401.05 1895.21,1401.05 \n",
       "  \" fill=\"#009af9\" fill-rule=\"evenodd\" fill-opacity=\"1\"/>\n",
       "<polyline clip-path=\"url(#clip4802)\" style=\"stroke:#000000; stroke-width:4; stroke-opacity:1; fill:none\" points=\"\n",
       "  1895.21,1401.05 1895.21,1401.05 1913.45,1401.05 1895.21,1401.05 \n",
       "  \"/>\n",
       "<polygon clip-path=\"url(#clip4802)\" points=\"\n",
       "1913.45,1401.05 1913.45,1401.05 1931.68,1401.05 1931.68,1401.05 1913.45,1401.05 1913.45,1401.05 \n",
       "  \" fill=\"#009af9\" fill-rule=\"evenodd\" fill-opacity=\"1\"/>\n",
       "<polyline clip-path=\"url(#clip4802)\" style=\"stroke:#000000; stroke-width:4; stroke-opacity:1; fill:none\" points=\"\n",
       "  1913.45,1401.05 1913.45,1401.05 1931.68,1401.05 1913.45,1401.05 \n",
       "  \"/>\n",
       "<polygon clip-path=\"url(#clip4802)\" points=\"\n",
       "1931.68,1401.05 1931.68,1401.05 1949.91,1401.05 1949.91,1401.05 1931.68,1401.05 1931.68,1401.05 \n",
       "  \" fill=\"#009af9\" fill-rule=\"evenodd\" fill-opacity=\"1\"/>\n",
       "<polyline clip-path=\"url(#clip4802)\" style=\"stroke:#000000; stroke-width:4; stroke-opacity:1; fill:none\" points=\"\n",
       "  1931.68,1401.05 1931.68,1401.05 1949.91,1401.05 1931.68,1401.05 \n",
       "  \"/>\n",
       "<polygon clip-path=\"url(#clip4802)\" points=\"\n",
       "1949.91,1401.05 1949.91,1401.05 1968.15,1401.05 1968.15,1401.05 1949.91,1401.05 1949.91,1401.05 \n",
       "  \" fill=\"#009af9\" fill-rule=\"evenodd\" fill-opacity=\"1\"/>\n",
       "<polyline clip-path=\"url(#clip4802)\" style=\"stroke:#000000; stroke-width:4; stroke-opacity:1; fill:none\" points=\"\n",
       "  1949.91,1401.05 1949.91,1401.05 1968.15,1401.05 1949.91,1401.05 \n",
       "  \"/>\n",
       "<polygon clip-path=\"url(#clip4802)\" points=\"\n",
       "1968.15,1401.05 1968.15,1401.05 1986.38,1401.05 1986.38,1401.05 1968.15,1401.05 1968.15,1401.05 \n",
       "  \" fill=\"#009af9\" fill-rule=\"evenodd\" fill-opacity=\"1\"/>\n",
       "<polyline clip-path=\"url(#clip4802)\" style=\"stroke:#000000; stroke-width:4; stroke-opacity:1; fill:none\" points=\"\n",
       "  1968.15,1401.05 1968.15,1401.05 1986.38,1401.05 1968.15,1401.05 \n",
       "  \"/>\n",
       "<polygon clip-path=\"url(#clip4802)\" points=\"\n",
       "1986.38,1401.05 1986.38,1401.05 2004.62,1401.05 2004.62,1401.05 1986.38,1401.05 1986.38,1401.05 \n",
       "  \" fill=\"#009af9\" fill-rule=\"evenodd\" fill-opacity=\"1\"/>\n",
       "<polyline clip-path=\"url(#clip4802)\" style=\"stroke:#000000; stroke-width:4; stroke-opacity:1; fill:none\" points=\"\n",
       "  1986.38,1401.05 1986.38,1401.05 2004.62,1401.05 1986.38,1401.05 \n",
       "  \"/>\n",
       "<polygon clip-path=\"url(#clip4802)\" points=\"\n",
       "2004.62,1401.05 2004.62,1401.05 2022.85,1401.05 2022.85,1401.05 2004.62,1401.05 2004.62,1401.05 \n",
       "  \" fill=\"#009af9\" fill-rule=\"evenodd\" fill-opacity=\"1\"/>\n",
       "<polyline clip-path=\"url(#clip4802)\" style=\"stroke:#000000; stroke-width:4; stroke-opacity:1; fill:none\" points=\"\n",
       "  2004.62,1401.05 2004.62,1401.05 2022.85,1401.05 2004.62,1401.05 \n",
       "  \"/>\n",
       "<polygon clip-path=\"url(#clip4802)\" points=\"\n",
       "2022.85,1401.05 2022.85,1401.05 2041.08,1401.05 2041.08,1401.05 2022.85,1401.05 2022.85,1401.05 \n",
       "  \" fill=\"#009af9\" fill-rule=\"evenodd\" fill-opacity=\"1\"/>\n",
       "<polyline clip-path=\"url(#clip4802)\" style=\"stroke:#000000; stroke-width:4; stroke-opacity:1; fill:none\" points=\"\n",
       "  2022.85,1401.05 2022.85,1401.05 2041.08,1401.05 2022.85,1401.05 \n",
       "  \"/>\n",
       "<polygon clip-path=\"url(#clip4802)\" points=\"\n",
       "2041.08,1401.05 2041.08,1401.05 2059.32,1401.05 2059.32,1401.05 2041.08,1401.05 2041.08,1401.05 \n",
       "  \" fill=\"#009af9\" fill-rule=\"evenodd\" fill-opacity=\"1\"/>\n",
       "<polyline clip-path=\"url(#clip4802)\" style=\"stroke:#000000; stroke-width:4; stroke-opacity:1; fill:none\" points=\"\n",
       "  2041.08,1401.05 2041.08,1401.05 2059.32,1401.05 2041.08,1401.05 \n",
       "  \"/>\n",
       "<polygon clip-path=\"url(#clip4802)\" points=\"\n",
       "2059.32,1401.05 2059.32,1401.05 2077.55,1401.05 2077.55,1401.05 2059.32,1401.05 2059.32,1401.05 \n",
       "  \" fill=\"#009af9\" fill-rule=\"evenodd\" fill-opacity=\"1\"/>\n",
       "<polyline clip-path=\"url(#clip4802)\" style=\"stroke:#000000; stroke-width:4; stroke-opacity:1; fill:none\" points=\"\n",
       "  2059.32,1401.05 2059.32,1401.05 2077.55,1401.05 2059.32,1401.05 \n",
       "  \"/>\n",
       "<polygon clip-path=\"url(#clip4802)\" points=\"\n",
       "2077.55,1401.05 2077.55,1401.05 2095.79,1401.05 2095.79,1401.05 2077.55,1401.05 2077.55,1401.05 \n",
       "  \" fill=\"#009af9\" fill-rule=\"evenodd\" fill-opacity=\"1\"/>\n",
       "<polyline clip-path=\"url(#clip4802)\" style=\"stroke:#000000; stroke-width:4; stroke-opacity:1; fill:none\" points=\"\n",
       "  2077.55,1401.05 2077.55,1401.05 2095.79,1401.05 2077.55,1401.05 \n",
       "  \"/>\n",
       "<polygon clip-path=\"url(#clip4802)\" points=\"\n",
       "2095.79,1401.05 2095.79,1401.05 2114.02,1401.05 2114.02,1401.05 2095.79,1401.05 2095.79,1401.05 \n",
       "  \" fill=\"#009af9\" fill-rule=\"evenodd\" fill-opacity=\"1\"/>\n",
       "<polyline clip-path=\"url(#clip4802)\" style=\"stroke:#000000; stroke-width:4; stroke-opacity:1; fill:none\" points=\"\n",
       "  2095.79,1401.05 2095.79,1401.05 2114.02,1401.05 2095.79,1401.05 \n",
       "  \"/>\n",
       "<polygon clip-path=\"url(#clip4802)\" points=\"\n",
       "2114.02,1401.05 2114.02,1401.05 2132.26,1401.05 2132.26,1401.05 2114.02,1401.05 2114.02,1401.05 \n",
       "  \" fill=\"#009af9\" fill-rule=\"evenodd\" fill-opacity=\"1\"/>\n",
       "<polyline clip-path=\"url(#clip4802)\" style=\"stroke:#000000; stroke-width:4; stroke-opacity:1; fill:none\" points=\"\n",
       "  2114.02,1401.05 2114.02,1401.05 2132.26,1401.05 2114.02,1401.05 \n",
       "  \"/>\n",
       "<polygon clip-path=\"url(#clip4802)\" points=\"\n",
       "2132.26,1401.05 2132.26,1401.05 2150.49,1401.05 2150.49,1401.05 2132.26,1401.05 2132.26,1401.05 \n",
       "  \" fill=\"#009af9\" fill-rule=\"evenodd\" fill-opacity=\"1\"/>\n",
       "<polyline clip-path=\"url(#clip4802)\" style=\"stroke:#000000; stroke-width:4; stroke-opacity:1; fill:none\" points=\"\n",
       "  2132.26,1401.05 2132.26,1401.05 2150.49,1401.05 2132.26,1401.05 \n",
       "  \"/>\n",
       "<polygon clip-path=\"url(#clip4802)\" points=\"\n",
       "2150.49,1401.05 2150.49,1401.05 2168.72,1401.05 2168.72,1401.05 2150.49,1401.05 2150.49,1401.05 \n",
       "  \" fill=\"#009af9\" fill-rule=\"evenodd\" fill-opacity=\"1\"/>\n",
       "<polyline clip-path=\"url(#clip4802)\" style=\"stroke:#000000; stroke-width:4; stroke-opacity:1; fill:none\" points=\"\n",
       "  2150.49,1401.05 2150.49,1401.05 2168.72,1401.05 2150.49,1401.05 \n",
       "  \"/>\n",
       "<polygon clip-path=\"url(#clip4802)\" points=\"\n",
       "2168.72,1401.05 2168.72,1401.05 2186.96,1401.05 2186.96,1401.05 2168.72,1401.05 2168.72,1401.05 \n",
       "  \" fill=\"#009af9\" fill-rule=\"evenodd\" fill-opacity=\"1\"/>\n",
       "<polyline clip-path=\"url(#clip4802)\" style=\"stroke:#000000; stroke-width:4; stroke-opacity:1; fill:none\" points=\"\n",
       "  2168.72,1401.05 2168.72,1401.05 2186.96,1401.05 2168.72,1401.05 \n",
       "  \"/>\n",
       "<polygon clip-path=\"url(#clip4802)\" points=\"\n",
       "2186.96,1387.22 2186.96,1401.05 2205.19,1401.05 2205.19,1387.22 2186.96,1387.22 2186.96,1387.22 \n",
       "  \" fill=\"#009af9\" fill-rule=\"evenodd\" fill-opacity=\"1\"/>\n",
       "<polyline clip-path=\"url(#clip4802)\" style=\"stroke:#000000; stroke-width:4; stroke-opacity:1; fill:none\" points=\"\n",
       "  2186.96,1387.22 2186.96,1401.05 2205.19,1401.05 2205.19,1387.22 2186.96,1387.22 \n",
       "  \"/>\n",
       "</svg>\n"
      ]
     },
     "execution_count": 19,
     "metadata": {},
     "output_type": "execute_result"
    }
   ],
   "source": [
    "using Plots\n",
    "histogram(c_bench.times/1000^2, bins=100,\n",
    "    xlabel=\"milliseconds\", ylabel=\"count\", label=\"\")"
   ]
  },
  {
   "cell_type": "markdown",
   "metadata": {},
   "source": [
    "### C with -ffast-math\n",
    "\n",
    "If we allow C to re-arrange the floating point operations, then it'll vectorize with SIMD (single instruction, multiple data) instructions."
   ]
  },
  {
   "cell_type": "code",
   "execution_count": 20,
   "metadata": {},
   "outputs": [
    {
     "data": {
      "text/plain": [
       "c_sum_fastmath (generic function with 1 method)"
      ]
     },
     "execution_count": 20,
     "metadata": {},
     "output_type": "execute_result"
    }
   ],
   "source": [
    "const Clib_fastmath = tempname()   # make a temporary file\n",
    "\n",
    "# The same as above but with a -ffast-math flag added\n",
    "open(`gcc -fPIC -O3 -march=native -xc -shared -ffast-math -o $(Clib_fastmath * \".\" * Libdl.dlext) -`, \"w\") do f\n",
    "    print(f, C_code)\n",
    "end\n",
    "\n",
    "# define a Julia function that calls the C function:\n",
    "c_sum_fastmath(X::Array{Float64}) = ccall((\"c_sum\", Clib_fastmath), Float64, (Csize_t, Ptr{Float64}), length(X), X)"
   ]
  },
  {
   "cell_type": "code",
   "execution_count": 21,
   "metadata": {},
   "outputs": [
    {
     "data": {
      "text/plain": [
       "BenchmarkTools.Trial: \n",
       "  memory estimate:  0 bytes\n",
       "  allocs estimate:  0\n",
       "  --------------\n",
       "  minimum time:     4.079 ms (0.00% GC)\n",
       "  median time:      5.006 ms (0.00% GC)\n",
       "  mean time:        5.003 ms (0.00% GC)\n",
       "  maximum time:     8.890 ms (0.00% GC)\n",
       "  --------------\n",
       "  samples:          998\n",
       "  evals/sample:     1"
      ]
     },
     "execution_count": 21,
     "metadata": {},
     "output_type": "execute_result"
    }
   ],
   "source": [
    "c_fastmath_bench = @benchmark $c_sum_fastmath($a)"
   ]
  },
  {
   "cell_type": "code",
   "execution_count": 22,
   "metadata": {},
   "outputs": [
    {
     "data": {
      "text/plain": [
       "4.078704"
      ]
     },
     "execution_count": 22,
     "metadata": {},
     "output_type": "execute_result"
    }
   ],
   "source": [
    "d[\"C -ffast-math\"] = minimum(c_fastmath_bench.times) / 1e6  # in milliseconds"
   ]
  },
  {
   "cell_type": "markdown",
   "metadata": {},
   "source": [
    "### Python's built in sum\n",
    "The `PyCall` package provides a Julia interface to Python:"
   ]
  },
  {
   "cell_type": "code",
   "execution_count": 23,
   "metadata": {},
   "outputs": [],
   "source": [
    "# using Pkg; Pkg.add(\"PyCall\")\n",
    "using PyCall"
   ]
  },
  {
   "cell_type": "markdown",
   "metadata": {},
   "source": [
    "We can create a Julia function which points to the Python built-in \"sum\" function:"
   ]
  },
  {
   "cell_type": "code",
   "execution_count": 24,
   "metadata": {},
   "outputs": [
    {
     "data": {
      "text/plain": [
       "PyObject <built-in function sum>"
      ]
     },
     "execution_count": 24,
     "metadata": {},
     "output_type": "execute_result"
    }
   ],
   "source": [
    "pysum = pybuiltin(\"sum\")"
   ]
  },
  {
   "cell_type": "code",
   "execution_count": 25,
   "metadata": {},
   "outputs": [
    {
     "data": {
      "text/plain": [
       "true"
      ]
     },
     "execution_count": 25,
     "metadata": {},
     "output_type": "execute_result"
    }
   ],
   "source": [
    "pysum(a) ≈ sum(a)"
   ]
  },
  {
   "cell_type": "code",
   "execution_count": 26,
   "metadata": {},
   "outputs": [
    {
     "data": {
      "text/plain": [
       "BenchmarkTools.Trial: \n",
       "  memory estimate:  368 bytes\n",
       "  allocs estimate:  8\n",
       "  --------------\n",
       "  minimum time:     632.694 ms (0.00% GC)\n",
       "  median time:      637.748 ms (0.00% GC)\n",
       "  mean time:        645.748 ms (0.00% GC)\n",
       "  maximum time:     702.217 ms (0.00% GC)\n",
       "  --------------\n",
       "  samples:          8\n",
       "  evals/sample:     1"
      ]
     },
     "execution_count": 26,
     "metadata": {},
     "output_type": "execute_result"
    }
   ],
   "source": [
    "py_list_bench = @benchmark $pysum($a)"
   ]
  },
  {
   "cell_type": "code",
   "execution_count": 27,
   "metadata": {},
   "outputs": [
    {
     "data": {
      "text/plain": [
       "Dict{Any,Any} with 3 entries:\n",
       "  \"C\"               => 9.555\n",
       "  \"Python built-in\" => 632.694\n",
       "  \"C -ffast-math\"   => 4.0787"
      ]
     },
     "execution_count": 27,
     "metadata": {},
     "output_type": "execute_result"
    }
   ],
   "source": [
    "d[\"Python built-in\"] = minimum(py_list_bench.times) / 1e6\n",
    "d"
   ]
  },
  {
   "cell_type": "markdown",
   "metadata": {},
   "source": [
    "### Python: numpy\n",
    "\n",
    "Takes advantage of hardware \"SIMD\", but only works when it works.\n",
    "\n",
    "`numpy` is an optimized C library, callable from Python. It may be installed within Julia as follows:"
   ]
  },
  {
   "cell_type": "code",
   "execution_count": 28,
   "metadata": {},
   "outputs": [],
   "source": [
    "# using Pkg; Pkg.add(\"Conda\")\n",
    "using Conda\n",
    "# Conda.add(\"numpy\")"
   ]
  },
  {
   "cell_type": "code",
   "execution_count": 29,
   "metadata": {},
   "outputs": [
    {
     "data": {
      "text/plain": [
       "BenchmarkTools.Trial: \n",
       "  memory estimate:  368 bytes\n",
       "  allocs estimate:  8\n",
       "  --------------\n",
       "  minimum time:     3.240 ms (0.00% GC)\n",
       "  median time:      4.018 ms (0.00% GC)\n",
       "  mean time:        4.280 ms (0.00% GC)\n",
       "  maximum time:     11.782 ms (0.00% GC)\n",
       "  --------------\n",
       "  samples:          1166\n",
       "  evals/sample:     1"
      ]
     },
     "execution_count": 29,
     "metadata": {},
     "output_type": "execute_result"
    }
   ],
   "source": [
    "numpy_sum = pyimport(\"numpy\").sum\n",
    "\n",
    "py_numpy_bench = @benchmark $numpy_sum($a)"
   ]
  },
  {
   "cell_type": "code",
   "execution_count": 30,
   "metadata": {},
   "outputs": [
    {
     "data": {
      "text/plain": [
       "true"
      ]
     },
     "execution_count": 30,
     "metadata": {},
     "output_type": "execute_result"
    }
   ],
   "source": [
    "numpy_sum(a) ≈ sum(a)"
   ]
  },
  {
   "cell_type": "code",
   "execution_count": 31,
   "metadata": {},
   "outputs": [
    {
     "data": {
      "text/plain": [
       "Dict{Any,Any} with 4 entries:\n",
       "  \"C\"               => 9.555\n",
       "  \"Python numpy\"    => 3.2401\n",
       "  \"Python built-in\" => 632.694\n",
       "  \"C -ffast-math\"   => 4.0787"
      ]
     },
     "execution_count": 31,
     "metadata": {},
     "output_type": "execute_result"
    }
   ],
   "source": [
    "d[\"Python numpy\"] = minimum(py_numpy_bench.times) / 1e6\n",
    "d"
   ]
  },
  {
   "cell_type": "markdown",
   "metadata": {},
   "source": [
    "### Python, hand-written"
   ]
  },
  {
   "cell_type": "code",
   "execution_count": 32,
   "metadata": {},
   "outputs": [
    {
     "data": {
      "text/plain": [
       "PyObject <function py_sum at 0x1243c8840>"
      ]
     },
     "execution_count": 32,
     "metadata": {},
     "output_type": "execute_result"
    }
   ],
   "source": [
    "py\"\"\"\n",
    "def py_sum(A):\n",
    "    s = 0.0\n",
    "    for a in A:\n",
    "        s += a\n",
    "    return s\n",
    "\"\"\"\n",
    "\n",
    "sum_py = py\"py_sum\""
   ]
  },
  {
   "cell_type": "code",
   "execution_count": 33,
   "metadata": {},
   "outputs": [
    {
     "data": {
      "text/plain": [
       "BenchmarkTools.Trial: \n",
       "  memory estimate:  368 bytes\n",
       "  allocs estimate:  8\n",
       "  --------------\n",
       "  minimum time:     777.727 ms (0.00% GC)\n",
       "  median time:      790.730 ms (0.00% GC)\n",
       "  mean time:        808.142 ms (0.00% GC)\n",
       "  maximum time:     894.651 ms (0.00% GC)\n",
       "  --------------\n",
       "  samples:          7\n",
       "  evals/sample:     1"
      ]
     },
     "execution_count": 33,
     "metadata": {},
     "output_type": "execute_result"
    }
   ],
   "source": [
    "py_hand = @benchmark $sum_py($a)"
   ]
  },
  {
   "cell_type": "code",
   "execution_count": 34,
   "metadata": {},
   "outputs": [
    {
     "data": {
      "text/plain": [
       "true"
      ]
     },
     "execution_count": 34,
     "metadata": {},
     "output_type": "execute_result"
    }
   ],
   "source": [
    "sum_py(a) ≈ sum(a)"
   ]
  },
  {
   "cell_type": "code",
   "execution_count": 35,
   "metadata": {},
   "outputs": [
    {
     "data": {
      "text/plain": [
       "Dict{Any,Any} with 5 entries:\n",
       "  \"C\"                   => 9.555\n",
       "  \"Python numpy\"        => 3.2401\n",
       "  \"Python hand-written\" => 777.727\n",
       "  \"Python built-in\"     => 632.694\n",
       "  \"C -ffast-math\"       => 4.0787"
      ]
     },
     "execution_count": 35,
     "metadata": {},
     "output_type": "execute_result"
    }
   ],
   "source": [
    "d[\"Python hand-written\"] = minimum(py_hand.times) / 1e6\n",
    "d"
   ]
  },
  {
   "cell_type": "markdown",
   "metadata": {},
   "source": [
    "### R (built-in)"
   ]
  },
  {
   "cell_type": "code",
   "execution_count": 36,
   "metadata": {},
   "outputs": [
    {
     "data": {
      "text/plain": [
       "sum_R (generic function with 1 method)"
      ]
     },
     "execution_count": 36,
     "metadata": {},
     "output_type": "execute_result"
    }
   ],
   "source": [
    "using RCall\n",
    "sum_R(a) = R\"sum($a)\""
   ]
  },
  {
   "cell_type": "code",
   "execution_count": 37,
   "metadata": {},
   "outputs": [
    {
     "data": {
      "text/plain": [
       "BenchmarkTools.Trial: \n",
       "  memory estimate:  3.13 KiB\n",
       "  allocs estimate:  104\n",
       "  --------------\n",
       "  minimum time:     43.579 ms (0.00% GC)\n",
       "  median time:      45.773 ms (0.00% GC)\n",
       "  mean time:        46.723 ms (0.00% GC)\n",
       "  maximum time:     55.652 ms (0.00% GC)\n",
       "  --------------\n",
       "  samples:          108\n",
       "  evals/sample:     1"
      ]
     },
     "execution_count": 37,
     "metadata": {},
     "output_type": "execute_result"
    }
   ],
   "source": [
    "r_bench = @benchmark $sum_R($a)"
   ]
  },
  {
   "cell_type": "code",
   "execution_count": 38,
   "metadata": {},
   "outputs": [
    {
     "data": {
      "text/plain": [
       "Dict{Any,Any} with 6 entries:\n",
       "  \"C\"                   => 9.555\n",
       "  \"Python numpy\"        => 3.2401\n",
       "  \"Python hand-written\" => 777.727\n",
       "  \"Python built-in\"     => 632.694\n",
       "  \"C -ffast-math\"       => 4.0787\n",
       "  \"R built-in\"          => 43.579"
      ]
     },
     "execution_count": 38,
     "metadata": {},
     "output_type": "execute_result"
    }
   ],
   "source": [
    "d[\"R built-in\"] = minimum(r_bench.times) / 1e6\n",
    "d"
   ]
  },
  {
   "cell_type": "markdown",
   "metadata": {},
   "source": [
    "### R (hand-written)"
   ]
  },
  {
   "cell_type": "code",
   "execution_count": 39,
   "metadata": {},
   "outputs": [
    {
     "data": {
      "text/plain": [
       "mysum_R (generic function with 1 method)"
      ]
     },
     "execution_count": 39,
     "metadata": {},
     "output_type": "execute_result"
    }
   ],
   "source": [
    "mysum_R(a) = R\"\"\"\n",
    "mysum <- function(a) {\n",
    "  s = 0.0\n",
    "  for (i in 1:length(a)) {\n",
    "    s = s + a[i]\n",
    "  }\n",
    "  return(s)\n",
    "}\n",
    "mysum($a)\n",
    "\"\"\""
   ]
  },
  {
   "cell_type": "code",
   "execution_count": 40,
   "metadata": {},
   "outputs": [
    {
     "data": {
      "text/plain": [
       "BenchmarkTools.Trial: \n",
       "  memory estimate:  3.25 KiB\n",
       "  allocs estimate:  111\n",
       "  --------------\n",
       "  minimum time:     364.564 ms (0.00% GC)\n",
       "  median time:      373.827 ms (0.00% GC)\n",
       "  mean time:        375.718 ms (0.00% GC)\n",
       "  maximum time:     391.130 ms (0.00% GC)\n",
       "  --------------\n",
       "  samples:          14\n",
       "  evals/sample:     1"
      ]
     },
     "execution_count": 40,
     "metadata": {},
     "output_type": "execute_result"
    }
   ],
   "source": [
    "r_hand_bench = @benchmark $mysum_R($a)"
   ]
  },
  {
   "cell_type": "code",
   "execution_count": 41,
   "metadata": {},
   "outputs": [
    {
     "data": {
      "text/plain": [
       "Dict{Any,Any} with 7 entries:\n",
       "  \"R hand-written\"      => 364.564\n",
       "  \"C\"                   => 9.555\n",
       "  \"Python numpy\"        => 3.2401\n",
       "  \"Python hand-written\" => 777.727\n",
       "  \"Python built-in\"     => 632.694\n",
       "  \"C -ffast-math\"       => 4.0787\n",
       "  \"R built-in\"          => 43.579"
      ]
     },
     "execution_count": 41,
     "metadata": {},
     "output_type": "execute_result"
    }
   ],
   "source": [
    "d[\"R hand-written\"] = minimum(r_hand_bench.times) / 1e6\n",
    "d"
   ]
  },
  {
   "cell_type": "markdown",
   "metadata": {},
   "source": [
    "### Julia (built-in)\n",
    "\n",
    "Written directly in Julia, not in C!"
   ]
  },
  {
   "cell_type": "code",
   "execution_count": 42,
   "metadata": {},
   "outputs": [
    {
     "data": {
      "text/html": [
       "sum(a::<b>AbstractArray</b>) in Base at <a href=\"https://github.com/JuliaLang/julia/tree/80516ca20297a67b996caa08c38786332379b6a5/base/reducedim.jl#L648\" target=\"_blank\">reducedim.jl:648</a>"
      ],
      "text/plain": [
       "sum(a::AbstractArray) in Base at reducedim.jl:648"
      ]
     },
     "execution_count": 42,
     "metadata": {},
     "output_type": "execute_result"
    }
   ],
   "source": [
    "@which sum(a)"
   ]
  },
  {
   "cell_type": "code",
   "execution_count": 43,
   "metadata": {},
   "outputs": [
    {
     "data": {
      "text/plain": [
       "BenchmarkTools.Trial: \n",
       "  memory estimate:  0 bytes\n",
       "  allocs estimate:  0\n",
       "  --------------\n",
       "  minimum time:     4.027 ms (0.00% GC)\n",
       "  median time:      4.701 ms (0.00% GC)\n",
       "  mean time:        4.665 ms (0.00% GC)\n",
       "  maximum time:     8.168 ms (0.00% GC)\n",
       "  --------------\n",
       "  samples:          1070\n",
       "  evals/sample:     1"
      ]
     },
     "execution_count": 43,
     "metadata": {},
     "output_type": "execute_result"
    }
   ],
   "source": [
    "j_bench = @benchmark sum($a)"
   ]
  },
  {
   "cell_type": "code",
   "execution_count": 44,
   "metadata": {},
   "outputs": [
    {
     "data": {
      "text/plain": [
       "Dict{Any,Any} with 8 entries:\n",
       "  \"R hand-written\"      => 364.564\n",
       "  \"C\"                   => 9.555\n",
       "  \"Python numpy\"        => 3.2401\n",
       "  \"Python hand-written\" => 777.727\n",
       "  \"Python built-in\"     => 632.694\n",
       "  \"Julia built-in\"      => 4.02666\n",
       "  \"C -ffast-math\"       => 4.0787\n",
       "  \"R built-in\"          => 43.579"
      ]
     },
     "execution_count": 44,
     "metadata": {},
     "output_type": "execute_result"
    }
   ],
   "source": [
    "d[\"Julia built-in\"] = minimum(j_bench.times) / 1e6\n",
    "d"
   ]
  },
  {
   "cell_type": "markdown",
   "metadata": {},
   "source": [
    "### Julia (hand-written)"
   ]
  },
  {
   "cell_type": "code",
   "execution_count": 45,
   "metadata": {},
   "outputs": [
    {
     "data": {
      "text/plain": [
       "mysum (generic function with 1 method)"
      ]
     },
     "execution_count": 45,
     "metadata": {},
     "output_type": "execute_result"
    }
   ],
   "source": [
    "function mysum(A)\n",
    "    s = 0.0 # s = zero(eltype(a))\n",
    "    for a in A\n",
    "        s += a\n",
    "    end\n",
    "    s\n",
    "end"
   ]
  },
  {
   "cell_type": "code",
   "execution_count": 46,
   "metadata": {},
   "outputs": [
    {
     "data": {
      "text/plain": [
       "BenchmarkTools.Trial: \n",
       "  memory estimate:  0 bytes\n",
       "  allocs estimate:  0\n",
       "  --------------\n",
       "  minimum time:     10.042 ms (0.00% GC)\n",
       "  median time:      12.020 ms (0.00% GC)\n",
       "  mean time:        12.498 ms (0.00% GC)\n",
       "  maximum time:     18.754 ms (0.00% GC)\n",
       "  --------------\n",
       "  samples:          400\n",
       "  evals/sample:     1"
      ]
     },
     "execution_count": 46,
     "metadata": {},
     "output_type": "execute_result"
    }
   ],
   "source": [
    "j_bench_hand = @benchmark mysum($a)"
   ]
  },
  {
   "cell_type": "code",
   "execution_count": 47,
   "metadata": {},
   "outputs": [
    {
     "data": {
      "text/plain": [
       "true"
      ]
     },
     "execution_count": 47,
     "metadata": {},
     "output_type": "execute_result"
    }
   ],
   "source": [
    "mysum(a) ≈ sum(a)"
   ]
  },
  {
   "cell_type": "code",
   "execution_count": 48,
   "metadata": {},
   "outputs": [
    {
     "data": {
      "text/plain": [
       "Dict{Any,Any} with 9 entries:\n",
       "  \"R hand-written\"      => 364.564\n",
       "  \"C\"                   => 9.555\n",
       "  \"Python numpy\"        => 3.2401\n",
       "  \"Julia hand-written\"  => 10.0422\n",
       "  \"Python hand-written\" => 777.727\n",
       "  \"Python built-in\"     => 632.694\n",
       "  \"Julia built-in\"      => 4.02666\n",
       "  \"C -ffast-math\"       => 4.0787\n",
       "  \"R built-in\"          => 43.579"
      ]
     },
     "execution_count": 48,
     "metadata": {},
     "output_type": "execute_result"
    }
   ],
   "source": [
    "d[\"Julia hand-written\"] = minimum(j_bench_hand.times) / 1e6\n",
    "d"
   ]
  },
  {
   "cell_type": "markdown",
   "metadata": {},
   "source": [
    "### Julia (hand-written w. simd)"
   ]
  },
  {
   "cell_type": "code",
   "execution_count": 49,
   "metadata": {},
   "outputs": [
    {
     "data": {
      "text/plain": [
       "mysum_simd (generic function with 1 method)"
      ]
     },
     "execution_count": 49,
     "metadata": {},
     "output_type": "execute_result"
    }
   ],
   "source": [
    "function mysum_simd(A)\n",
    "    s = 0.0 # s = zero(eltype(A))\n",
    "    @simd for a in A\n",
    "        s += a\n",
    "    end\n",
    "    s\n",
    "end"
   ]
  },
  {
   "cell_type": "code",
   "execution_count": 50,
   "metadata": {},
   "outputs": [
    {
     "data": {
      "text/plain": [
       "BenchmarkTools.Trial: \n",
       "  memory estimate:  0 bytes\n",
       "  allocs estimate:  0\n",
       "  --------------\n",
       "  minimum time:     4.049 ms (0.00% GC)\n",
       "  median time:      4.951 ms (0.00% GC)\n",
       "  mean time:        4.973 ms (0.00% GC)\n",
       "  maximum time:     9.380 ms (0.00% GC)\n",
       "  --------------\n",
       "  samples:          1003\n",
       "  evals/sample:     1"
      ]
     },
     "execution_count": 50,
     "metadata": {},
     "output_type": "execute_result"
    }
   ],
   "source": [
    "j_bench_hand_simd = @benchmark mysum_simd($a)"
   ]
  },
  {
   "cell_type": "code",
   "execution_count": 51,
   "metadata": {},
   "outputs": [
    {
     "data": {
      "text/plain": [
       "true"
      ]
     },
     "execution_count": 51,
     "metadata": {},
     "output_type": "execute_result"
    }
   ],
   "source": [
    "mysum_simd(a) ≈ sum(a)"
   ]
  },
  {
   "cell_type": "code",
   "execution_count": 52,
   "metadata": {},
   "outputs": [
    {
     "data": {
      "text/plain": [
       "Dict{Any,Any} with 10 entries:\n",
       "  \"Julia hand-written simd\" => 4.04947\n",
       "  \"R hand-written\"          => 364.564\n",
       "  \"C\"                       => 9.555\n",
       "  \"Python numpy\"            => 3.2401\n",
       "  \"Julia hand-written\"      => 10.0422\n",
       "  \"Python hand-written\"     => 777.727\n",
       "  \"Python built-in\"         => 632.694\n",
       "  \"Julia built-in\"          => 4.02666\n",
       "  \"C -ffast-math\"           => 4.0787\n",
       "  \"R built-in\"              => 43.579"
      ]
     },
     "execution_count": 52,
     "metadata": {},
     "output_type": "execute_result"
    }
   ],
   "source": [
    "d[\"Julia hand-written simd\"] = minimum(j_bench_hand_simd.times) / 1e6\n",
    "d"
   ]
  },
  {
   "cell_type": "markdown",
   "metadata": {},
   "source": [
    "## Summary"
   ]
  },
  {
   "cell_type": "code",
   "execution_count": 53,
   "metadata": {},
   "outputs": [
    {
     "name": "stdout",
     "output_type": "stream",
     "text": [
      "Python numpy................3.2\n",
      "Julia built-in..............4.0\n",
      "Julia hand-written simd.....4.0\n",
      "C -ffast-math...............4.1\n",
      "C...........................9.6\n",
      "Julia hand-written.........10.0\n",
      "R built-in.................43.6\n",
      "R hand-written............364.6\n",
      "Python built-in...........632.7\n",
      "Python hand-written.......777.7\n"
     ]
    }
   ],
   "source": [
    "for (key, value) in sort(collect(d), by=last)\n",
    "    println(rpad(key, 25, \".\"), lpad(round(value; digits=1), 6, \".\"))\n",
    "end"
   ]
  }
 ],
 "metadata": {
  "kernelspec": {
   "display_name": "Julia 1.1.0",
   "language": "julia",
   "name": "julia-1.1"
  },
  "language_info": {
   "file_extension": ".jl",
   "mimetype": "application/julia",
   "name": "julia",
   "version": "1.1.0"
  }
 },
 "nbformat": 4,
 "nbformat_minor": 2
}
