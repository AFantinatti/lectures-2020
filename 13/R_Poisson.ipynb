{
 "cells": [
  {
   "cell_type": "markdown",
   "metadata": {},
   "source": [
    "# The R Programming Language"
   ]
  },
  {
   "cell_type": "markdown",
   "metadata": {},
   "source": [
    "1. **R**: Popular **open-source programming language** for statistical analysis\n",
    "2. Widely used in statistics and econometrics\n",
    "3. **User-friendly and powerful IDE**: [RStudio](https://www.rstudio.com/)\n",
    "4. Basic functionalities of **R** can be extended by **packages**\n",
    "5. Large number of packages available on the \n",
    "[Comprehensive R Archive Network](https://cran.r-project.org/) (CRAN)\n",
    "6. **Goal of this presentation:** Illustrate how to use `R` for the estimation of a\n",
    "Poisson regression model"
   ]
  },
  {
   "cell_type": "code",
   "execution_count": null,
   "metadata": {},
   "outputs": [],
   "source": [
    "# install.packages(\"psych\")\n",
    "# install.packages(\"wooldridge\")\n",
    "# install.packages(\"xtable\") "
   ]
  },
  {
   "cell_type": "markdown",
   "metadata": {},
   "source": [
    "## Count data models"
   ]
  },
  {
   "cell_type": "markdown",
   "metadata": {},
   "source": [
    "**Count data** models are used to explain dependent variables that are natural \n",
    "numbers, i.e., positive integers such that $y_i \\in \\mathbb{N}$, where \n",
    "$\\mathbb{N} = \\{0, 1, 2,\\ldots\\}$. \n",
    "\n",
    "Count data models are frequently used in economics to study **countable events**:\n",
    "Number of years of education, number of patent applications filed by companies, \n",
    "number of doctor visits, number of crimes committed in a given city, etc. \n",
    "\n",
    "The **Poisson model** is a popular count data model."
   ]
  },
  {
   "cell_type": "markdown",
   "metadata": {},
   "source": [
    "## Poisson regression model"
   ]
  },
  {
   "cell_type": "markdown",
   "metadata": {},
   "source": [
    "Given a parameter $\\lambda_i > 0$, the **Poisson model** assumes that the \n",
    "probability of observing $Y_i=y_i$, where $y_i\\in\\mathbb{N}$, is equal to:\n",
    "$$Prob(Y_i = y_i \\mid \\lambda_i) = \\frac{\\lambda_i^{y_i}\\exp\\{-\\lambda_i\\}}{y_i!},$$\n",
    "for $i=1,\\ldots,N$.\n",
    "\n",
    "The mean and the variance of $Y_i$ are equal to the parameter $\\lambda_i$:  \n",
    "$$E(Y_i\\mid\\lambda_i) = V(Y_i\\mid\\lambda_i) = \\lambda_i,$$\n",
    "implying *equi-dispersion* of the data.\n",
    "\n",
    "To control for **observed characteristics**, the parameter $\\lambda_i$ can be \n",
    "parametrized as follows (implying $\\lambda_i > 0$):\n",
    "$$E(Y_i|X_i,\\beta) \\equiv \\lambda_i = \\exp\\{X_i'\\beta\\},$$\n",
    "where $X_i$ is a vector containing the covariates."
   ]
  },
  {
   "cell_type": "markdown",
   "metadata": {
    "lines_to_next_cell": 0
   },
   "source": [
    "## Simulating data"
   ]
  },
  {
   "cell_type": "markdown",
   "metadata": {
    "lines_to_next_cell": 0
   },
   "source": [
    "`R` function simulating data from Poisson regression model:"
   ]
  },
  {
   "cell_type": "code",
   "execution_count": null,
   "metadata": {
    "lines_to_next_cell": 0
   },
   "outputs": [],
   "source": [
    "simul_poisson <- function(n, beta) {\n",
    "  k <- length(beta)               # number of covariates\n",
    "  x <- replicate(k - 1, rnorm(n)) # simulate covariates\n",
    "  x <- cbind(1, x)                # for intercept term\n",
    "  lambda <- exp(x %*% beta)       # individual means\n",
    "  y <- rpois(n, lambda)           # simulate count\n",
    "  return(data.frame(y, x))        # return variables\n",
    "}"
   ]
  },
  {
   "cell_type": "markdown",
   "metadata": {
    "lines_to_next_cell": 0
   },
   "source": [
    "Using function to generate data:"
   ]
  },
  {
   "cell_type": "code",
   "execution_count": null,
   "metadata": {},
   "outputs": [],
   "source": [
    "set.seed(123)\n",
    "nobs <- 1000\n",
    "beta <- c(-.5, .4, -.7)\n",
    "data <- simul_poisson(nobs, beta)"
   ]
  },
  {
   "cell_type": "markdown",
   "metadata": {
    "lines_to_next_cell": 0
   },
   "source": [
    "## Data description"
   ]
  },
  {
   "cell_type": "markdown",
   "metadata": {
    "lines_to_next_cell": 0
   },
   "source": [
    "Descriptive statistics:"
   ]
  },
  {
   "cell_type": "code",
   "execution_count": null,
   "metadata": {},
   "outputs": [],
   "source": [
    "# extract variables of interest from data set\n",
    "y <- data[, 1]\n",
    "x <- as.matrix(data[, 2:4])\n",
    "\n",
    "# descriptive statistics\n",
    "library(psych)\n",
    "describe(data)"
   ]
  },
  {
   "cell_type": "markdown",
   "metadata": {
    "lines_to_next_cell": 0
   },
   "source": [
    "## Data Description"
   ]
  },
  {
   "cell_type": "markdown",
   "metadata": {
    "lines_to_next_cell": 0
   },
   "source": [
    "Histogram of count variable:"
   ]
  },
  {
   "cell_type": "code",
   "execution_count": null,
   "metadata": {
    "fig.height": 5
   },
   "outputs": [],
   "source": [
    "barplot(table(y))"
   ]
  },
  {
   "cell_type": "markdown",
   "metadata": {
    "lines_to_next_cell": 0
   },
   "source": [
    "## Data Description"
   ]
  },
  {
   "cell_type": "markdown",
   "metadata": {
    "lines_to_next_cell": 0
   },
   "source": [
    "Relationship between count variable and covariates:"
   ]
  },
  {
   "cell_type": "code",
   "execution_count": null,
   "metadata": {
    "fig.height": 5
   },
   "outputs": [],
   "source": [
    "par(mfrow = c(1, 2))\n",
    "plot(y, x[, 2])\n",
    "plot(y, x[, 3])"
   ]
  },
  {
   "cell_type": "markdown",
   "metadata": {},
   "source": [
    "## Likelihood Function and ML Estimator"
   ]
  },
  {
   "cell_type": "markdown",
   "metadata": {},
   "source": [
    "Individual contribution to the likelihood function:\n",
    "$$L_i(\\beta;y_i,x_i) = \\frac{\\exp\\{y_ix_i\\beta\\}\\exp\\{-\\exp\\{x_i\\beta\\}\\}}{y_i!}$$\n",
    "Individual log-Likelihood function:\n",
    "$$\\ell_i(\\beta;y_i,x_i) = \\log L_i(\\beta;y_i,x_i) \n",
    "= y_ix_i\\beta - \\exp\\{x_i\\beta\\} - \\log(y_i!)$$\n",
    "\n",
    "Maximum Likelihood Estimator:\n",
    "$$\\hat{\\beta}_{\\text{MLE}} = \\arg\\max_{\\beta} \\sum_{i=1}^N \\ell(\\beta;y,X)$$\n",
    "\n",
    "Optimization (using *minimization* of objective function): \n",
    "$$\\hat{\\beta}_{\\text{MLE}} = \\arg\\min_{\\beta} Q(\\beta;y,X) \\qquad\n",
    "Q(\\beta;y,X) = -\\frac{1}{N}\\sum_{i=1}^N \\ell_i(\\beta;y_i,x_i)$$"
   ]
  },
  {
   "cell_type": "markdown",
   "metadata": {},
   "source": [
    "## Coding the Objective Function"
   ]
  },
  {
   "cell_type": "code",
   "execution_count": null,
   "metadata": {},
   "outputs": [],
   "source": [
    "# Objective function of Poisson regression model\n",
    "obj_poisson <- function(beta, y, x) {\n",
    "  lambda <- x %*% beta\n",
    "  llik <- y*lambda - exp(lambda) - lfactorial(y)\n",
    "  return(-mean(llik))\n",
    "}\n",
    "\n",
    "# Evaluating objective function\n",
    "beta0 <- c(1, 2, 3)\n",
    "obj_poisson(beta0, y, x)"
   ]
  },
  {
   "cell_type": "markdown",
   "metadata": {
    "lines_to_next_cell": 0
   },
   "source": [
    "## Maximizing the Objective Function\n",
    "\n",
    "Set starting values:"
   ]
  },
  {
   "cell_type": "code",
   "execution_count": null,
   "metadata": {
    "lines_to_next_cell": 0
   },
   "outputs": [],
   "source": [
    "beta0 <- rep(0, length(beta))"
   ]
  },
  {
   "cell_type": "markdown",
   "metadata": {
    "lines_to_next_cell": 0
   },
   "source": [
    "Optimize using quasi-Newton method (BFGS algorithm):"
   ]
  },
  {
   "cell_type": "code",
   "execution_count": null,
   "metadata": {
    "lines_to_next_cell": 0
   },
   "outputs": [],
   "source": [
    "opt <- optim(beta0, obj_poisson, method = \"BFGS\", \n",
    "             y = y, x = x)"
   ]
  },
  {
   "cell_type": "markdown",
   "metadata": {
    "lines_to_next_cell": 0
   },
   "source": [
    "Show results:"
   ]
  },
  {
   "cell_type": "code",
   "execution_count": null,
   "metadata": {},
   "outputs": [],
   "source": [
    "cat(\"ML estimates:\", opt$par,\n",
    "    \"\\nObjective function:\", opt$value, \"\\n\")"
   ]
  },
  {
   "cell_type": "markdown",
   "metadata": {},
   "source": [
    "## Comparing Results to Built-in Function"
   ]
  },
  {
   "cell_type": "code",
   "execution_count": null,
   "metadata": {},
   "outputs": [],
   "source": [
    "opt_glm <- glm(y ~ 0 + x, family = poisson)\n",
    "summary(opt_glm)"
   ]
  },
  {
   "cell_type": "markdown",
   "metadata": {
    "lines_to_next_cell": 0
   },
   "source": [
    "## Comparing Results to Built-in Function"
   ]
  },
  {
   "cell_type": "markdown",
   "metadata": {
    "lines_to_next_cell": 0
   },
   "source": [
    "Collect results from the two approaches to compare them:"
   ]
  },
  {
   "cell_type": "code",
   "execution_count": null,
   "metadata": {},
   "outputs": [],
   "source": [
    "res <- cbind(\"True\" = beta, \"MLE\" = opt$par, \n",
    "             \"GLM\" = opt_glm$coefficients)\n",
    "row.names(res) <- c(\"constant\", \"x1\", \"x2\")\n",
    "res"
   ]
  },
  {
   "cell_type": "markdown",
   "metadata": {},
   "source": [
    "**Question:** Our results (`MLE`) are virtually the same as those obtained \n",
    "with the built-in function `GLM`, but not identical. Where do the small \n",
    "differences come from?"
   ]
  },
  {
   "cell_type": "markdown",
   "metadata": {
    "lines_to_next_cell": 0
   },
   "source": [
    "## Empirical Illustration\n",
    "\n",
    "**Goal:** Investigate the determinants of fertility.\n",
    "\n",
    "Poisson regression model used to estimate the relationship between explanatory\n",
    "variables and count outcome variable.\n",
    "\n",
    "Both our estimator coded from scratch and `R` built-in function will be used."
   ]
  },
  {
   "cell_type": "markdown",
   "metadata": {
    "lines_to_next_cell": 0
   },
   "source": [
    "## Data\n",
    "\n",
    "**Source:** Botswana's 1988 Demographic and Health Survey.\n",
    "\n",
    "Data set borrowed from Wooldridge:"
   ]
  },
  {
   "cell_type": "code",
   "execution_count": null,
   "metadata": {
    "lines_to_next_cell": 0
   },
   "outputs": [],
   "source": [
    "library(wooldridge)\n",
    "data(fertil2)"
   ]
  },
  {
   "cell_type": "markdown",
   "metadata": {
    "lines_to_next_cell": 0
   },
   "source": [
    "Outcome variable: Total number of living children:"
   ]
  },
  {
   "cell_type": "code",
   "execution_count": null,
   "metadata": {
    "lines_to_next_cell": 0
   },
   "outputs": [],
   "source": [
    "y_lab <- \"children\""
   ]
  },
  {
   "cell_type": "markdown",
   "metadata": {
    "lines_to_next_cell": 0
   },
   "source": [
    "Explanatory variables: Education, age, marital status, living in urban area,\n",
    "having electricity/TV at home:"
   ]
  },
  {
   "cell_type": "code",
   "execution_count": null,
   "metadata": {},
   "outputs": [],
   "source": [
    "x_lab <- c(\"educ\", \"age\", \"agesq\", \"evermarr\", \"urban\", \n",
    "           \"electric\", \"tv\")"
   ]
  },
  {
   "cell_type": "markdown",
   "metadata": {
    "lines_to_next_cell": 0
   },
   "source": [
    "## Loading data"
   ]
  },
  {
   "cell_type": "markdown",
   "metadata": {
    "lines_to_next_cell": 0
   },
   "source": [
    "Selecting variables and removing missing values:"
   ]
  },
  {
   "cell_type": "code",
   "execution_count": null,
   "metadata": {},
   "outputs": [],
   "source": [
    "data <- fertil2[, c(y_lab, x_lab)]\n",
    "data <- na.omit(data)"
   ]
  },
  {
   "cell_type": "markdown",
   "metadata": {
    "lines_to_next_cell": 0
   },
   "source": [
    "Show first 6 observations on first 8 variables:"
   ]
  },
  {
   "cell_type": "code",
   "execution_count": null,
   "metadata": {},
   "outputs": [],
   "source": [
    "head(data[, 1:8], n = 6)"
   ]
  },
  {
   "cell_type": "markdown",
   "metadata": {},
   "source": [
    "## Descriptive Statitics"
   ]
  },
  {
   "cell_type": "code",
   "execution_count": null,
   "metadata": {},
   "outputs": [],
   "source": [
    "library(psych)\n",
    "describe(data)"
   ]
  },
  {
   "cell_type": "markdown",
   "metadata": {},
   "source": [
    "## Plot"
   ]
  },
  {
   "cell_type": "code",
   "execution_count": null,
   "metadata": {
    "fig.height": 5,
    "lines_to_next_cell": 2
   },
   "outputs": [],
   "source": [
    "attach(data)\n",
    "par(mfrow = c(1, 2))\n",
    "blue_transp <- adjustcolor(\"blue\", alpha.f = 0.1)\n",
    "plot(age, children, pch = 19, col = blue_transp)\n",
    "plot(educ, children, pch = 19, col = blue_transp)"
   ]
  },
  {
   "cell_type": "markdown",
   "metadata": {
    "lines_to_next_cell": 0
   },
   "source": [
    "## MLE of the Poisson Model"
   ]
  },
  {
   "cell_type": "markdown",
   "metadata": {
    "lines_to_next_cell": 0
   },
   "source": [
    "Maximum likelihood function using built-in function `glm()`:"
   ]
  },
  {
   "cell_type": "code",
   "execution_count": null,
   "metadata": {
    "lines_to_next_cell": 0
   },
   "outputs": [],
   "source": [
    "mle <- glm(children ~ educ + age + agesq + evermarr + \n",
    "             urban + electric + tv,\n",
    "           family = \"poisson\", data = data)"
   ]
  },
  {
   "cell_type": "markdown",
   "metadata": {
    "lines_to_next_cell": 0
   },
   "source": [
    "Maximum likelihood function using our own function:"
   ]
  },
  {
   "cell_type": "code",
   "execution_count": null,
   "metadata": {},
   "outputs": [],
   "source": [
    "y <- data[, y_lab]\n",
    "x <- as.matrix(data[, x_lab])\n",
    "x <- cbind(1, x)          # for intercept term\n",
    "beta0 <- rep(0, ncol(x))  # starting values\n",
    "opt <- optim(beta0, obj_poisson, method = \"BFGS\", \n",
    "             y = y, x = x)"
   ]
  },
  {
   "cell_type": "markdown",
   "metadata": {},
   "source": [
    "## MLE of the Poisson Model\n",
    "\n",
    "**Results different from `glm()`?**\n",
    "\n",
    "Optimization algorithms are iterative methods that rely on different criteria\n",
    "to dertermine if/when the optimum has been reached.\n",
    "\n",
    "**For example:** Change in the objective function, change in the parameter values,\n",
    "change in the gradient, step size, etc.\n",
    "\n",
    "*[More in Advanced Microeconometrics course].*\n",
    "\n",
    "**Try to adjust tuning parameters**, for example add \n",
    "`control = list(ndeps = rep(1e-8, ncol(x)))` to `optim()` to change step size \n",
    "of gradient approximation."
   ]
  },
  {
   "cell_type": "markdown",
   "metadata": {},
   "source": [
    "## Summarizing the Empirical Results"
   ]
  },
  {
   "cell_type": "code",
   "execution_count": null,
   "metadata": {},
   "outputs": [],
   "source": [
    "summary(mle)"
   ]
  },
  {
   "cell_type": "markdown",
   "metadata": {
    "lines_to_next_cell": 0
   },
   "source": [
    "## Fitted Values"
   ]
  },
  {
   "cell_type": "code",
   "execution_count": null,
   "metadata": {
    "fig.height": 6
   },
   "outputs": [],
   "source": [
    "plot(density(mle$fitted.values), \n",
    "     main = \"Density of fitted mean values\")"
   ]
  },
  {
   "cell_type": "markdown",
   "metadata": {
    "lines_to_next_cell": 0
   },
   "source": [
    "## Formatting the results"
   ]
  },
  {
   "cell_type": "code",
   "execution_count": null,
   "metadata": {},
   "outputs": [],
   "source": [
    "library(xtable)\n",
    "xtable(mle)"
   ]
  }
 ],
 "metadata": {
  "jupytext": {
   "cell_metadata_filter": "fig.height,tags,name,-all",
   "main_language": "R",
   "notebook_metadata_filter": "-all"
  },
  "kernelspec": {
   "display_name": "R",
   "language": "R",
   "name": "ir"
  },
  "language_info": {
   "codemirror_mode": "r",
   "file_extension": ".r",
   "mimetype": "text/x-r-source",
   "name": "R",
   "pygments_lexer": "r",
   "version": "3.6.0"
  }
 },
 "nbformat": 4,
 "nbformat_minor": 4
}
