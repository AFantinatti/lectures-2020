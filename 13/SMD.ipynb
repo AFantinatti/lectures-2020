{
 "cells": [
  {
   "cell_type": "markdown",
   "metadata": {},
   "source": [
    "# Estimating a simpel model by simulated minimum distance (SMD)\n",
    "\n",
    "**Inspiration:** This notebook is based on SMD.ipynb notebook from last lecture, which is again based on a [Bradley Setzler's blog post](https://juliaeconomics.com/tag/method-of-simulated-moments/).\n",
    "\n",
    "**Download Julia:**\n",
    "- [Open source version](https://julialang.org/downloads/)\n",
    "- [JuliaPro from Julia Computing (bundled with IDE and notebook support)](https://juliacomputing.com/products/juliapro)\n",
    "\n",
    "[Documentation** (language and about 1900 packages)](https://pkg.julialang.org/docs/)\n",
    "\n",
    "**Julia community:**\n",
    "- [Discourse](https://discourse.julialang.org)\n",
    "- [Slack](https://julialang.slack.com)\n",
    "\n",
    "For **introductory material on Julia for Economists**, see [https://lectures.quantecon.org/jl/](https://lectures.quantecon.org/jl/)."
   ]
  },
  {
   "cell_type": "markdown",
   "metadata": {},
   "source": [
    "[<img src=\"https://mybinder.org/badge_logo.svg\">](https://mybinder.org/v2/gh/NumEconCopenhagen/lectures-2019/master?urlpath=lab/tree/13/SMD.ipynb)"
   ]
  },
  {
   "cell_type": "markdown",
   "metadata": {},
   "source": [
    "**Some initial setup:**"
   ]
  },
  {
   "cell_type": "code",
   "execution_count": 1,
   "metadata": {},
   "outputs": [],
   "source": [
    "using Random, Statistics, PyPlot, Optim\n",
    "include(\"model.jl\"); # use trailing semi-colon to suppress output"
   ]
  },
  {
   "cell_type": "markdown",
   "metadata": {},
   "source": [
    "# The economic model"
   ]
  },
  {
   "cell_type": "markdown",
   "metadata": {},
   "source": [
    "Let $c_i$ denote consumption and $0 ⩽ l_i \\leqslant 1$ denote leisure. Consider an agent who wishes to maximize Cobb-Douglas utility over consumption and leisure subject to a budget constraint. That is\n",
    "$$\n",
    "\\max_{c_i,l_i} c_i^\\gamma l_i^{1-\\gamma}\\\\\n",
    "\\mathrm{s.t.} \\\\\n",
    "c_i \\leqslant (1 - τ) w_i (1 - l_i) + \\varepsilon_i\n",
    "$$\n",
    "\n",
    "where $0 \\leqslant \\gamma \\leqslant 1$ is the relative preference for consumption, $w_i$ is wage earned from supplying labor, $\\tau$ is the tax rate and $\\varepsilon_i$ is a non-labor income shock.\n",
    "\n",
    "This model has a closes form solution given by:\n",
    "\n",
    "$$\n",
    "c^\\star (w_i,\\varepsilon_i;\\gamma) = \\gamma (1 - \\tau) w_i +\\gamma \\varepsilon_i \\\\\n",
    "l^\\star(w_i,\\varepsilon_i;\\gamma) = (1 - \\gamma) +\\frac{(1 - \\gamma)\\varepsilon_i}{(1 - \\tau) w_i}\n",
    "$$"
   ]
  },
  {
   "cell_type": "markdown",
   "metadata": {},
   "source": [
    "# The empirical goal"
   ]
  },
  {
   "cell_type": "markdown",
   "metadata": {},
   "source": [
    "We will impose a set of simplifying assumptions:\n",
    "\n",
    "- The unobserved income shock is iid with known distribution, $\\varepsilon_i \\sim N(0,\\sigma^2)$.\n",
    "- The individual wages, $w_i$, are observed along with consumption and labor choices for $n=10,000$ individuals.\n",
    "\n",
    "The goal is to estimate the relative preference for consumption and leisure, $\\gamma$, and the tax rate, $\\tau$ in this model. The set of parameters to be estimated thus is $\\theta=(\\gamma,\\tau,\\sigma)$.\n",
    "\n",
    "To this end, we assume that we have a dataset consisting of $\\{w_i,c_i,l_i\\}_{i=1}^n$. To simulate such a dataset we run the following code."
   ]
  },
  {
   "cell_type": "code",
   "execution_count": 2,
   "metadata": {},
   "outputs": [],
   "source": [
    "# a. true parameters in the data generating process\n",
    "### in Julia, it is often convenient to use NamedTuples for storing parameters\n",
    "θ = (γ=0.5, τ=0.2, σ=1.0)\n",
    "\n",
    "# b. simulate observed dataset\n",
    "### for reproducibility, it is a good idea, to explicitly pass a RNG (here MersenneTwister)\n",
    "### object to the random number functions\n",
    "rng = MersenneTwister(123)\n",
    "n = 10_000\n",
    "\n",
    "## stochastic variables\n",
    "### distribution of log-wages are (arbitrarily) chosen to be standard normal\n",
    "w = exp.(randn(rng, n))\n",
    "e = θ.σ*randn(rng, n)\n",
    "\n",
    "# optimal choices\n",
    "### we use the dot-syntax `foo.`` to make the function *broadcast* over all elements of the\n",
    "### arrays and we use `Ref` to signal that an argument should be treated as a scalar in the\n",
    "### broadcast operation.\n",
    "con = Model.c_star.(w, e, Ref(θ))\n",
    "lab = Model.l_star.(w, e, Ref(θ));"
   ]
  },
  {
   "cell_type": "markdown",
   "metadata": {},
   "source": [
    "# Visualizing the data"
   ]
  },
  {
   "cell_type": "markdown",
   "metadata": {},
   "source": [
    "We could imagine plotting the scatter of consumption and labor supply against wages."
   ]
  },
  {
   "cell_type": "code",
   "execution_count": 3,
   "metadata": {},
   "outputs": [
    {
     "data": {
      "image/png": "[encoded data removed]",
      "text/plain": [
       "Figure(PyObject <Figure size 1000x400 with 2 Axes>)"
      ]
     },
     "metadata": {},
     "output_type": "display_data"
    }
   ],
   "source": [
    "### There are several plotting packages in Julia but for here we use the PyPlot.jl package\n",
    "### which wraps Python's matplotlib. Notice, that it is possible to reuse much of the\n",
    "### Python syntax dispite this being evaluated as normal Julia code.\n",
    "\n",
    "fig = plt.figure(figsize=(10,4))\n",
    "ax = fig.add_subplot(1,2,1)\n",
    "ax.scatter(w, con)\n",
    "ax.grid(true)\n",
    "ax.set_xlabel(raw\"$w_i$\")\n",
    "ax.set_ylabel(raw\"$c_i$\")\n",
    "\n",
    "ax = fig.add_subplot(1,2,2)\n",
    "ax.scatter(w, lab)\n",
    "ax.grid(true)\n",
    "ax.set_xlabel(raw\"$w_i$\")\n",
    "ax.set_ylabel(raw\"$l_i$\");"
   ]
  },
  {
   "cell_type": "markdown",
   "metadata": {},
   "source": [
    "We note that there is a clear relationship between consumption and wages. We could thus imagine estimating the two parameters in $\\theta$ using the correlation between the consumption and wages, the average labor supply and the variance of consumption."
   ]
  },
  {
   "cell_type": "markdown",
   "metadata": {},
   "source": [
    "# Identification"
   ]
  },
  {
   "cell_type": "markdown",
   "metadata": {},
   "source": [
    "From the solution we note that the correlation between wages and consumption depends on $γ$ and $\\tau$, the mean of the labor supply should be $1 - \\gamma$ and that the variance of consumption should be proportional to the variance of $varepsilon$, $\\sigma^2$. These moments, in turn, should be able to identify the parameters in $\\theta$.\n",
    "\n",
    "We can denote the moments in the data as $\\Lambda^{\\mathrm{data}} = (\\mathrm{corr}(w_i, c_i), \\mathrm{mean}(l_i), \\mathrm{var}(c_i))$ and calculate them as:"
   ]
  },
  {
   "cell_type": "code",
   "execution_count": 4,
   "metadata": {},
   "outputs": [
    {
     "data": {
      "text/plain": [
       "(0.8673269168418695, 0.4810790538523146, 1.0050937857814541)"
      ]
     },
     "execution_count": 4,
     "metadata": {},
     "output_type": "execute_result"
    }
   ],
   "source": [
    "moments_fun = (w, con, lab) -> (cor(w, con), mean(lab), var(con))\n",
    "mom_data = moments_fun(w, con, lab)\n",
    "mom_data"
   ]
  },
  {
   "cell_type": "markdown",
   "metadata": {},
   "source": [
    "# An SMD Estimator"
   ]
  },
  {
   "cell_type": "markdown",
   "metadata": {},
   "source": [
    "We can then estimate $\\theta$ by minimizing the squared distance between the empirical moments in the data, $\\Lambda^\\mathrm{data}$, and the same moments calculated from $S=100$ simulated agents for each of the $n$ values of $w_i$ from the model for each guess of $\\theta$, $\\Lambda^\\mathrm{sim}(\\theta;w)$.\n",
    "\n",
    "Specifically, we simulate draws of $\\{\\varepsilon_i^{(s)}\\}_{i=1,s=1}^{n,S}$,calculate the synthetic dataset for a value of $\\theta$, $\\{w_i, s_i^{(s)}, l_i^{(s)}\\}_{i=1,s=1}^{n,S}$, and stack these $n\\times S$ observations to calculate the moments above to get $Λ^\\mathrm{sim}(\\theta;w)$.\n",
    "\n",
    "Our **SMD estimator** is\n",
    "\n",
    "$$\n",
    "\\hat{\\theta} = \\arg \\min_\\theta Q(\\theta;w)\n",
    "$$\n",
    "\n",
    "where the objective function is $Q(\\theta,w) = \\|\\Lambda^\\mathrm{data} - \\Lambda^\\mathrm{sim}(\\theta,w)\\|^2$\n",
    "\n",
    "The objective function could be coded as done in the `obj_fun`. In the `model.jl` file."
   ]
  },
  {
   "cell_type": "markdown",
   "metadata": {},
   "source": [
    "# Objective function\n",
    "\n",
    "We specify which parameters to be estimated and construct initial starting values as"
   ]
  },
  {
   "cell_type": "code",
   "execution_count": 5,
   "metadata": {},
   "outputs": [
    {
     "data": {
      "text/plain": [
       "(γ = 0.4, τ = 0.15, σ = 0.9)"
      ]
     },
     "execution_count": 5,
     "metadata": {},
     "output_type": "execute_result"
    }
   ],
   "source": [
    "θ₀ = (γ=0.4, τ=0.15, σ=0.9)  # initial guesses"
   ]
  },
  {
   "cell_type": "markdown",
   "metadata": {},
   "source": [
    "And we can evaluate the objective function as"
   ]
  },
  {
   "cell_type": "code",
   "execution_count": 6,
   "metadata": {},
   "outputs": [
    {
     "data": {
      "text/plain": [
       "0.12185671913345228"
      ]
     },
     "execution_count": 6,
     "metadata": {},
     "output_type": "execute_result"
    }
   ],
   "source": [
    "obj_at_θ₀ = Model.obj_fun(θ₀, w, mom_data, moments_fun)"
   ]
  },
  {
   "cell_type": "markdown",
   "metadata": {},
   "source": [
    "# Call optimizer\n",
    "We then call an unconstained optimizer using numerical gradients with option to print iterations"
   ]
  },
  {
   "cell_type": "code",
   "execution_count": 7,
   "metadata": {},
   "outputs": [
    {
     "data": {
      "text/plain": [
       "Results of Optimization Algorithm\n",
       " * Algorithm: BFGS\n",
       " * Starting Point: [0.4,0.15,0.9]\n",
       " * Minimizer: [0.520726900724164,0.23427069484126523, ...]\n",
       " * Minimum: 9.384266e-20\n",
       " * Iterations: 9\n",
       " * Convergence: true\n",
       "   * |x - x'| ≤ 0.0e+00: false \n",
       "     |x - x'| = 3.52e-07 \n",
       "   * |f(x) - f(x')| ≤ 0.0e+00 |f(x)|: false\n",
       "     |f(x) - f(x')| = 1.76e+05 |f(x)|\n",
       "   * |g(x)| ≤ 1.0e-08: true \n",
       "     |g(x)| = 3.69e-10 \n",
       "   * Stopped by an increasing objective: false\n",
       "   * Reached Maximum Number of Iterations: false\n",
       " * Objective Calls: 24\n",
       " * Gradient Calls: 24"
      ]
     },
     "execution_count": 7,
     "metadata": {},
     "output_type": "execute_result"
    }
   ],
   "source": [
    "### The optimization function passes a `Vector` to the objective function so first we have\n",
    "### to construct a `NamedTuple` from the `Vector`\n",
    "\n",
    "obj_fun = vθ -> Model.obj_fun((γ=vθ[1], τ=vθ[2], σ=vθ[3]), w, mom_data, moments_fun)\n",
    "\n",
    "results = optimize(obj_fun, [θ₀...], BFGS()) # [θ₀...] converts the NamedTuple to a Vector"
   ]
  },
  {
   "cell_type": "code",
   "execution_count": 8,
   "metadata": {},
   "outputs": [
    {
     "name": "stdout",
     "output_type": "stream",
     "text": [
      "True value:(γ = 0.4, τ = 0.15, σ = 0.9)\n",
      "Estimated value:(γ = 0.52, τ = 0.23, σ = 0.96)\n"
     ]
    }
   ],
   "source": [
    "println(\"True value:\", θ₀)\n",
    "println(\"Estimated value:\", NamedTuple{keys(θ₀)}(round.(results.minimizer, digits=2)))"
   ]
  }
 ],
 "metadata": {
  "kernelspec": {
   "display_name": "Julia 1.1.0",
   "language": "julia",
   "name": "julia-1.1"
  },
  "language_info": {
   "file_extension": ".jl",
   "mimetype": "application/julia",
   "name": "julia",
   "version": "1.1.0"
  },
  "toc-autonumbering": true
 },
 "nbformat": 4,
 "nbformat_minor": 2
}
