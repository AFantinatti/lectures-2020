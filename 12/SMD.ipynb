{
 "cells": [
  {
   "cell_type": "markdown",
   "metadata": {},
   "source": [
    "# Estimating a simpel model by simulated minimum distance (SMD)"
   ]
  },
  {
   "cell_type": "markdown",
   "metadata": {},
   "source": [
    "**Inspiration:** This notebook is based on an example given by Julia/Economics ([link](https://juliaeconomics.com/tag/method-of-simulated-moments/)).\n",
    "\n",
    "**MATLAB:** The file **SMD.mlx** contains a MATLAB version of the same notebook. \n",
    "\n",
    "* For a **guide to MATLAB for Python users** see [here](https://docs.scipy.org/doc/numpy/user/numpy-for-matlab-users.html).\n",
    "* For **short course in MATLAB for economists** see [here](https://absalon.ku.dk/courses/25988/pages/online-matlab-course-for-students-of-economics) (the content is in the MATLAB_course folder). "
   ]
  },
  {
   "cell_type": "code",
   "execution_count": 1,
   "metadata": {},
   "outputs": [],
   "source": [
    "import numpy as np\n",
    "import matplotlib.pyplot as plt\n",
    "from scipy import optimize\n",
    "import model\n",
    "\n",
    "%load_ext autoreload\n",
    "%autoreload 2"
   ]
  },
  {
   "cell_type": "markdown",
   "metadata": {},
   "source": [
    "# The economic model"
   ]
  },
  {
   "cell_type": "markdown",
   "metadata": {},
   "source": [
    "Let $c_i$ denote consumption and $0 \\leq l_i \\leq 1$ denote leisure. Consider an agent who wishes to maximize Cobb-Douglas utility over consumption and leisure subject to a budget constraint. That is\n",
    "\n",
    "\\\\[\n",
    "\\max_{c_i,l_i} c_i^{\\gamma}l_i^{1-\\gamma} \\\\\n",
    "\\text{s.t.} \\\\\n",
    "c_i \\leq (1-\\tau)w_i(1-l_i) + \\epsilon_i\n",
    "\\\\]\n",
    "\n",
    "where $0 \\leq \\gamma \\leq 1$ is the relative preference for consumption, $w_i$ is wage earned from supplying labor, \\tau is the tax rate and \\epsilon_i is a non-labor income shock.\n",
    "\n",
    "This model has a closes form solution given by:\n",
    "\n",
    "\\\\[\n",
    "c^\\star(w_i,\\epsilon_i;\\gamma) = \\gamma(1-\\tau)w_i+\\gamma\\epsilon_i \\\\\n",
    "l^\\star(w_i,\\epsilon_i;\\gamma) = (1-\\gamma)+\\frac{(1-\\gamma)\\epsilon_i}{(1-\\tau)w_i}\n",
    "\\\\]\n",
    "\n"
   ]
  },
  {
   "cell_type": "markdown",
   "metadata": {},
   "source": [
    "# The empirical goal"
   ]
  },
  {
   "cell_type": "markdown",
   "metadata": {},
   "source": [
    "We will impose a set of simplifying assumptions:\n",
    "\n",
    "* The unobserved income shock is iid with known distribution, $\\epsilon_i \\sim N\\left(0,\\sigma {\\;}^2 \\right)$.\n",
    "* The individual wages, $w_i$, are observed along with consumption and labor choices for $n=10,000$ individuals.\n",
    "\n",
    "The goal is to estimate the relative preference for consumption and leisure, $\\gamma \\;$, and the tax rate, $\\tau \\;\\;$ in this model. The set of parameters to be estimated thus is $\\theta =\\left(\\gamma \\;,\\tau \\;,\\sigma \\;\\right)$.\n",
    "\n",
    "To this end, we asume that we have a dataset consiting of ${\\left\\lbrace w_i ,c_i ,l_i \\right\\rbrace }_{i=1}^n$. To simulate such a dataset we run the following code. "
   ]
  },
  {
   "cell_type": "code",
   "execution_count": 2,
   "metadata": {},
   "outputs": [],
   "source": [
    "# a. true parameters in the data generating process\n",
    "par = dict()\n",
    "par['gamma'] = 0.5;\n",
    "par['tau'] = 0.2;\n",
    "par['sigma'] = 1.0;\n",
    "true = par.copy()\n",
    "\n",
    "# b. simulate observed dataset\n",
    "np.random.seed(2019); # set the seed\n",
    "n = 10000;\n",
    "\n",
    "# stochastic variables\n",
    "w = np.exp(np.random.normal(size=n)); # distribution of log-wages are (arbitrarely) chosen to be standard normal\n",
    "e = par['sigma']*np.random.normal(size=n);\n",
    "\n",
    "# optimal choices\n",
    "con = model.c_star(w,e,par);\n",
    "lab = model.l_star(w,e,par);"
   ]
  },
  {
   "cell_type": "markdown",
   "metadata": {},
   "source": [
    "# Visualizing the data"
   ]
  },
  {
   "cell_type": "markdown",
   "metadata": {},
   "source": [
    "We could imagine plotting the scatter of consumption and labor supply against wages. "
   ]
  },
  {
   "cell_type": "code",
   "execution_count": 9,
   "metadata": {},
   "outputs": [
    {
     "data": {
      "image/png": "[encoded data removed]",
      "text/plain": [
       "<Figure size 720x288 with 2 Axes>"
      ]
     },
     "metadata": {
      "needs_background": "light"
     },
     "output_type": "display_data"
    }
   ],
   "source": [
    "fig = plt.figure(figsize=(10,4))\n",
    "ax = fig.add_subplot(1,2,1)\n",
    "ax.scatter(w,con)\n",
    "ax.grid(True)\n",
    "ax.set_xlabel('$w_i$')\n",
    "ax.set_ylabel('$c_i$')\n",
    "\n",
    "ax = fig.add_subplot(1,2,2)\n",
    "ax.scatter(w,lab)\n",
    "ax.grid(True)\n",
    "ax.set_xlabel('$w_i$')\n",
    "ax.set_ylabel('$l_i$');"
   ]
  },
  {
   "cell_type": "markdown",
   "metadata": {},
   "source": [
    "We note that there is a clear relationship between consumption and wages. We could thus imagine estimating the two parameters in $\\theta$ using the correlation between the consumption and wages, the average labor supply and the variance of consumption. "
   ]
  },
  {
   "cell_type": "markdown",
   "metadata": {},
   "source": [
    "# Identification"
   ]
  },
  {
   "cell_type": "markdown",
   "metadata": {},
   "source": [
    "From the solution we note that the correlation between wages and consumption depends on $\\gamma$ and $\\tau$, the mean of the labor supply should be $1-\\gamma \\;$ and that the variance of consumption should be proportional to the variance of $\\epsilon$, $\\sigma^2$. These moments, in turn, should be able to identify the parameters in $\\theta$.\n",
    "\n",
    "We can denote the moments in the data as $\\Lambda^{\\mathrm{data}} ={\\left(\\mathrm{corr}\\left(w_i ,c_i \\right),\\mathrm{mean}\\left(l_i \\right),\\mathrm{var}\\left(c_i \\right)\\right)}^{\\prime }$ and calculate them as:"
   ]
  },
  {
   "cell_type": "code",
   "execution_count": 4,
   "metadata": {},
   "outputs": [
    {
     "name": "stdout",
     "output_type": "stream",
     "text": [
      "[0.85215649 0.4987026  0.92769402]\n"
     ]
    }
   ],
   "source": [
    "moments_fun = lambda w,con,lab: np.array([np.corrcoef(w,con)[0,1], np.mean(lab), np.var(con)])\n",
    "mom_data = moments_fun(w,con,lab)\n",
    "print(mom_data)"
   ]
  },
  {
   "cell_type": "markdown",
   "metadata": {},
   "source": [
    "# A SMD Estimator"
   ]
  },
  {
   "cell_type": "markdown",
   "metadata": {},
   "source": [
    "We can then estimate $\\theta$ by minimizing the squared distance between the empirical moments in the data, $\\Lambda^{\\mathrm{data}}$, and the same moments calculated from $S=100$ *simulated* agents for each of the $n$ values of $w_i$ from the model for each guess of $\\theta$, $\\Lambda^{\\mathrm{sim}} \\left(\\theta;w\\right)$. \n",
    "\n",
    "Concretely, we simulate draws of ${\\left\\lbrace \\epsilon {{\\;}_i }^{\\left(s\\right)} \\right\\rbrace}_{i=1,s=1}^{n,S}$, calculate the synthetic dataset for a value of $\\theta$, ${\\left\\lbrace w_i ,c_i^{\\left(s\\right)} {,l}_i^{\\left(s\\right)} \\right\\rbrace }_{i=1,s=1}^{n,s}$, and stack these $n\\times S$ observations to calculate the moments above to get $\\Lambda^{\\textrm{sim}} \\left(\\theta;w\\right)$.\n",
    "\n",
    "Our **SMD estimator** is     \n",
    "\n",
    "\\\\[ \\hat{\\theta} = \\arg \\min_\\theta Q(\\theta;w) \\\\]\n",
    "\n",
    "where the objective function is $Q(\\theta;w)=(\\Lambda^{data}-\\Lambda^{sim}(\\theta;w))'(\\Lambda^{data}-\\Lambda^{sim}(\\theta,w)) $.\n",
    "\n",
    "The objective function could be coded as done in the ``model.obj_fun()``. In the model.py file."
   ]
  },
  {
   "cell_type": "markdown",
   "metadata": {},
   "source": [
    "# Objective function"
   ]
  },
  {
   "cell_type": "markdown",
   "metadata": {},
   "source": [
    "We specify which parameters to be estimated and construct initial starting values as"
   ]
  },
  {
   "cell_type": "code",
   "execution_count": 5,
   "metadata": {},
   "outputs": [],
   "source": [
    "est_par = ['gamma','tau','sigma'] # parameters to estimate\n",
    "theta0 = [0.4,0.15,0.9]  # initial guesses"
   ]
  },
  {
   "cell_type": "markdown",
   "metadata": {},
   "source": [
    "And we can evaluate the objective function as"
   ]
  },
  {
   "cell_type": "code",
   "execution_count": 6,
   "metadata": {},
   "outputs": [
    {
     "name": "stdout",
     "output_type": "stream",
     "text": [
      "0.10917348811846349\n"
     ]
    }
   ],
   "source": [
    "obj_at_theta0 = model.obj_fun(theta0,est_par,w,mom_data,moments_fun,par)\n",
    "print(obj_at_theta0)"
   ]
  },
  {
   "cell_type": "markdown",
   "metadata": {},
   "source": [
    "# Call optimizer"
   ]
  },
  {
   "cell_type": "markdown",
   "metadata": {},
   "source": [
    "We then call an unconstained optimizer using numerical gradients with option to print iterations"
   ]
  },
  {
   "cell_type": "code",
   "execution_count": 7,
   "metadata": {},
   "outputs": [
    {
     "name": "stdout",
     "output_type": "stream",
     "text": [
      "Optimization terminated successfully.\n",
      "         Current function value: 0.000000\n",
      "         Iterations: 10\n",
      "         Function evaluations: 65\n",
      "         Gradient evaluations: 13\n"
     ]
    }
   ],
   "source": [
    "obj_fun = lambda theta: model.obj_fun(theta,est_par,w,mom_data,moments_fun,par)\n",
    "\n",
    "results = optimize.minimize(obj_fun,theta0,options={'disp':True})"
   ]
  },
  {
   "cell_type": "code",
   "execution_count": 8,
   "metadata": {},
   "outputs": [
    {
     "name": "stdout",
     "output_type": "stream",
     "text": [
      "          True   Est.\n",
      "gamma    0.500  0.499\n",
      "tau      0.200  0.198\n",
      "sigma    1.000  1.009\n"
     ]
    }
   ],
   "source": [
    "print(f'{\"\":7s}{\"True\":>7s}{\"Est.\":>7s}')\n",
    "for name,value in zip(est_par,results.x):\n",
    "    print(f'{name:7s}{true[name]:7.3f}{value:7.3f}')"
   ]
  }
 ],
 "metadata": {
  "kernelspec": {
   "display_name": "Python 3",
   "language": "python",
   "name": "python3"
  },
  "language_info": {
   "codemirror_mode": {
    "name": "ipython",
    "version": 3
   },
   "file_extension": ".py",
   "mimetype": "text/x-python",
   "name": "python",
   "nbconvert_exporter": "python",
   "pygments_lexer": "ipython3",
   "version": "3.7.0"
  }
 },
 "nbformat": 4,
 "nbformat_minor": 2
}
