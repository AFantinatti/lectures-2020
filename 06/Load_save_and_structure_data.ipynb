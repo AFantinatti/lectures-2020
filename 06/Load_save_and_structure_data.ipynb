{
 "cells": [
  {
   "cell_type": "markdown",
   "metadata": {},
   "source": [
    "# Load/save and structure data"
   ]
  },
  {
   "cell_type": "markdown",
   "metadata": {},
   "source": [
    "You will learn to **load and save data** both to and from offline sources (e.g. CSV or Excel). You will learn about **pandas series and dataframes**, and how to clean, rename, structure and index your data."
   ]
  },
  {
   "cell_type": "markdown",
   "metadata": {},
   "source": [
    "**Links to more information:**\n",
    "\n",
    "1. Official [tutorials](https://pandas.pydata.org/pandas-docs/stable/getting_started/tutorials.html)\n",
    "2. DataCamp's [pandas' cheat sheet](https://www.datacamp.com/community/blog/python-pandas-cheat-sheet)"
   ]
  },
  {
   "cell_type": "markdown",
   "metadata": {
    "toc-hr-collapsed": true
   },
   "source": [
    "# Pandas data frames"
   ]
  },
  {
   "cell_type": "code",
   "execution_count": 1,
   "metadata": {},
   "outputs": [],
   "source": [
    "import pandas as pd"
   ]
  },
  {
   "cell_type": "markdown",
   "metadata": {},
   "source": [
    "In Pandas, the fundamental object of interest is a pandas dataframe. For example:"
   ]
  },
  {
   "cell_type": "code",
   "execution_count": 2,
   "metadata": {},
   "outputs": [
    {
     "data": {
      "text/html": [
       "<div>\n",
       "<style scoped>\n",
       "    .dataframe tbody tr th:only-of-type {\n",
       "        vertical-align: middle;\n",
       "    }\n",
       "\n",
       "    .dataframe tbody tr th {\n",
       "        vertical-align: top;\n",
       "    }\n",
       "\n",
       "    .dataframe thead th {\n",
       "        text-align: right;\n",
       "    }\n",
       "</style>\n",
       "<table border=\"1\" class=\"dataframe\">\n",
       "  <thead>\n",
       "    <tr style=\"text-align: right;\">\n",
       "      <th></th>\n",
       "      <th>id</th>\n",
       "      <th>inc</th>\n",
       "      <th>name</th>\n",
       "    </tr>\n",
       "  </thead>\n",
       "  <tbody>\n",
       "    <tr>\n",
       "      <th>0</th>\n",
       "      <td>1</td>\n",
       "      <td>11.7</td>\n",
       "      <td>Vitus</td>\n",
       "    </tr>\n",
       "    <tr>\n",
       "      <th>1</th>\n",
       "      <td>2</td>\n",
       "      <td>13.9</td>\n",
       "      <td>Maximilian</td>\n",
       "    </tr>\n",
       "    <tr>\n",
       "      <th>2</th>\n",
       "      <td>3</td>\n",
       "      <td>14.6</td>\n",
       "      <td>Bo-Bob</td>\n",
       "    </tr>\n",
       "  </tbody>\n",
       "</table>\n",
       "</div>"
      ],
      "text/plain": [
       "   id   inc        name\n",
       "0   1  11.7       Vitus\n",
       "1   2  13.9  Maximilian\n",
       "2   3  14.6      Bo-Bob"
      ]
     },
     "execution_count": 2,
     "metadata": {},
     "output_type": "execute_result"
    }
   ],
   "source": [
    "X = pd.DataFrame(data = [[1,11.7,'Vitus'],[2,13.9,'Maximilian'],[3,14.6,'Bo-Bob']], columns=['id','inc','name'])\n",
    "X"
   ]
  },
  {
   "cell_type": "markdown",
   "metadata": {},
   "source": [
    "A dataframe is essentially a matrix. \n",
    "* Rows = observations \n",
    "* Columns = variables "
   ]
  },
  {
   "cell_type": "code",
   "execution_count": 3,
   "metadata": {},
   "outputs": [
    {
     "name": "stdout",
     "output_type": "stream",
     "text": [
      "<class 'pandas.core.frame.DataFrame'>\n",
      "RangeIndex: 3 entries, 0 to 2\n",
      "Data columns (total 3 columns):\n",
      "id      3 non-null int64\n",
      "inc     3 non-null float64\n",
      "name    3 non-null object\n",
      "dtypes: float64(1), int64(1), object(1)\n",
      "memory usage: 152.0+ bytes\n"
     ]
    }
   ],
   "source": [
    "X.info() # general information"
   ]
  },
  {
   "cell_type": "markdown",
   "metadata": {},
   "source": [
    "## Indexing (\"subsetting\") \n",
    "\n",
    "Choosing a subset of the rows and/or columns of a dataframe is known as \"indexing\". All pandas dataframes are born with the method `.loc[]`.\n",
    "\n",
    "* `df.loc[:, ['year']]` selects all rows (indicated by `:`) but only the column (variable) `year`. \n",
    "* `df.loc[df['year'] == 2002, :]` selects the rows where the variable `year` is equal to 2002 and all columns (indicated by `:`)\n",
    "* `df.loc[df['year'] == 2002, ['name']]` selects the variable `name` and shows the rows where `year` is equal to 2002. \n",
    "\n",
    "In general, the syntax is `df.loc[CONDITION, [VARLIST]]`, where `CONDITION` is a vector of logical statements with the same length as the number of rows in the dataframe. "
   ]
  },
  {
   "cell_type": "code",
   "execution_count": 4,
   "metadata": {},
   "outputs": [
    {
     "data": {
      "text/html": [
       "<div>\n",
       "<style scoped>\n",
       "    .dataframe tbody tr th:only-of-type {\n",
       "        vertical-align: middle;\n",
       "    }\n",
       "\n",
       "    .dataframe tbody tr th {\n",
       "        vertical-align: top;\n",
       "    }\n",
       "\n",
       "    .dataframe thead th {\n",
       "        text-align: right;\n",
       "    }\n",
       "</style>\n",
       "<table border=\"1\" class=\"dataframe\">\n",
       "  <thead>\n",
       "    <tr style=\"text-align: right;\">\n",
       "      <th></th>\n",
       "      <th>name</th>\n",
       "    </tr>\n",
       "  </thead>\n",
       "  <tbody>\n",
       "    <tr>\n",
       "      <th>1</th>\n",
       "      <td>Maximilian</td>\n",
       "    </tr>\n",
       "    <tr>\n",
       "      <th>2</th>\n",
       "      <td>Bo-Bob</td>\n",
       "    </tr>\n",
       "  </tbody>\n",
       "</table>\n",
       "</div>"
      ],
      "text/plain": [
       "         name\n",
       "1  Maximilian\n",
       "2      Bo-Bob"
      ]
     },
     "execution_count": 4,
     "metadata": {},
     "output_type": "execute_result"
    }
   ],
   "source": [
    "X.loc[X['id'] > 1, ['name']]"
   ]
  },
  {
   "cell_type": "code",
   "execution_count": 5,
   "metadata": {},
   "outputs": [
    {
     "data": {
      "text/html": [
       "<div>\n",
       "<style scoped>\n",
       "    .dataframe tbody tr th:only-of-type {\n",
       "        vertical-align: middle;\n",
       "    }\n",
       "\n",
       "    .dataframe tbody tr th {\n",
       "        vertical-align: top;\n",
       "    }\n",
       "\n",
       "    .dataframe thead th {\n",
       "        text-align: right;\n",
       "    }\n",
       "</style>\n",
       "<table border=\"1\" class=\"dataframe\">\n",
       "  <thead>\n",
       "    <tr style=\"text-align: right;\">\n",
       "      <th></th>\n",
       "      <th>id</th>\n",
       "      <th>inc</th>\n",
       "      <th>name</th>\n",
       "    </tr>\n",
       "  </thead>\n",
       "  <tbody>\n",
       "    <tr>\n",
       "      <th>1</th>\n",
       "      <td>2</td>\n",
       "      <td>13.9</td>\n",
       "      <td>Maximilian</td>\n",
       "    </tr>\n",
       "    <tr>\n",
       "      <th>2</th>\n",
       "      <td>3</td>\n",
       "      <td>14.6</td>\n",
       "      <td>Bo-Bob</td>\n",
       "    </tr>\n",
       "  </tbody>\n",
       "</table>\n",
       "</div>"
      ],
      "text/plain": [
       "   id   inc        name\n",
       "1   2  13.9  Maximilian\n",
       "2   3  14.6      Bo-Bob"
      ]
     },
     "execution_count": 5,
     "metadata": {},
     "output_type": "execute_result"
    }
   ],
   "source": [
    "X.loc[X['id'] > 1] # all variables"
   ]
  },
  {
   "cell_type": "markdown",
   "metadata": {},
   "source": [
    "**Alternatives:**"
   ]
  },
  {
   "cell_type": "code",
   "execution_count": 6,
   "metadata": {},
   "outputs": [
    {
     "data": {
      "text/html": [
       "<div>\n",
       "<style scoped>\n",
       "    .dataframe tbody tr th:only-of-type {\n",
       "        vertical-align: middle;\n",
       "    }\n",
       "\n",
       "    .dataframe tbody tr th {\n",
       "        vertical-align: top;\n",
       "    }\n",
       "\n",
       "    .dataframe thead th {\n",
       "        text-align: right;\n",
       "    }\n",
       "</style>\n",
       "<table border=\"1\" class=\"dataframe\">\n",
       "  <thead>\n",
       "    <tr style=\"text-align: right;\">\n",
       "      <th></th>\n",
       "      <th>name</th>\n",
       "    </tr>\n",
       "  </thead>\n",
       "  <tbody>\n",
       "    <tr>\n",
       "      <th>1</th>\n",
       "      <td>Maximilian</td>\n",
       "    </tr>\n",
       "    <tr>\n",
       "      <th>2</th>\n",
       "      <td>Bo-Bob</td>\n",
       "    </tr>\n",
       "  </tbody>\n",
       "</table>\n",
       "</div>"
      ],
      "text/plain": [
       "         name\n",
       "1  Maximilian\n",
       "2      Bo-Bob"
      ]
     },
     "execution_count": 6,
     "metadata": {},
     "output_type": "execute_result"
    }
   ],
   "source": [
    "I = X['id'] > 1 # boolean series\n",
    "X.loc[I, ['name']]"
   ]
  },
  {
   "cell_type": "code",
   "execution_count": 7,
   "metadata": {},
   "outputs": [
    {
     "data": {
      "text/html": [
       "<div>\n",
       "<style scoped>\n",
       "    .dataframe tbody tr th:only-of-type {\n",
       "        vertical-align: middle;\n",
       "    }\n",
       "\n",
       "    .dataframe tbody tr th {\n",
       "        vertical-align: top;\n",
       "    }\n",
       "\n",
       "    .dataframe thead th {\n",
       "        text-align: right;\n",
       "    }\n",
       "</style>\n",
       "<table border=\"1\" class=\"dataframe\">\n",
       "  <thead>\n",
       "    <tr style=\"text-align: right;\">\n",
       "      <th></th>\n",
       "      <th>name</th>\n",
       "    </tr>\n",
       "  </thead>\n",
       "  <tbody>\n",
       "    <tr>\n",
       "      <th>1</th>\n",
       "      <td>Maximilian</td>\n",
       "    </tr>\n",
       "    <tr>\n",
       "      <th>2</th>\n",
       "      <td>Bo-Bob</td>\n",
       "    </tr>\n",
       "  </tbody>\n",
       "</table>\n",
       "</div>"
      ],
      "text/plain": [
       "         name\n",
       "1  Maximilian\n",
       "2      Bo-Bob"
      ]
     },
     "execution_count": 7,
     "metadata": {},
     "output_type": "execute_result"
    }
   ],
   "source": [
    "X.loc[X.id > 1, ['name']] # .VAR notation"
   ]
  },
  {
   "cell_type": "markdown",
   "metadata": {},
   "source": [
    "## Adding a variable\n",
    "\n",
    "Variables are added with `df['newvar'] = SOMETHING`."
   ]
  },
  {
   "cell_type": "code",
   "execution_count": 8,
   "metadata": {},
   "outputs": [
    {
     "data": {
      "text/html": [
       "<div>\n",
       "<style scoped>\n",
       "    .dataframe tbody tr th:only-of-type {\n",
       "        vertical-align: middle;\n",
       "    }\n",
       "\n",
       "    .dataframe tbody tr th {\n",
       "        vertical-align: top;\n",
       "    }\n",
       "\n",
       "    .dataframe thead th {\n",
       "        text-align: right;\n",
       "    }\n",
       "</style>\n",
       "<table border=\"1\" class=\"dataframe\">\n",
       "  <thead>\n",
       "    <tr style=\"text-align: right;\">\n",
       "      <th></th>\n",
       "      <th>id</th>\n",
       "      <th>inc</th>\n",
       "      <th>name</th>\n",
       "      <th>year</th>\n",
       "    </tr>\n",
       "  </thead>\n",
       "  <tbody>\n",
       "    <tr>\n",
       "      <th>0</th>\n",
       "      <td>1</td>\n",
       "      <td>11.7</td>\n",
       "      <td>Vitus</td>\n",
       "      <td>2003</td>\n",
       "    </tr>\n",
       "    <tr>\n",
       "      <th>1</th>\n",
       "      <td>2</td>\n",
       "      <td>13.9</td>\n",
       "      <td>Maximilian</td>\n",
       "      <td>2005</td>\n",
       "    </tr>\n",
       "    <tr>\n",
       "      <th>2</th>\n",
       "      <td>3</td>\n",
       "      <td>14.6</td>\n",
       "      <td>Bo-Bob</td>\n",
       "      <td>2010</td>\n",
       "    </tr>\n",
       "  </tbody>\n",
       "</table>\n",
       "</div>"
      ],
      "text/plain": [
       "   id   inc        name  year\n",
       "0   1  11.7       Vitus  2003\n",
       "1   2  13.9  Maximilian  2005\n",
       "2   3  14.6      Bo-Bob  2010"
      ]
     },
     "execution_count": 8,
     "metadata": {},
     "output_type": "execute_result"
    }
   ],
   "source": [
    "X['year'] = [2003, 2005, 2010]\n",
    "X"
   ]
  },
  {
   "cell_type": "markdown",
   "metadata": {},
   "source": [
    "**Note:** You cannot write `df.newvar = SOMETHING`. Some of you will forget. I promise. "
   ]
  },
  {
   "cell_type": "markdown",
   "metadata": {},
   "source": [
    "The *something* can be an expression based on other variables."
   ]
  },
  {
   "cell_type": "code",
   "execution_count": 9,
   "metadata": {},
   "outputs": [
    {
     "data": {
      "text/html": [
       "<div>\n",
       "<style scoped>\n",
       "    .dataframe tbody tr th:only-of-type {\n",
       "        vertical-align: middle;\n",
       "    }\n",
       "\n",
       "    .dataframe tbody tr th {\n",
       "        vertical-align: top;\n",
       "    }\n",
       "\n",
       "    .dataframe thead th {\n",
       "        text-align: right;\n",
       "    }\n",
       "</style>\n",
       "<table border=\"1\" class=\"dataframe\">\n",
       "  <thead>\n",
       "    <tr style=\"text-align: right;\">\n",
       "      <th></th>\n",
       "      <th>id</th>\n",
       "      <th>inc</th>\n",
       "      <th>name</th>\n",
       "      <th>year</th>\n",
       "      <th>inc_adj</th>\n",
       "    </tr>\n",
       "  </thead>\n",
       "  <tbody>\n",
       "    <tr>\n",
       "      <th>0</th>\n",
       "      <td>1</td>\n",
       "      <td>11.7</td>\n",
       "      <td>Vitus</td>\n",
       "      <td>2003</td>\n",
       "      <td>12.17268</td>\n",
       "    </tr>\n",
       "    <tr>\n",
       "      <th>1</th>\n",
       "      <td>2</td>\n",
       "      <td>13.9</td>\n",
       "      <td>Maximilian</td>\n",
       "      <td>2005</td>\n",
       "      <td>13.90000</td>\n",
       "    </tr>\n",
       "    <tr>\n",
       "      <th>2</th>\n",
       "      <td>3</td>\n",
       "      <td>14.6</td>\n",
       "      <td>Bo-Bob</td>\n",
       "      <td>2010</td>\n",
       "      <td>13.22367</td>\n",
       "    </tr>\n",
       "  </tbody>\n",
       "</table>\n",
       "</div>"
      ],
      "text/plain": [
       "   id   inc        name  year   inc_adj\n",
       "0   1  11.7       Vitus  2003  12.17268\n",
       "1   2  13.9  Maximilian  2005  13.90000\n",
       "2   3  14.6      Bo-Bob  2010  13.22367"
      ]
     },
     "execution_count": 9,
     "metadata": {},
     "output_type": "execute_result"
    }
   ],
   "source": [
    "X['inc_adj'] = X['inc'] / 1.02**(X['year']-2005)\n",
    "X"
   ]
  },
  {
   "cell_type": "markdown",
   "metadata": {},
   "source": [
    "## Assignments to a subset of rows\n",
    "\n",
    "Use a logical statement to select a subset of rows. Your RHS must then either be:\n",
    "\n",
    "* a single value (all rows are set to this) \n",
    "* a list of values with same length as the number of selected rows"
   ]
  },
  {
   "cell_type": "code",
   "execution_count": 10,
   "metadata": {},
   "outputs": [
    {
     "data": {
      "text/html": [
       "<div>\n",
       "<style scoped>\n",
       "    .dataframe tbody tr th:only-of-type {\n",
       "        vertical-align: middle;\n",
       "    }\n",
       "\n",
       "    .dataframe tbody tr th {\n",
       "        vertical-align: top;\n",
       "    }\n",
       "\n",
       "    .dataframe thead th {\n",
       "        text-align: right;\n",
       "    }\n",
       "</style>\n",
       "<table border=\"1\" class=\"dataframe\">\n",
       "  <thead>\n",
       "    <tr style=\"text-align: right;\">\n",
       "      <th></th>\n",
       "      <th>id</th>\n",
       "      <th>inc</th>\n",
       "      <th>name</th>\n",
       "      <th>year</th>\n",
       "      <th>inc_adj</th>\n",
       "    </tr>\n",
       "  </thead>\n",
       "  <tbody>\n",
       "    <tr>\n",
       "      <th>0</th>\n",
       "      <td>1</td>\n",
       "      <td>11.7</td>\n",
       "      <td>Vitus</td>\n",
       "      <td>2003</td>\n",
       "      <td>12.17268</td>\n",
       "    </tr>\n",
       "    <tr>\n",
       "      <th>1</th>\n",
       "      <td>2</td>\n",
       "      <td>13.9</td>\n",
       "      <td>Maximilian</td>\n",
       "      <td>2005</td>\n",
       "      <td>13.90000</td>\n",
       "    </tr>\n",
       "    <tr>\n",
       "      <th>2</th>\n",
       "      <td>3</td>\n",
       "      <td>14.6</td>\n",
       "      <td>Bo-Bob</td>\n",
       "      <td>2010</td>\n",
       "      <td>13.22367</td>\n",
       "    </tr>\n",
       "  </tbody>\n",
       "</table>\n",
       "</div>"
      ],
      "text/plain": [
       "   id   inc        name  year   inc_adj\n",
       "0   1  11.7       Vitus  2003  12.17268\n",
       "1   2  13.9  Maximilian  2005  13.90000\n",
       "2   3  14.6      Bo-Bob  2010  13.22367"
      ]
     },
     "execution_count": 10,
     "metadata": {},
     "output_type": "execute_result"
    }
   ],
   "source": [
    "X"
   ]
  },
  {
   "cell_type": "code",
   "execution_count": 11,
   "metadata": {},
   "outputs": [
    {
     "data": {
      "text/html": [
       "<div>\n",
       "<style scoped>\n",
       "    .dataframe tbody tr th:only-of-type {\n",
       "        vertical-align: middle;\n",
       "    }\n",
       "\n",
       "    .dataframe tbody tr th {\n",
       "        vertical-align: top;\n",
       "    }\n",
       "\n",
       "    .dataframe thead th {\n",
       "        text-align: right;\n",
       "    }\n",
       "</style>\n",
       "<table border=\"1\" class=\"dataframe\">\n",
       "  <thead>\n",
       "    <tr style=\"text-align: right;\">\n",
       "      <th></th>\n",
       "      <th>id</th>\n",
       "      <th>inc</th>\n",
       "      <th>name</th>\n",
       "      <th>year</th>\n",
       "      <th>inc_adj</th>\n",
       "    </tr>\n",
       "  </thead>\n",
       "  <tbody>\n",
       "    <tr>\n",
       "      <th>0</th>\n",
       "      <td>1</td>\n",
       "      <td>11.7</td>\n",
       "      <td>Vitus</td>\n",
       "      <td>2003</td>\n",
       "      <td>12.17268</td>\n",
       "    </tr>\n",
       "    <tr>\n",
       "      <th>1</th>\n",
       "      <td>2</td>\n",
       "      <td>13.9</td>\n",
       "      <td>test</td>\n",
       "      <td>2005</td>\n",
       "      <td>13.90000</td>\n",
       "    </tr>\n",
       "    <tr>\n",
       "      <th>2</th>\n",
       "      <td>3</td>\n",
       "      <td>14.6</td>\n",
       "      <td>test</td>\n",
       "      <td>2010</td>\n",
       "      <td>13.22367</td>\n",
       "    </tr>\n",
       "  </tbody>\n",
       "</table>\n",
       "</div>"
      ],
      "text/plain": [
       "   id   inc   name  year   inc_adj\n",
       "0   1  11.7  Vitus  2003  12.17268\n",
       "1   2  13.9   test  2005  13.90000\n",
       "2   3  14.6   test  2010  13.22367"
      ]
     },
     "execution_count": 11,
     "metadata": {},
     "output_type": "execute_result"
    }
   ],
   "source": [
    "Y = X.copy()\n",
    "\n",
    "Y.loc[Y['id'] > 1, ['name']] = 'test'\n",
    "Y"
   ]
  },
  {
   "cell_type": "code",
   "execution_count": 12,
   "metadata": {},
   "outputs": [
    {
     "data": {
      "text/html": [
       "<div>\n",
       "<style scoped>\n",
       "    .dataframe tbody tr th:only-of-type {\n",
       "        vertical-align: middle;\n",
       "    }\n",
       "\n",
       "    .dataframe tbody tr th {\n",
       "        vertical-align: top;\n",
       "    }\n",
       "\n",
       "    .dataframe thead th {\n",
       "        text-align: right;\n",
       "    }\n",
       "</style>\n",
       "<table border=\"1\" class=\"dataframe\">\n",
       "  <thead>\n",
       "    <tr style=\"text-align: right;\">\n",
       "      <th></th>\n",
       "      <th>id</th>\n",
       "      <th>inc</th>\n",
       "      <th>name</th>\n",
       "      <th>year</th>\n",
       "      <th>inc_adj</th>\n",
       "    </tr>\n",
       "  </thead>\n",
       "  <tbody>\n",
       "    <tr>\n",
       "      <th>0</th>\n",
       "      <td>1</td>\n",
       "      <td>11.7</td>\n",
       "      <td>Bib</td>\n",
       "      <td>2003</td>\n",
       "      <td>12.17268</td>\n",
       "    </tr>\n",
       "    <tr>\n",
       "      <th>1</th>\n",
       "      <td>2</td>\n",
       "      <td>13.9</td>\n",
       "      <td>Peter</td>\n",
       "      <td>2005</td>\n",
       "      <td>13.90000</td>\n",
       "    </tr>\n",
       "    <tr>\n",
       "      <th>2</th>\n",
       "      <td>3</td>\n",
       "      <td>14.6</td>\n",
       "      <td>Bo-Bob</td>\n",
       "      <td>2010</td>\n",
       "      <td>13.22367</td>\n",
       "    </tr>\n",
       "  </tbody>\n",
       "</table>\n",
       "</div>"
      ],
      "text/plain": [
       "   id   inc    name  year   inc_adj\n",
       "0   1  11.7     Bib  2003  12.17268\n",
       "1   2  13.9   Peter  2005  13.90000\n",
       "2   3  14.6  Bo-Bob  2010  13.22367"
      ]
     },
     "execution_count": 12,
     "metadata": {},
     "output_type": "execute_result"
    }
   ],
   "source": [
    "Y = X.copy()\n",
    "\n",
    "Y.loc[(Y['name'] == 'Vitus') | (Y['year'] == 2005), ['name']] = ['Bib', 'Peter']\n",
    "Y"
   ]
  },
  {
   "cell_type": "code",
   "execution_count": 13,
   "metadata": {},
   "outputs": [
    {
     "data": {
      "text/html": [
       "<div>\n",
       "<style scoped>\n",
       "    .dataframe tbody tr th:only-of-type {\n",
       "        vertical-align: middle;\n",
       "    }\n",
       "\n",
       "    .dataframe tbody tr th {\n",
       "        vertical-align: top;\n",
       "    }\n",
       "\n",
       "    .dataframe thead th {\n",
       "        text-align: right;\n",
       "    }\n",
       "</style>\n",
       "<table border=\"1\" class=\"dataframe\">\n",
       "  <thead>\n",
       "    <tr style=\"text-align: right;\">\n",
       "      <th></th>\n",
       "      <th>id</th>\n",
       "      <th>inc</th>\n",
       "      <th>name</th>\n",
       "      <th>year</th>\n",
       "      <th>inc_adj</th>\n",
       "    </tr>\n",
       "  </thead>\n",
       "  <tbody>\n",
       "    <tr>\n",
       "      <th>0</th>\n",
       "      <td>1</td>\n",
       "      <td>11.7</td>\n",
       "      <td>Vitus</td>\n",
       "      <td>2003</td>\n",
       "      <td>12.17268</td>\n",
       "    </tr>\n",
       "    <tr>\n",
       "      <th>1</th>\n",
       "      <td>2</td>\n",
       "      <td>13.9</td>\n",
       "      <td>MaximilianMaximilian</td>\n",
       "      <td>2005</td>\n",
       "      <td>13.90000</td>\n",
       "    </tr>\n",
       "    <tr>\n",
       "      <th>2</th>\n",
       "      <td>3</td>\n",
       "      <td>14.6</td>\n",
       "      <td>Bo-BobBo-Bob</td>\n",
       "      <td>2010</td>\n",
       "      <td>13.22367</td>\n",
       "    </tr>\n",
       "  </tbody>\n",
       "</table>\n",
       "</div>"
      ],
      "text/plain": [
       "   id   inc                  name  year   inc_adj\n",
       "0   1  11.7                 Vitus  2003  12.17268\n",
       "1   2  13.9  MaximilianMaximilian  2005  13.90000\n",
       "2   3  14.6          Bo-BobBo-Bob  2010  13.22367"
      ]
     },
     "execution_count": 13,
     "metadata": {},
     "output_type": "execute_result"
    }
   ],
   "source": [
    "Y = X.copy()\n",
    "\n",
    "J = (Y['name'] == 'Maximilian') | (Y['year'] == 2010)\n",
    "Y.loc[J, ['name']] = Y.loc[I, ['name']].values*2 # .values is required\n",
    "Y"
   ]
  },
  {
   "cell_type": "markdown",
   "metadata": {},
   "source": [
    "## Copies vs. views"
   ]
  },
  {
   "cell_type": "markdown",
   "metadata": {},
   "source": [
    "The `.loc[]` method returns a **copy**. Therefore the following cell does not work:."
   ]
  },
  {
   "cell_type": "code",
   "execution_count": 14,
   "metadata": {},
   "outputs": [
    {
     "data": {
      "text/html": [
       "<div>\n",
       "<style scoped>\n",
       "    .dataframe tbody tr th:only-of-type {\n",
       "        vertical-align: middle;\n",
       "    }\n",
       "\n",
       "    .dataframe tbody tr th {\n",
       "        vertical-align: top;\n",
       "    }\n",
       "\n",
       "    .dataframe thead th {\n",
       "        text-align: right;\n",
       "    }\n",
       "</style>\n",
       "<table border=\"1\" class=\"dataframe\">\n",
       "  <thead>\n",
       "    <tr style=\"text-align: right;\">\n",
       "      <th></th>\n",
       "      <th>id</th>\n",
       "      <th>inc</th>\n",
       "      <th>name</th>\n",
       "      <th>year</th>\n",
       "      <th>inc_adj</th>\n",
       "    </tr>\n",
       "  </thead>\n",
       "  <tbody>\n",
       "    <tr>\n",
       "      <th>0</th>\n",
       "      <td>1</td>\n",
       "      <td>11.7</td>\n",
       "      <td>Vitus</td>\n",
       "      <td>2003</td>\n",
       "      <td>12.17268</td>\n",
       "    </tr>\n",
       "    <tr>\n",
       "      <th>1</th>\n",
       "      <td>2</td>\n",
       "      <td>13.9</td>\n",
       "      <td>Maximilian</td>\n",
       "      <td>2005</td>\n",
       "      <td>13.90000</td>\n",
       "    </tr>\n",
       "    <tr>\n",
       "      <th>2</th>\n",
       "      <td>3</td>\n",
       "      <td>14.6</td>\n",
       "      <td>Bo-Bob</td>\n",
       "      <td>2010</td>\n",
       "      <td>13.22367</td>\n",
       "    </tr>\n",
       "  </tbody>\n",
       "</table>\n",
       "</div>"
      ],
      "text/plain": [
       "   id   inc        name  year   inc_adj\n",
       "0   1  11.7       Vitus  2003  12.17268\n",
       "1   2  13.9  Maximilian  2005  13.90000\n",
       "2   3  14.6      Bo-Bob  2010  13.22367"
      ]
     },
     "execution_count": 14,
     "metadata": {},
     "output_type": "execute_result"
    }
   ],
   "source": [
    "Y = X.copy()\n",
    "\n",
    "Z = Y.loc[Y['id'] > 1,['name']] # returns a copy\n",
    "Z = 'test'\n",
    "Y"
   ]
  },
  {
   "cell_type": "markdown",
   "metadata": {},
   "source": [
    "**Looking** at the data it is natural to do:"
   ]
  },
  {
   "cell_type": "code",
   "execution_count": 15,
   "metadata": {},
   "outputs": [
    {
     "data": {
      "text/plain": [
       "0         Vitus\n",
       "1    Maximilian\n",
       "2        Bo-Bob\n",
       "Name: name, dtype: object"
      ]
     },
     "execution_count": 15,
     "metadata": {},
     "output_type": "execute_result"
    }
   ],
   "source": [
    "Y['name']"
   ]
  },
  {
   "cell_type": "code",
   "execution_count": 16,
   "metadata": {},
   "outputs": [
    {
     "data": {
      "text/plain": [
       "0         Vitus\n",
       "1    Maximilian\n",
       "2        Bo-Bob\n",
       "Name: name, dtype: object"
      ]
     },
     "execution_count": 16,
     "metadata": {},
     "output_type": "execute_result"
    }
   ],
   "source": [
    "Y.name"
   ]
  },
  {
   "cell_type": "code",
   "execution_count": 17,
   "metadata": {},
   "outputs": [
    {
     "data": {
      "text/html": [
       "<div>\n",
       "<style scoped>\n",
       "    .dataframe tbody tr th:only-of-type {\n",
       "        vertical-align: middle;\n",
       "    }\n",
       "\n",
       "    .dataframe tbody tr th {\n",
       "        vertical-align: top;\n",
       "    }\n",
       "\n",
       "    .dataframe thead th {\n",
       "        text-align: right;\n",
       "    }\n",
       "</style>\n",
       "<table border=\"1\" class=\"dataframe\">\n",
       "  <thead>\n",
       "    <tr style=\"text-align: right;\">\n",
       "      <th></th>\n",
       "      <th>id</th>\n",
       "      <th>name</th>\n",
       "    </tr>\n",
       "  </thead>\n",
       "  <tbody>\n",
       "    <tr>\n",
       "      <th>0</th>\n",
       "      <td>1</td>\n",
       "      <td>Vitus</td>\n",
       "    </tr>\n",
       "    <tr>\n",
       "      <th>1</th>\n",
       "      <td>2</td>\n",
       "      <td>Maximilian</td>\n",
       "    </tr>\n",
       "    <tr>\n",
       "      <th>2</th>\n",
       "      <td>3</td>\n",
       "      <td>Bo-Bob</td>\n",
       "    </tr>\n",
       "  </tbody>\n",
       "</table>\n",
       "</div>"
      ],
      "text/plain": [
       "   id        name\n",
       "0   1       Vitus\n",
       "1   2  Maximilian\n",
       "2   3      Bo-Bob"
      ]
     },
     "execution_count": 17,
     "metadata": {},
     "output_type": "execute_result"
    }
   ],
   "source": [
    "Y[['id','name']]"
   ]
  },
  {
   "cell_type": "code",
   "execution_count": 18,
   "metadata": {},
   "outputs": [
    {
     "data": {
      "text/html": [
       "<div>\n",
       "<style scoped>\n",
       "    .dataframe tbody tr th:only-of-type {\n",
       "        vertical-align: middle;\n",
       "    }\n",
       "\n",
       "    .dataframe tbody tr th {\n",
       "        vertical-align: top;\n",
       "    }\n",
       "\n",
       "    .dataframe thead th {\n",
       "        text-align: right;\n",
       "    }\n",
       "</style>\n",
       "<table border=\"1\" class=\"dataframe\">\n",
       "  <thead>\n",
       "    <tr style=\"text-align: right;\">\n",
       "      <th></th>\n",
       "      <th>id</th>\n",
       "      <th>inc</th>\n",
       "      <th>name</th>\n",
       "      <th>year</th>\n",
       "      <th>inc_adj</th>\n",
       "    </tr>\n",
       "  </thead>\n",
       "  <tbody>\n",
       "    <tr>\n",
       "      <th>1</th>\n",
       "      <td>2</td>\n",
       "      <td>13.9</td>\n",
       "      <td>Maximilian</td>\n",
       "      <td>2005</td>\n",
       "      <td>13.90000</td>\n",
       "    </tr>\n",
       "    <tr>\n",
       "      <th>2</th>\n",
       "      <td>3</td>\n",
       "      <td>14.6</td>\n",
       "      <td>Bo-Bob</td>\n",
       "      <td>2010</td>\n",
       "      <td>13.22367</td>\n",
       "    </tr>\n",
       "  </tbody>\n",
       "</table>\n",
       "</div>"
      ],
      "text/plain": [
       "   id   inc        name  year   inc_adj\n",
       "1   2  13.9  Maximilian  2005  13.90000\n",
       "2   3  14.6      Bo-Bob  2010  13.22367"
      ]
     },
     "execution_count": 18,
     "metadata": {},
     "output_type": "execute_result"
    }
   ],
   "source": [
    "Y[Y['id'] > 1]"
   ]
  },
  {
   "cell_type": "markdown",
   "metadata": {},
   "source": [
    "Importantly, this **does not work with assignment**:"
   ]
  },
  {
   "cell_type": "code",
   "execution_count": 19,
   "metadata": {},
   "outputs": [
    {
     "name": "stderr",
     "output_type": "stream",
     "text": [
      "/Users/mrz577/anaconda3/lib/python3.7/site-packages/ipykernel_launcher.py:5: SettingWithCopyWarning: \n",
      "A value is trying to be set on a copy of a slice from a DataFrame\n",
      "\n",
      "See the caveats in the documentation: http://pandas.pydata.org/pandas-docs/stable/indexing.html#indexing-view-versus-copy\n",
      "  \"\"\"\n"
     ]
    },
    {
     "data": {
      "text/html": [
       "<div>\n",
       "<style scoped>\n",
       "    .dataframe tbody tr th:only-of-type {\n",
       "        vertical-align: middle;\n",
       "    }\n",
       "\n",
       "    .dataframe tbody tr th {\n",
       "        vertical-align: top;\n",
       "    }\n",
       "\n",
       "    .dataframe thead th {\n",
       "        text-align: right;\n",
       "    }\n",
       "</style>\n",
       "<table border=\"1\" class=\"dataframe\">\n",
       "  <thead>\n",
       "    <tr style=\"text-align: right;\">\n",
       "      <th></th>\n",
       "      <th>id</th>\n",
       "      <th>inc</th>\n",
       "      <th>name</th>\n",
       "      <th>year</th>\n",
       "      <th>inc_adj</th>\n",
       "    </tr>\n",
       "  </thead>\n",
       "  <tbody>\n",
       "    <tr>\n",
       "      <th>0</th>\n",
       "      <td>1</td>\n",
       "      <td>11.7</td>\n",
       "      <td>Vitus</td>\n",
       "      <td>2003</td>\n",
       "      <td>12.17268</td>\n",
       "    </tr>\n",
       "    <tr>\n",
       "      <th>1</th>\n",
       "      <td>2</td>\n",
       "      <td>13.9</td>\n",
       "      <td>test</td>\n",
       "      <td>2005</td>\n",
       "      <td>13.90000</td>\n",
       "    </tr>\n",
       "    <tr>\n",
       "      <th>2</th>\n",
       "      <td>3</td>\n",
       "      <td>14.6</td>\n",
       "      <td>test</td>\n",
       "      <td>2010</td>\n",
       "      <td>13.22367</td>\n",
       "    </tr>\n",
       "  </tbody>\n",
       "</table>\n",
       "</div>"
      ],
      "text/plain": [
       "   id   inc   name  year   inc_adj\n",
       "0   1  11.7  Vitus  2003  12.17268\n",
       "1   2  13.9   test  2005  13.90000\n",
       "2   3  14.6   test  2010  13.22367"
      ]
     },
     "execution_count": 19,
     "metadata": {},
     "output_type": "execute_result"
    }
   ],
   "source": [
    "Y = X.copy()\n",
    "\n",
    "I = Y['id'] > 1\n",
    "Z = Y['name'] # returns a view (same with Y.name)\n",
    "Z[I] = 'test'\n",
    "Y"
   ]
  },
  {
   "cell_type": "code",
   "execution_count": 20,
   "metadata": {},
   "outputs": [
    {
     "name": "stderr",
     "output_type": "stream",
     "text": [
      "/Users/mrz577/anaconda3/lib/python3.7/site-packages/pandas/core/indexing.py:543: SettingWithCopyWarning: \n",
      "A value is trying to be set on a copy of a slice from a DataFrame.\n",
      "Try using .loc[row_indexer,col_indexer] = value instead\n",
      "\n",
      "See the caveats in the documentation: http://pandas.pydata.org/pandas-docs/stable/indexing.html#indexing-view-versus-copy\n",
      "  self.obj[item] = s\n"
     ]
    },
    {
     "data": {
      "text/html": [
       "<div>\n",
       "<style scoped>\n",
       "    .dataframe tbody tr th:only-of-type {\n",
       "        vertical-align: middle;\n",
       "    }\n",
       "\n",
       "    .dataframe tbody tr th {\n",
       "        vertical-align: top;\n",
       "    }\n",
       "\n",
       "    .dataframe thead th {\n",
       "        text-align: right;\n",
       "    }\n",
       "</style>\n",
       "<table border=\"1\" class=\"dataframe\">\n",
       "  <thead>\n",
       "    <tr style=\"text-align: right;\">\n",
       "      <th></th>\n",
       "      <th>id</th>\n",
       "      <th>inc</th>\n",
       "      <th>name</th>\n",
       "      <th>year</th>\n",
       "      <th>inc_adj</th>\n",
       "    </tr>\n",
       "  </thead>\n",
       "  <tbody>\n",
       "    <tr>\n",
       "      <th>0</th>\n",
       "      <td>1</td>\n",
       "      <td>11.7</td>\n",
       "      <td>Vitus</td>\n",
       "      <td>2003</td>\n",
       "      <td>12.17268</td>\n",
       "    </tr>\n",
       "    <tr>\n",
       "      <th>1</th>\n",
       "      <td>2</td>\n",
       "      <td>13.9</td>\n",
       "      <td>Maximilian</td>\n",
       "      <td>2005</td>\n",
       "      <td>13.90000</td>\n",
       "    </tr>\n",
       "    <tr>\n",
       "      <th>2</th>\n",
       "      <td>3</td>\n",
       "      <td>14.6</td>\n",
       "      <td>Bo-Bob</td>\n",
       "      <td>2010</td>\n",
       "      <td>13.22367</td>\n",
       "    </tr>\n",
       "  </tbody>\n",
       "</table>\n",
       "</div>"
      ],
      "text/plain": [
       "   id   inc        name  year   inc_adj\n",
       "0   1  11.7       Vitus  2003  12.17268\n",
       "1   2  13.9  Maximilian  2005  13.90000\n",
       "2   3  14.6      Bo-Bob  2010  13.22367"
      ]
     },
     "execution_count": 20,
     "metadata": {},
     "output_type": "execute_result"
    }
   ],
   "source": [
    "Y = X.copy()\n",
    "\n",
    "I = Y['id'] > 1\n",
    "Z = Y[['id','name']] # returns a copy\n",
    "Z.loc[I,['name']] = 'test'\n",
    "Y"
   ]
  },
  {
   "cell_type": "code",
   "execution_count": 21,
   "metadata": {},
   "outputs": [
    {
     "name": "stderr",
     "output_type": "stream",
     "text": [
      "/Users/mrz577/anaconda3/lib/python3.7/site-packages/ipykernel_launcher.py:5: SettingWithCopyWarning: \n",
      "A value is trying to be set on a copy of a slice from a DataFrame.\n",
      "Try using .loc[row_indexer,col_indexer] = value instead\n",
      "\n",
      "See the caveats in the documentation: http://pandas.pydata.org/pandas-docs/stable/indexing.html#indexing-view-versus-copy\n",
      "  \"\"\"\n"
     ]
    },
    {
     "data": {
      "text/html": [
       "<div>\n",
       "<style scoped>\n",
       "    .dataframe tbody tr th:only-of-type {\n",
       "        vertical-align: middle;\n",
       "    }\n",
       "\n",
       "    .dataframe tbody tr th {\n",
       "        vertical-align: top;\n",
       "    }\n",
       "\n",
       "    .dataframe thead th {\n",
       "        text-align: right;\n",
       "    }\n",
       "</style>\n",
       "<table border=\"1\" class=\"dataframe\">\n",
       "  <thead>\n",
       "    <tr style=\"text-align: right;\">\n",
       "      <th></th>\n",
       "      <th>id</th>\n",
       "      <th>inc</th>\n",
       "      <th>name</th>\n",
       "      <th>year</th>\n",
       "      <th>inc_adj</th>\n",
       "    </tr>\n",
       "  </thead>\n",
       "  <tbody>\n",
       "    <tr>\n",
       "      <th>0</th>\n",
       "      <td>1</td>\n",
       "      <td>11.7</td>\n",
       "      <td>Vitus</td>\n",
       "      <td>2003</td>\n",
       "      <td>12.17268</td>\n",
       "    </tr>\n",
       "    <tr>\n",
       "      <th>1</th>\n",
       "      <td>2</td>\n",
       "      <td>13.9</td>\n",
       "      <td>Maximilian</td>\n",
       "      <td>2005</td>\n",
       "      <td>13.90000</td>\n",
       "    </tr>\n",
       "    <tr>\n",
       "      <th>2</th>\n",
       "      <td>3</td>\n",
       "      <td>14.6</td>\n",
       "      <td>Bo-Bob</td>\n",
       "      <td>2010</td>\n",
       "      <td>13.22367</td>\n",
       "    </tr>\n",
       "  </tbody>\n",
       "</table>\n",
       "</div>"
      ],
      "text/plain": [
       "   id   inc        name  year   inc_adj\n",
       "0   1  11.7       Vitus  2003  12.17268\n",
       "1   2  13.9  Maximilian  2005  13.90000\n",
       "2   3  14.6      Bo-Bob  2010  13.22367"
      ]
     },
     "execution_count": 21,
     "metadata": {},
     "output_type": "execute_result"
    }
   ],
   "source": [
    "Y = X.copy()\n",
    "\n",
    "I = Y['id'] > 1\n",
    "Z = Y[I] # returns a copy\n",
    "Z['name'] = 'test'\n",
    "Y"
   ]
  },
  {
   "cell_type": "markdown",
   "metadata": {},
   "source": [
    "## The index\n",
    "\n",
    "The first column in the dataset is referred to as the `index` of the dataframe. If you haven't done anything, it is just `[0, 1, 2, ....]`."
   ]
  },
  {
   "cell_type": "code",
   "execution_count": 22,
   "metadata": {},
   "outputs": [
    {
     "data": {
      "text/plain": [
       "id               1\n",
       "inc           11.7\n",
       "name         Vitus\n",
       "year          2003\n",
       "inc_adj    12.1727\n",
       "Name: 0, dtype: object"
      ]
     },
     "execution_count": 22,
     "metadata": {},
     "output_type": "execute_result"
    }
   ],
   "source": [
    "X.loc[0]"
   ]
  },
  {
   "cell_type": "markdown",
   "metadata": {},
   "source": [
    "You can use many other things as indexes. For example the name: "
   ]
  },
  {
   "cell_type": "code",
   "execution_count": 23,
   "metadata": {},
   "outputs": [
    {
     "data": {
      "text/html": [
       "<div>\n",
       "<style scoped>\n",
       "    .dataframe tbody tr th:only-of-type {\n",
       "        vertical-align: middle;\n",
       "    }\n",
       "\n",
       "    .dataframe tbody tr th {\n",
       "        vertical-align: top;\n",
       "    }\n",
       "\n",
       "    .dataframe thead th {\n",
       "        text-align: right;\n",
       "    }\n",
       "</style>\n",
       "<table border=\"1\" class=\"dataframe\">\n",
       "  <thead>\n",
       "    <tr style=\"text-align: right;\">\n",
       "      <th></th>\n",
       "      <th>id</th>\n",
       "      <th>inc</th>\n",
       "      <th>year</th>\n",
       "      <th>inc_adj</th>\n",
       "    </tr>\n",
       "    <tr>\n",
       "      <th>name</th>\n",
       "      <th></th>\n",
       "      <th></th>\n",
       "      <th></th>\n",
       "      <th></th>\n",
       "    </tr>\n",
       "  </thead>\n",
       "  <tbody>\n",
       "    <tr>\n",
       "      <th>Vitus</th>\n",
       "      <td>1</td>\n",
       "      <td>11.7</td>\n",
       "      <td>2003</td>\n",
       "      <td>12.17268</td>\n",
       "    </tr>\n",
       "    <tr>\n",
       "      <th>Maximilian</th>\n",
       "      <td>2</td>\n",
       "      <td>13.9</td>\n",
       "      <td>2005</td>\n",
       "      <td>13.90000</td>\n",
       "    </tr>\n",
       "    <tr>\n",
       "      <th>Bo-Bob</th>\n",
       "      <td>3</td>\n",
       "      <td>14.6</td>\n",
       "      <td>2010</td>\n",
       "      <td>13.22367</td>\n",
       "    </tr>\n",
       "  </tbody>\n",
       "</table>\n",
       "</div>"
      ],
      "text/plain": [
       "            id   inc  year   inc_adj\n",
       "name                                \n",
       "Vitus        1  11.7  2003  12.17268\n",
       "Maximilian   2  13.9  2005  13.90000\n",
       "Bo-Bob       3  14.6  2010  13.22367"
      ]
     },
     "execution_count": 23,
     "metadata": {},
     "output_type": "execute_result"
    }
   ],
   "source": [
    "Y = X.set_index('name') # returns a copy\n",
    "Y # notice name is now below the other variables"
   ]
  },
  {
   "cell_type": "code",
   "execution_count": 24,
   "metadata": {},
   "outputs": [
    {
     "data": {
      "text/plain": [
       "id            1.00000\n",
       "inc          11.70000\n",
       "year       2003.00000\n",
       "inc_adj      12.17268\n",
       "Name: Vitus, dtype: float64"
      ]
     },
     "execution_count": 24,
     "metadata": {},
     "output_type": "execute_result"
    }
   ],
   "source": [
    "Y.loc['Vitus']"
   ]
  },
  {
   "cell_type": "markdown",
   "metadata": {},
   "source": [
    "## Series and numpy arrays\n",
    "\n",
    "When you select an individual variable, it has the data type `series`. Some functions work on a pandas series (e.g. most numpy functions), but it is sometimes nice to extract the underlying numpy objects: \n",
    "* `df`: pandas dataframe \n",
    "* `df['variable']`: pandas series \n",
    "* `df['variabe'].to_numpy()`: Numpy array"
   ]
  },
  {
   "cell_type": "code",
   "execution_count": 25,
   "metadata": {},
   "outputs": [
    {
     "data": {
      "text/plain": [
       "pandas.core.frame.DataFrame"
      ]
     },
     "execution_count": 25,
     "metadata": {},
     "output_type": "execute_result"
    }
   ],
   "source": [
    "type(X)"
   ]
  },
  {
   "cell_type": "code",
   "execution_count": 26,
   "metadata": {},
   "outputs": [
    {
     "data": {
      "text/plain": [
       "pandas.core.frame.DataFrame"
      ]
     },
     "execution_count": 26,
     "metadata": {},
     "output_type": "execute_result"
    }
   ],
   "source": [
    "type(X[['year','inc_adj']]) # returns a copy"
   ]
  },
  {
   "cell_type": "code",
   "execution_count": 27,
   "metadata": {},
   "outputs": [
    {
     "data": {
      "text/plain": [
       "pandas.core.series.Series"
      ]
     },
     "execution_count": 27,
     "metadata": {},
     "output_type": "execute_result"
    }
   ],
   "source": [
    "type(X['year']) # returns a view"
   ]
  },
  {
   "cell_type": "code",
   "execution_count": 28,
   "metadata": {},
   "outputs": [
    {
     "data": {
      "text/plain": [
       "numpy.ndarray"
      ]
     },
     "execution_count": 28,
     "metadata": {},
     "output_type": "execute_result"
    }
   ],
   "source": [
    "type(X['year'].values) # returns a view"
   ]
  },
  {
   "cell_type": "markdown",
   "metadata": {},
   "source": [
    "## Calling functions"
   ]
  },
  {
   "cell_type": "code",
   "execution_count": 29,
   "metadata": {},
   "outputs": [
    {
     "data": {
      "text/html": [
       "<div>\n",
       "<style scoped>\n",
       "    .dataframe tbody tr th:only-of-type {\n",
       "        vertical-align: middle;\n",
       "    }\n",
       "\n",
       "    .dataframe tbody tr th {\n",
       "        vertical-align: top;\n",
       "    }\n",
       "\n",
       "    .dataframe thead th {\n",
       "        text-align: right;\n",
       "    }\n",
       "</style>\n",
       "<table border=\"1\" class=\"dataframe\">\n",
       "  <thead>\n",
       "    <tr style=\"text-align: right;\">\n",
       "      <th></th>\n",
       "      <th>id</th>\n",
       "      <th>inc</th>\n",
       "      <th>name</th>\n",
       "      <th>year</th>\n",
       "      <th>inc_adj</th>\n",
       "    </tr>\n",
       "  </thead>\n",
       "  <tbody>\n",
       "    <tr>\n",
       "      <th>0</th>\n",
       "      <td>1</td>\n",
       "      <td>11.7</td>\n",
       "      <td>Vitus</td>\n",
       "      <td>2003</td>\n",
       "      <td>12.17268</td>\n",
       "    </tr>\n",
       "    <tr>\n",
       "      <th>1</th>\n",
       "      <td>2</td>\n",
       "      <td>13.9</td>\n",
       "      <td>Maximilian</td>\n",
       "      <td>2005</td>\n",
       "      <td>13.90000</td>\n",
       "    </tr>\n",
       "    <tr>\n",
       "      <th>2</th>\n",
       "      <td>3</td>\n",
       "      <td>14.6</td>\n",
       "      <td>Bo-Bob</td>\n",
       "      <td>2010</td>\n",
       "      <td>13.22367</td>\n",
       "    </tr>\n",
       "  </tbody>\n",
       "</table>\n",
       "</div>"
      ],
      "text/plain": [
       "   id   inc        name  year   inc_adj\n",
       "0   1  11.7       Vitus  2003  12.17268\n",
       "1   2  13.9  Maximilian  2005  13.90000\n",
       "2   3  14.6      Bo-Bob  2010  13.22367"
      ]
     },
     "execution_count": 29,
     "metadata": {},
     "output_type": "execute_result"
    }
   ],
   "source": [
    "Y = X.copy()\n",
    "Y"
   ]
  },
  {
   "cell_type": "markdown",
   "metadata": {},
   "source": [
    "Row-by-row:"
   ]
  },
  {
   "cell_type": "code",
   "execution_count": 30,
   "metadata": {},
   "outputs": [],
   "source": [
    "def adj_row_by_row(X):\n",
    "    return X['inc'] / 1.02**(X['year']-2005)\n",
    "\n",
    "Y['inc_adj_alt1'] = Y.apply(adj_row_by_row,axis=1)"
   ]
  },
  {
   "cell_type": "markdown",
   "metadata": {},
   "source": [
    "Function for numpy arrays:"
   ]
  },
  {
   "cell_type": "code",
   "execution_count": 31,
   "metadata": {},
   "outputs": [],
   "source": [
    "def all_at_once(inc,year):\n",
    "    return inc / 1.02**(year-2005)\n",
    "\n",
    "Y['inc_adj_alt2'] = all_at_once(Y['inc'].values,Y['year'].values)"
   ]
  },
  {
   "cell_type": "markdown",
   "metadata": {},
   "source": [
    "Funcion for numpy arrays with inplace changes (i.e. a function without any return statement):"
   ]
  },
  {
   "cell_type": "code",
   "execution_count": 32,
   "metadata": {},
   "outputs": [],
   "source": [
    "def all_at_once_inplace(inc,year):\n",
    "    inc[:] = all_at_once(inc,year)\n",
    "\n",
    "Y['inc_adj_alt3'] = Y['inc']\n",
    "all_at_once_inplace(Y['inc_adj_alt3'].values,Y['year'].values)"
   ]
  },
  {
   "cell_type": "code",
   "execution_count": 33,
   "metadata": {},
   "outputs": [
    {
     "data": {
      "text/html": [
       "<div>\n",
       "<style scoped>\n",
       "    .dataframe tbody tr th:only-of-type {\n",
       "        vertical-align: middle;\n",
       "    }\n",
       "\n",
       "    .dataframe tbody tr th {\n",
       "        vertical-align: top;\n",
       "    }\n",
       "\n",
       "    .dataframe thead th {\n",
       "        text-align: right;\n",
       "    }\n",
       "</style>\n",
       "<table border=\"1\" class=\"dataframe\">\n",
       "  <thead>\n",
       "    <tr style=\"text-align: right;\">\n",
       "      <th></th>\n",
       "      <th>id</th>\n",
       "      <th>inc</th>\n",
       "      <th>name</th>\n",
       "      <th>year</th>\n",
       "      <th>inc_adj</th>\n",
       "      <th>inc_adj_alt1</th>\n",
       "      <th>inc_adj_alt2</th>\n",
       "      <th>inc_adj_alt3</th>\n",
       "    </tr>\n",
       "  </thead>\n",
       "  <tbody>\n",
       "    <tr>\n",
       "      <th>0</th>\n",
       "      <td>1</td>\n",
       "      <td>11.7</td>\n",
       "      <td>Vitus</td>\n",
       "      <td>2003</td>\n",
       "      <td>12.17268</td>\n",
       "      <td>12.17268</td>\n",
       "      <td>12.17268</td>\n",
       "      <td>12.17268</td>\n",
       "    </tr>\n",
       "    <tr>\n",
       "      <th>1</th>\n",
       "      <td>2</td>\n",
       "      <td>13.9</td>\n",
       "      <td>Maximilian</td>\n",
       "      <td>2005</td>\n",
       "      <td>13.90000</td>\n",
       "      <td>13.90000</td>\n",
       "      <td>13.90000</td>\n",
       "      <td>13.90000</td>\n",
       "    </tr>\n",
       "    <tr>\n",
       "      <th>2</th>\n",
       "      <td>3</td>\n",
       "      <td>14.6</td>\n",
       "      <td>Bo-Bob</td>\n",
       "      <td>2010</td>\n",
       "      <td>13.22367</td>\n",
       "      <td>13.22367</td>\n",
       "      <td>13.22367</td>\n",
       "      <td>13.22367</td>\n",
       "    </tr>\n",
       "  </tbody>\n",
       "</table>\n",
       "</div>"
      ],
      "text/plain": [
       "   id   inc        name  year   inc_adj  inc_adj_alt1  inc_adj_alt2  \\\n",
       "0   1  11.7       Vitus  2003  12.17268      12.17268      12.17268   \n",
       "1   2  13.9  Maximilian  2005  13.90000      13.90000      13.90000   \n",
       "2   3  14.6      Bo-Bob  2010  13.22367      13.22367      13.22367   \n",
       "\n",
       "   inc_adj_alt3  \n",
       "0      12.17268  \n",
       "1      13.90000  \n",
       "2      13.22367  "
      ]
     },
     "execution_count": 33,
     "metadata": {},
     "output_type": "execute_result"
    }
   ],
   "source": [
    "Y # all inc_adj* gives the same result"
   ]
  },
  {
   "cell_type": "markdown",
   "metadata": {
    "toc-hr-collapsed": true
   },
   "source": [
    "# Reading and writing data"
   ]
  },
  {
   "cell_type": "code",
   "execution_count": 35,
   "metadata": {},
   "outputs": [
    {
     "data": {
      "text/plain": [
       "['areal.xlsx', 'INDKP107.xlsx', '.DS_Store', 'RAS200.xlsx']"
      ]
     },
     "execution_count": 35,
     "metadata": {},
     "output_type": "execute_result"
    }
   ],
   "source": [
    "# next, we need to make sure that we have the \"data\" subfolder and that it has the datasets we need \n",
    "# print contents of the \"data\" subfolder\n",
    "import os \n",
    "os.listdir('./data/')"
   ]
  },
  {
   "cell_type": "markdown",
   "metadata": {},
   "source": [
    "## Reading in data\n",
    "\n",
    "Pandas offers a lot of facilities for reading and writing to different formats. The functions have logical names: \n",
    "* CSV: `pd.read_csv()`\n",
    "* SAS: `pd.read_sas()`\n",
    "* Excel: `pd.read_excel()`\n",
    "* Stata: `pd.read_stata()`\n",
    "\n",
    "Whenever we look at larger dataframes, we will be using `df.head(10)` to inspect the first 10 rows, or `df.sample(10)` to look at 10 random rows (when the first 10 are special, for example). "
   ]
  },
  {
   "cell_type": "code",
   "execution_count": 36,
   "metadata": {},
   "outputs": [],
   "source": [
    "# example: raw download from DST\n",
    "# note: the file must be in a sub folder \"data\" to the folder where jupyter was launched\n",
    "filename = './data/RAS200.xlsx'"
   ]
  },
  {
   "cell_type": "code",
   "execution_count": 37,
   "metadata": {},
   "outputs": [
    {
     "data": {
      "text/html": [
       "<div>\n",
       "<style scoped>\n",
       "    .dataframe tbody tr th:only-of-type {\n",
       "        vertical-align: middle;\n",
       "    }\n",
       "\n",
       "    .dataframe tbody tr th {\n",
       "        vertical-align: top;\n",
       "    }\n",
       "\n",
       "    .dataframe thead th {\n",
       "        text-align: right;\n",
       "    }\n",
       "</style>\n",
       "<table border=\"1\" class=\"dataframe\">\n",
       "  <thead>\n",
       "    <tr style=\"text-align: right;\">\n",
       "      <th></th>\n",
       "      <th>Erhvervs- og beskæftigelsesfrekvenser (ultimo november) efter frekvens, køn, alder, herkomst, område og tid</th>\n",
       "      <th>Unnamed: 1</th>\n",
       "      <th>Unnamed: 2</th>\n",
       "      <th>Unnamed: 3</th>\n",
       "      <th>Unnamed: 4</th>\n",
       "      <th>Unnamed: 5</th>\n",
       "      <th>Unnamed: 6</th>\n",
       "      <th>Unnamed: 7</th>\n",
       "      <th>Unnamed: 8</th>\n",
       "      <th>Unnamed: 9</th>\n",
       "      <th>Unnamed: 10</th>\n",
       "      <th>Unnamed: 11</th>\n",
       "      <th>Unnamed: 12</th>\n",
       "      <th>Unnamed: 13</th>\n",
       "    </tr>\n",
       "  </thead>\n",
       "  <tbody>\n",
       "    <tr>\n",
       "      <th>0</th>\n",
       "      <td>Enhed: pct.</td>\n",
       "      <td>NaN</td>\n",
       "      <td>NaN</td>\n",
       "      <td>NaN</td>\n",
       "      <td>NaN</td>\n",
       "      <td>NaN</td>\n",
       "      <td>NaN</td>\n",
       "      <td>NaN</td>\n",
       "      <td>NaN</td>\n",
       "      <td>NaN</td>\n",
       "      <td>NaN</td>\n",
       "      <td>NaN</td>\n",
       "      <td>NaN</td>\n",
       "      <td>NaN</td>\n",
       "    </tr>\n",
       "    <tr>\n",
       "      <th>1</th>\n",
       "      <td>NaN</td>\n",
       "      <td>NaN</td>\n",
       "      <td>NaN</td>\n",
       "      <td>NaN</td>\n",
       "      <td>NaN</td>\n",
       "      <td>2008.0</td>\n",
       "      <td>2009.0</td>\n",
       "      <td>2010.0</td>\n",
       "      <td>2011.0</td>\n",
       "      <td>2012.0</td>\n",
       "      <td>2013.0</td>\n",
       "      <td>2014.0</td>\n",
       "      <td>2015.0</td>\n",
       "      <td>2016.0</td>\n",
       "    </tr>\n",
       "    <tr>\n",
       "      <th>2</th>\n",
       "      <td>Beskæftigelsesfrekvens</td>\n",
       "      <td>I alt</td>\n",
       "      <td>Alder i alt</td>\n",
       "      <td>I alt</td>\n",
       "      <td>Hele landet</td>\n",
       "      <td>76.0</td>\n",
       "      <td>72.8</td>\n",
       "      <td>72.1</td>\n",
       "      <td>71.8</td>\n",
       "      <td>71.3</td>\n",
       "      <td>71.3</td>\n",
       "      <td>71.6</td>\n",
       "      <td>72.1</td>\n",
       "      <td>72.8</td>\n",
       "    </tr>\n",
       "    <tr>\n",
       "      <th>3</th>\n",
       "      <td>NaN</td>\n",
       "      <td>NaN</td>\n",
       "      <td>NaN</td>\n",
       "      <td>NaN</td>\n",
       "      <td>Region Hovedstaden</td>\n",
       "      <td>75.8</td>\n",
       "      <td>73.3</td>\n",
       "      <td>72.6</td>\n",
       "      <td>72.5</td>\n",
       "      <td>72.2</td>\n",
       "      <td>72.3</td>\n",
       "      <td>72.5</td>\n",
       "      <td>73.2</td>\n",
       "      <td>73.8</td>\n",
       "    </tr>\n",
       "    <tr>\n",
       "      <th>4</th>\n",
       "      <td>NaN</td>\n",
       "      <td>NaN</td>\n",
       "      <td>NaN</td>\n",
       "      <td>NaN</td>\n",
       "      <td>Landsdel Byen København</td>\n",
       "      <td>73.4</td>\n",
       "      <td>71.0</td>\n",
       "      <td>70.5</td>\n",
       "      <td>70.5</td>\n",
       "      <td>70.4</td>\n",
       "      <td>70.6</td>\n",
       "      <td>70.9</td>\n",
       "      <td>71.6</td>\n",
       "      <td>72.3</td>\n",
       "    </tr>\n",
       "    <tr>\n",
       "      <th>5</th>\n",
       "      <td>NaN</td>\n",
       "      <td>NaN</td>\n",
       "      <td>NaN</td>\n",
       "      <td>NaN</td>\n",
       "      <td>København</td>\n",
       "      <td>72.5</td>\n",
       "      <td>70.0</td>\n",
       "      <td>69.7</td>\n",
       "      <td>69.6</td>\n",
       "      <td>69.4</td>\n",
       "      <td>69.7</td>\n",
       "      <td>70.0</td>\n",
       "      <td>70.8</td>\n",
       "      <td>71.5</td>\n",
       "    </tr>\n",
       "    <tr>\n",
       "      <th>6</th>\n",
       "      <td>NaN</td>\n",
       "      <td>NaN</td>\n",
       "      <td>NaN</td>\n",
       "      <td>NaN</td>\n",
       "      <td>Frederiksberg</td>\n",
       "      <td>75.6</td>\n",
       "      <td>73.7</td>\n",
       "      <td>72.7</td>\n",
       "      <td>72.8</td>\n",
       "      <td>73.0</td>\n",
       "      <td>73.3</td>\n",
       "      <td>73.5</td>\n",
       "      <td>74.0</td>\n",
       "      <td>74.7</td>\n",
       "    </tr>\n",
       "    <tr>\n",
       "      <th>7</th>\n",
       "      <td>NaN</td>\n",
       "      <td>NaN</td>\n",
       "      <td>NaN</td>\n",
       "      <td>NaN</td>\n",
       "      <td>Dragør</td>\n",
       "      <td>80.5</td>\n",
       "      <td>78.8</td>\n",
       "      <td>78.5</td>\n",
       "      <td>78.5</td>\n",
       "      <td>78.7</td>\n",
       "      <td>78.7</td>\n",
       "      <td>78.9</td>\n",
       "      <td>78.6</td>\n",
       "      <td>79.2</td>\n",
       "    </tr>\n",
       "    <tr>\n",
       "      <th>8</th>\n",
       "      <td>NaN</td>\n",
       "      <td>NaN</td>\n",
       "      <td>NaN</td>\n",
       "      <td>NaN</td>\n",
       "      <td>Tårnby</td>\n",
       "      <td>79.0</td>\n",
       "      <td>76.3</td>\n",
       "      <td>75.4</td>\n",
       "      <td>75.8</td>\n",
       "      <td>75.4</td>\n",
       "      <td>75.8</td>\n",
       "      <td>75.7</td>\n",
       "      <td>76.5</td>\n",
       "      <td>77.4</td>\n",
       "    </tr>\n",
       "    <tr>\n",
       "      <th>9</th>\n",
       "      <td>NaN</td>\n",
       "      <td>NaN</td>\n",
       "      <td>NaN</td>\n",
       "      <td>NaN</td>\n",
       "      <td>Landsdel Københavns omegn</td>\n",
       "      <td>77.1</td>\n",
       "      <td>74.2</td>\n",
       "      <td>73.2</td>\n",
       "      <td>73.0</td>\n",
       "      <td>72.4</td>\n",
       "      <td>72.4</td>\n",
       "      <td>72.6</td>\n",
       "      <td>73.3</td>\n",
       "      <td>73.8</td>\n",
       "    </tr>\n",
       "  </tbody>\n",
       "</table>\n",
       "</div>"
      ],
      "text/plain": [
       "  Erhvervs- og beskæftigelsesfrekvenser (ultimo november) efter frekvens, køn, alder, herkomst, område og tid  \\\n",
       "0                                        Enhed: pct.                                                            \n",
       "1                                                NaN                                                            \n",
       "2                             Beskæftigelsesfrekvens                                                            \n",
       "3                                                NaN                                                            \n",
       "4                                                NaN                                                            \n",
       "5                                                NaN                                                            \n",
       "6                                                NaN                                                            \n",
       "7                                                NaN                                                            \n",
       "8                                                NaN                                                            \n",
       "9                                                NaN                                                            \n",
       "\n",
       "  Unnamed: 1   Unnamed: 2 Unnamed: 3                 Unnamed: 4  Unnamed: 5  \\\n",
       "0        NaN          NaN        NaN                        NaN         NaN   \n",
       "1        NaN          NaN        NaN                        NaN      2008.0   \n",
       "2      I alt  Alder i alt      I alt                Hele landet        76.0   \n",
       "3        NaN          NaN        NaN         Region Hovedstaden        75.8   \n",
       "4        NaN          NaN        NaN    Landsdel Byen København        73.4   \n",
       "5        NaN          NaN        NaN                  København        72.5   \n",
       "6        NaN          NaN        NaN              Frederiksberg        75.6   \n",
       "7        NaN          NaN        NaN                     Dragør        80.5   \n",
       "8        NaN          NaN        NaN                     Tårnby        79.0   \n",
       "9        NaN          NaN        NaN  Landsdel Københavns omegn        77.1   \n",
       "\n",
       "   Unnamed: 6  Unnamed: 7  Unnamed: 8  Unnamed: 9  Unnamed: 10  Unnamed: 11  \\\n",
       "0         NaN         NaN         NaN         NaN          NaN          NaN   \n",
       "1      2009.0      2010.0      2011.0      2012.0       2013.0       2014.0   \n",
       "2        72.8        72.1        71.8        71.3         71.3         71.6   \n",
       "3        73.3        72.6        72.5        72.2         72.3         72.5   \n",
       "4        71.0        70.5        70.5        70.4         70.6         70.9   \n",
       "5        70.0        69.7        69.6        69.4         69.7         70.0   \n",
       "6        73.7        72.7        72.8        73.0         73.3         73.5   \n",
       "7        78.8        78.5        78.5        78.7         78.7         78.9   \n",
       "8        76.3        75.4        75.8        75.4         75.8         75.7   \n",
       "9        74.2        73.2        73.0        72.4         72.4         72.6   \n",
       "\n",
       "   Unnamed: 12  Unnamed: 13  \n",
       "0          NaN          NaN  \n",
       "1       2015.0       2016.0  \n",
       "2         72.1         72.8  \n",
       "3         73.2         73.8  \n",
       "4         71.6         72.3  \n",
       "5         70.8         71.5  \n",
       "6         74.0         74.7  \n",
       "7         78.6         79.2  \n",
       "8         76.5         77.4  \n",
       "9         73.3         73.8  "
      ]
     },
     "execution_count": 37,
     "metadata": {},
     "output_type": "execute_result"
    }
   ],
   "source": [
    "# first attempt\n",
    "pd.read_excel(filename).head(10)"
   ]
  },
  {
   "cell_type": "markdown",
   "metadata": {},
   "source": [
    "### Getting the right columns and rows"
   ]
  },
  {
   "cell_type": "markdown",
   "metadata": {},
   "source": [
    "Clearly, we should skip the first three rows and the first four columns"
   ]
  },
  {
   "cell_type": "code",
   "execution_count": 38,
   "metadata": {},
   "outputs": [
    {
     "data": {
      "text/html": [
       "<div>\n",
       "<style scoped>\n",
       "    .dataframe tbody tr th:only-of-type {\n",
       "        vertical-align: middle;\n",
       "    }\n",
       "\n",
       "    .dataframe tbody tr th {\n",
       "        vertical-align: top;\n",
       "    }\n",
       "\n",
       "    .dataframe thead th {\n",
       "        text-align: right;\n",
       "    }\n",
       "</style>\n",
       "<table border=\"1\" class=\"dataframe\">\n",
       "  <thead>\n",
       "    <tr style=\"text-align: right;\">\n",
       "      <th></th>\n",
       "      <th>Unnamed: 0</th>\n",
       "      <th>Unnamed: 1</th>\n",
       "      <th>Unnamed: 2</th>\n",
       "      <th>Unnamed: 3</th>\n",
       "      <th>Unnamed: 4</th>\n",
       "      <th>2008</th>\n",
       "      <th>2009</th>\n",
       "      <th>2010</th>\n",
       "      <th>2011</th>\n",
       "      <th>2012</th>\n",
       "      <th>2013</th>\n",
       "      <th>2014</th>\n",
       "      <th>2015</th>\n",
       "      <th>2016</th>\n",
       "    </tr>\n",
       "  </thead>\n",
       "  <tbody>\n",
       "    <tr>\n",
       "      <th>0</th>\n",
       "      <td>Beskæftigelsesfrekvens</td>\n",
       "      <td>I alt</td>\n",
       "      <td>Alder i alt</td>\n",
       "      <td>I alt</td>\n",
       "      <td>Hele landet</td>\n",
       "      <td>76.0</td>\n",
       "      <td>72.8</td>\n",
       "      <td>72.1</td>\n",
       "      <td>71.8</td>\n",
       "      <td>71.3</td>\n",
       "      <td>71.3</td>\n",
       "      <td>71.6</td>\n",
       "      <td>72.1</td>\n",
       "      <td>72.8</td>\n",
       "    </tr>\n",
       "    <tr>\n",
       "      <th>1</th>\n",
       "      <td>NaN</td>\n",
       "      <td>NaN</td>\n",
       "      <td>NaN</td>\n",
       "      <td>NaN</td>\n",
       "      <td>Region Hovedstaden</td>\n",
       "      <td>75.8</td>\n",
       "      <td>73.3</td>\n",
       "      <td>72.6</td>\n",
       "      <td>72.5</td>\n",
       "      <td>72.2</td>\n",
       "      <td>72.3</td>\n",
       "      <td>72.5</td>\n",
       "      <td>73.2</td>\n",
       "      <td>73.8</td>\n",
       "    </tr>\n",
       "    <tr>\n",
       "      <th>2</th>\n",
       "      <td>NaN</td>\n",
       "      <td>NaN</td>\n",
       "      <td>NaN</td>\n",
       "      <td>NaN</td>\n",
       "      <td>Landsdel Byen København</td>\n",
       "      <td>73.4</td>\n",
       "      <td>71.0</td>\n",
       "      <td>70.5</td>\n",
       "      <td>70.5</td>\n",
       "      <td>70.4</td>\n",
       "      <td>70.6</td>\n",
       "      <td>70.9</td>\n",
       "      <td>71.6</td>\n",
       "      <td>72.3</td>\n",
       "    </tr>\n",
       "    <tr>\n",
       "      <th>3</th>\n",
       "      <td>NaN</td>\n",
       "      <td>NaN</td>\n",
       "      <td>NaN</td>\n",
       "      <td>NaN</td>\n",
       "      <td>København</td>\n",
       "      <td>72.5</td>\n",
       "      <td>70.0</td>\n",
       "      <td>69.7</td>\n",
       "      <td>69.6</td>\n",
       "      <td>69.4</td>\n",
       "      <td>69.7</td>\n",
       "      <td>70.0</td>\n",
       "      <td>70.8</td>\n",
       "      <td>71.5</td>\n",
       "    </tr>\n",
       "    <tr>\n",
       "      <th>4</th>\n",
       "      <td>NaN</td>\n",
       "      <td>NaN</td>\n",
       "      <td>NaN</td>\n",
       "      <td>NaN</td>\n",
       "      <td>Frederiksberg</td>\n",
       "      <td>75.6</td>\n",
       "      <td>73.7</td>\n",
       "      <td>72.7</td>\n",
       "      <td>72.8</td>\n",
       "      <td>73.0</td>\n",
       "      <td>73.3</td>\n",
       "      <td>73.5</td>\n",
       "      <td>74.0</td>\n",
       "      <td>74.7</td>\n",
       "    </tr>\n",
       "    <tr>\n",
       "      <th>5</th>\n",
       "      <td>NaN</td>\n",
       "      <td>NaN</td>\n",
       "      <td>NaN</td>\n",
       "      <td>NaN</td>\n",
       "      <td>Dragør</td>\n",
       "      <td>80.5</td>\n",
       "      <td>78.8</td>\n",
       "      <td>78.5</td>\n",
       "      <td>78.5</td>\n",
       "      <td>78.7</td>\n",
       "      <td>78.7</td>\n",
       "      <td>78.9</td>\n",
       "      <td>78.6</td>\n",
       "      <td>79.2</td>\n",
       "    </tr>\n",
       "    <tr>\n",
       "      <th>6</th>\n",
       "      <td>NaN</td>\n",
       "      <td>NaN</td>\n",
       "      <td>NaN</td>\n",
       "      <td>NaN</td>\n",
       "      <td>Tårnby</td>\n",
       "      <td>79.0</td>\n",
       "      <td>76.3</td>\n",
       "      <td>75.4</td>\n",
       "      <td>75.8</td>\n",
       "      <td>75.4</td>\n",
       "      <td>75.8</td>\n",
       "      <td>75.7</td>\n",
       "      <td>76.5</td>\n",
       "      <td>77.4</td>\n",
       "    </tr>\n",
       "    <tr>\n",
       "      <th>7</th>\n",
       "      <td>NaN</td>\n",
       "      <td>NaN</td>\n",
       "      <td>NaN</td>\n",
       "      <td>NaN</td>\n",
       "      <td>Landsdel Københavns omegn</td>\n",
       "      <td>77.1</td>\n",
       "      <td>74.2</td>\n",
       "      <td>73.2</td>\n",
       "      <td>73.0</td>\n",
       "      <td>72.4</td>\n",
       "      <td>72.4</td>\n",
       "      <td>72.6</td>\n",
       "      <td>73.3</td>\n",
       "      <td>73.8</td>\n",
       "    </tr>\n",
       "    <tr>\n",
       "      <th>8</th>\n",
       "      <td>NaN</td>\n",
       "      <td>NaN</td>\n",
       "      <td>NaN</td>\n",
       "      <td>NaN</td>\n",
       "      <td>Albertslund</td>\n",
       "      <td>73.1</td>\n",
       "      <td>69.2</td>\n",
       "      <td>67.5</td>\n",
       "      <td>67.4</td>\n",
       "      <td>66.5</td>\n",
       "      <td>67.0</td>\n",
       "      <td>67.4</td>\n",
       "      <td>68.7</td>\n",
       "      <td>68.8</td>\n",
       "    </tr>\n",
       "    <tr>\n",
       "      <th>9</th>\n",
       "      <td>NaN</td>\n",
       "      <td>NaN</td>\n",
       "      <td>NaN</td>\n",
       "      <td>NaN</td>\n",
       "      <td>Ballerup</td>\n",
       "      <td>75.9</td>\n",
       "      <td>72.9</td>\n",
       "      <td>71.9</td>\n",
       "      <td>72.0</td>\n",
       "      <td>71.4</td>\n",
       "      <td>71.0</td>\n",
       "      <td>71.8</td>\n",
       "      <td>72.8</td>\n",
       "      <td>73.6</td>\n",
       "    </tr>\n",
       "  </tbody>\n",
       "</table>\n",
       "</div>"
      ],
      "text/plain": [
       "               Unnamed: 0 Unnamed: 1   Unnamed: 2 Unnamed: 3  \\\n",
       "0  Beskæftigelsesfrekvens      I alt  Alder i alt      I alt   \n",
       "1                     NaN        NaN          NaN        NaN   \n",
       "2                     NaN        NaN          NaN        NaN   \n",
       "3                     NaN        NaN          NaN        NaN   \n",
       "4                     NaN        NaN          NaN        NaN   \n",
       "5                     NaN        NaN          NaN        NaN   \n",
       "6                     NaN        NaN          NaN        NaN   \n",
       "7                     NaN        NaN          NaN        NaN   \n",
       "8                     NaN        NaN          NaN        NaN   \n",
       "9                     NaN        NaN          NaN        NaN   \n",
       "\n",
       "                  Unnamed: 4  2008  2009  2010  2011  2012  2013  2014  2015  \\\n",
       "0                Hele landet  76.0  72.8  72.1  71.8  71.3  71.3  71.6  72.1   \n",
       "1         Region Hovedstaden  75.8  73.3  72.6  72.5  72.2  72.3  72.5  73.2   \n",
       "2    Landsdel Byen København  73.4  71.0  70.5  70.5  70.4  70.6  70.9  71.6   \n",
       "3                  København  72.5  70.0  69.7  69.6  69.4  69.7  70.0  70.8   \n",
       "4              Frederiksberg  75.6  73.7  72.7  72.8  73.0  73.3  73.5  74.0   \n",
       "5                     Dragør  80.5  78.8  78.5  78.5  78.7  78.7  78.9  78.6   \n",
       "6                     Tårnby  79.0  76.3  75.4  75.8  75.4  75.8  75.7  76.5   \n",
       "7  Landsdel Københavns omegn  77.1  74.2  73.2  73.0  72.4  72.4  72.6  73.3   \n",
       "8                Albertslund  73.1  69.2  67.5  67.4  66.5  67.0  67.4  68.7   \n",
       "9                   Ballerup  75.9  72.9  71.9  72.0  71.4  71.0  71.8  72.8   \n",
       "\n",
       "   2016  \n",
       "0  72.8  \n",
       "1  73.8  \n",
       "2  72.3  \n",
       "3  71.5  \n",
       "4  74.7  \n",
       "5  79.2  \n",
       "6  77.4  \n",
       "7  73.8  \n",
       "8  68.8  \n",
       "9  73.6  "
      ]
     },
     "execution_count": 38,
     "metadata": {},
     "output_type": "execute_result"
    }
   ],
   "source": [
    "empl = pd.read_excel(filename, skiprows=2)\n",
    "empl.head(10)"
   ]
  },
  {
   "cell_type": "markdown",
   "metadata": {},
   "source": [
    "The first couple of columns are not needed and contain only missing values (denoted by `NaN` (Not a Number)), so we will drop those. "
   ]
  },
  {
   "cell_type": "code",
   "execution_count": 39,
   "metadata": {},
   "outputs": [
    {
     "data": {
      "text/html": [
       "<div>\n",
       "<style scoped>\n",
       "    .dataframe tbody tr th:only-of-type {\n",
       "        vertical-align: middle;\n",
       "    }\n",
       "\n",
       "    .dataframe tbody tr th {\n",
       "        vertical-align: top;\n",
       "    }\n",
       "\n",
       "    .dataframe thead th {\n",
       "        text-align: right;\n",
       "    }\n",
       "</style>\n",
       "<table border=\"1\" class=\"dataframe\">\n",
       "  <thead>\n",
       "    <tr style=\"text-align: right;\">\n",
       "      <th></th>\n",
       "      <th>Unnamed: 4</th>\n",
       "      <th>2008</th>\n",
       "      <th>2009</th>\n",
       "      <th>2010</th>\n",
       "      <th>2011</th>\n",
       "      <th>2012</th>\n",
       "      <th>2013</th>\n",
       "      <th>2014</th>\n",
       "      <th>2015</th>\n",
       "      <th>2016</th>\n",
       "    </tr>\n",
       "  </thead>\n",
       "  <tbody>\n",
       "    <tr>\n",
       "      <th>0</th>\n",
       "      <td>Hele landet</td>\n",
       "      <td>76.0</td>\n",
       "      <td>72.8</td>\n",
       "      <td>72.1</td>\n",
       "      <td>71.8</td>\n",
       "      <td>71.3</td>\n",
       "      <td>71.3</td>\n",
       "      <td>71.6</td>\n",
       "      <td>72.1</td>\n",
       "      <td>72.8</td>\n",
       "    </tr>\n",
       "    <tr>\n",
       "      <th>1</th>\n",
       "      <td>Region Hovedstaden</td>\n",
       "      <td>75.8</td>\n",
       "      <td>73.3</td>\n",
       "      <td>72.6</td>\n",
       "      <td>72.5</td>\n",
       "      <td>72.2</td>\n",
       "      <td>72.3</td>\n",
       "      <td>72.5</td>\n",
       "      <td>73.2</td>\n",
       "      <td>73.8</td>\n",
       "    </tr>\n",
       "    <tr>\n",
       "      <th>2</th>\n",
       "      <td>Landsdel Byen København</td>\n",
       "      <td>73.4</td>\n",
       "      <td>71.0</td>\n",
       "      <td>70.5</td>\n",
       "      <td>70.5</td>\n",
       "      <td>70.4</td>\n",
       "      <td>70.6</td>\n",
       "      <td>70.9</td>\n",
       "      <td>71.6</td>\n",
       "      <td>72.3</td>\n",
       "    </tr>\n",
       "    <tr>\n",
       "      <th>3</th>\n",
       "      <td>København</td>\n",
       "      <td>72.5</td>\n",
       "      <td>70.0</td>\n",
       "      <td>69.7</td>\n",
       "      <td>69.6</td>\n",
       "      <td>69.4</td>\n",
       "      <td>69.7</td>\n",
       "      <td>70.0</td>\n",
       "      <td>70.8</td>\n",
       "      <td>71.5</td>\n",
       "    </tr>\n",
       "    <tr>\n",
       "      <th>4</th>\n",
       "      <td>Frederiksberg</td>\n",
       "      <td>75.6</td>\n",
       "      <td>73.7</td>\n",
       "      <td>72.7</td>\n",
       "      <td>72.8</td>\n",
       "      <td>73.0</td>\n",
       "      <td>73.3</td>\n",
       "      <td>73.5</td>\n",
       "      <td>74.0</td>\n",
       "      <td>74.7</td>\n",
       "    </tr>\n",
       "  </tbody>\n",
       "</table>\n",
       "</div>"
      ],
      "text/plain": [
       "                Unnamed: 4  2008  2009  2010  2011  2012  2013  2014  2015  \\\n",
       "0              Hele landet  76.0  72.8  72.1  71.8  71.3  71.3  71.6  72.1   \n",
       "1       Region Hovedstaden  75.8  73.3  72.6  72.5  72.2  72.3  72.5  73.2   \n",
       "2  Landsdel Byen København  73.4  71.0  70.5  70.5  70.4  70.6  70.9  71.6   \n",
       "3                København  72.5  70.0  69.7  69.6  69.4  69.7  70.0  70.8   \n",
       "4            Frederiksberg  75.6  73.7  72.7  72.8  73.0  73.3  73.5  74.0   \n",
       "\n",
       "   2016  \n",
       "0  72.8  \n",
       "1  73.8  \n",
       "2  72.3  \n",
       "3  71.5  \n",
       "4  74.7  "
      ]
     },
     "execution_count": 39,
     "metadata": {},
     "output_type": "execute_result"
    }
   ],
   "source": [
    "drop_these = ['Unnamed: 0', 'Unnamed: 1', 'Unnamed: 2', 'Unnamed: 3']\n",
    "empl.drop(drop_these, axis=1, inplace=True) # axis = 1 -> columns, inplace=True -> changed, no copy made\n",
    "empl.head(5)"
   ]
  },
  {
   "cell_type": "markdown",
   "metadata": {},
   "source": [
    "> **Alternative:** Use `del empl['Unnamed: 0']`."
   ]
  },
  {
   "cell_type": "markdown",
   "metadata": {},
   "source": [
    "### Renaming variables"
   ]
  },
  {
   "cell_type": "markdown",
   "metadata": {},
   "source": [
    "Let's rename the first variable, which is now called `Unnamed: 4`. This is done using `df.rename(columns=dict)`, where dict must be a Python *dictionary*."
   ]
  },
  {
   "cell_type": "code",
   "execution_count": 40,
   "metadata": {},
   "outputs": [],
   "source": [
    "empl.rename(columns = {'Unnamed: 4':'municipality'}, inplace=True)"
   ]
  },
  {
   "cell_type": "markdown",
   "metadata": {},
   "source": [
    "We also see that the employment rate in 2008 has been named `2008`. Having a variable that is named a number can cause problems with some functions (and many other programming languages do not even allow it), so let us change their names. To do so, we need to create a dictionary that maps each of the years {2008, ..., 2016} to {e2008, ..., e2016}. "
   ]
  },
  {
   "cell_type": "code",
   "execution_count": 41,
   "metadata": {},
   "outputs": [
    {
     "data": {
      "text/plain": [
       "{'2008': 'e2008',\n",
       " '2009': 'e2009',\n",
       " '2010': 'e2010',\n",
       " '2011': 'e2011',\n",
       " '2012': 'e2012',\n",
       " '2013': 'e2013',\n",
       " '2014': 'e2014',\n",
       " '2015': 'e2015',\n",
       " '2016': 'e2016'}"
      ]
     },
     "execution_count": 41,
     "metadata": {},
     "output_type": "execute_result"
    }
   ],
   "source": [
    "myDict = {}\n",
    "for i in range(2008, 2017): # range goes from 2008 to but not including 2017\n",
    "    myDict[str(i)] = f'e{i}' \n",
    "myDict"
   ]
  },
  {
   "cell_type": "code",
   "execution_count": 43,
   "metadata": {},
   "outputs": [
    {
     "data": {
      "text/html": [
       "<div>\n",
       "<style scoped>\n",
       "    .dataframe tbody tr th:only-of-type {\n",
       "        vertical-align: middle;\n",
       "    }\n",
       "\n",
       "    .dataframe tbody tr th {\n",
       "        vertical-align: top;\n",
       "    }\n",
       "\n",
       "    .dataframe thead th {\n",
       "        text-align: right;\n",
       "    }\n",
       "</style>\n",
       "<table border=\"1\" class=\"dataframe\">\n",
       "  <thead>\n",
       "    <tr style=\"text-align: right;\">\n",
       "      <th></th>\n",
       "      <th>municipality</th>\n",
       "      <th>e2008</th>\n",
       "      <th>e2009</th>\n",
       "      <th>e2010</th>\n",
       "      <th>e2011</th>\n",
       "      <th>e2012</th>\n",
       "      <th>e2013</th>\n",
       "      <th>e2014</th>\n",
       "      <th>e2015</th>\n",
       "      <th>e2016</th>\n",
       "    </tr>\n",
       "  </thead>\n",
       "  <tbody>\n",
       "    <tr>\n",
       "      <th>0</th>\n",
       "      <td>Hele landet</td>\n",
       "      <td>76.0</td>\n",
       "      <td>72.8</td>\n",
       "      <td>72.1</td>\n",
       "      <td>71.8</td>\n",
       "      <td>71.3</td>\n",
       "      <td>71.3</td>\n",
       "      <td>71.6</td>\n",
       "      <td>72.1</td>\n",
       "      <td>72.8</td>\n",
       "    </tr>\n",
       "    <tr>\n",
       "      <th>1</th>\n",
       "      <td>Region Hovedstaden</td>\n",
       "      <td>75.8</td>\n",
       "      <td>73.3</td>\n",
       "      <td>72.6</td>\n",
       "      <td>72.5</td>\n",
       "      <td>72.2</td>\n",
       "      <td>72.3</td>\n",
       "      <td>72.5</td>\n",
       "      <td>73.2</td>\n",
       "      <td>73.8</td>\n",
       "    </tr>\n",
       "    <tr>\n",
       "      <th>2</th>\n",
       "      <td>Landsdel Byen København</td>\n",
       "      <td>73.4</td>\n",
       "      <td>71.0</td>\n",
       "      <td>70.5</td>\n",
       "      <td>70.5</td>\n",
       "      <td>70.4</td>\n",
       "      <td>70.6</td>\n",
       "      <td>70.9</td>\n",
       "      <td>71.6</td>\n",
       "      <td>72.3</td>\n",
       "    </tr>\n",
       "    <tr>\n",
       "      <th>3</th>\n",
       "      <td>København</td>\n",
       "      <td>72.5</td>\n",
       "      <td>70.0</td>\n",
       "      <td>69.7</td>\n",
       "      <td>69.6</td>\n",
       "      <td>69.4</td>\n",
       "      <td>69.7</td>\n",
       "      <td>70.0</td>\n",
       "      <td>70.8</td>\n",
       "      <td>71.5</td>\n",
       "    </tr>\n",
       "    <tr>\n",
       "      <th>4</th>\n",
       "      <td>Frederiksberg</td>\n",
       "      <td>75.6</td>\n",
       "      <td>73.7</td>\n",
       "      <td>72.7</td>\n",
       "      <td>72.8</td>\n",
       "      <td>73.0</td>\n",
       "      <td>73.3</td>\n",
       "      <td>73.5</td>\n",
       "      <td>74.0</td>\n",
       "      <td>74.7</td>\n",
       "    </tr>\n",
       "    <tr>\n",
       "      <th>5</th>\n",
       "      <td>Dragør</td>\n",
       "      <td>80.5</td>\n",
       "      <td>78.8</td>\n",
       "      <td>78.5</td>\n",
       "      <td>78.5</td>\n",
       "      <td>78.7</td>\n",
       "      <td>78.7</td>\n",
       "      <td>78.9</td>\n",
       "      <td>78.6</td>\n",
       "      <td>79.2</td>\n",
       "    </tr>\n",
       "    <tr>\n",
       "      <th>6</th>\n",
       "      <td>Tårnby</td>\n",
       "      <td>79.0</td>\n",
       "      <td>76.3</td>\n",
       "      <td>75.4</td>\n",
       "      <td>75.8</td>\n",
       "      <td>75.4</td>\n",
       "      <td>75.8</td>\n",
       "      <td>75.7</td>\n",
       "      <td>76.5</td>\n",
       "      <td>77.4</td>\n",
       "    </tr>\n",
       "    <tr>\n",
       "      <th>7</th>\n",
       "      <td>Landsdel Københavns omegn</td>\n",
       "      <td>77.1</td>\n",
       "      <td>74.2</td>\n",
       "      <td>73.2</td>\n",
       "      <td>73.0</td>\n",
       "      <td>72.4</td>\n",
       "      <td>72.4</td>\n",
       "      <td>72.6</td>\n",
       "      <td>73.3</td>\n",
       "      <td>73.8</td>\n",
       "    </tr>\n",
       "    <tr>\n",
       "      <th>8</th>\n",
       "      <td>Albertslund</td>\n",
       "      <td>73.1</td>\n",
       "      <td>69.2</td>\n",
       "      <td>67.5</td>\n",
       "      <td>67.4</td>\n",
       "      <td>66.5</td>\n",
       "      <td>67.0</td>\n",
       "      <td>67.4</td>\n",
       "      <td>68.7</td>\n",
       "      <td>68.8</td>\n",
       "    </tr>\n",
       "    <tr>\n",
       "      <th>9</th>\n",
       "      <td>Ballerup</td>\n",
       "      <td>75.9</td>\n",
       "      <td>72.9</td>\n",
       "      <td>71.9</td>\n",
       "      <td>72.0</td>\n",
       "      <td>71.4</td>\n",
       "      <td>71.0</td>\n",
       "      <td>71.8</td>\n",
       "      <td>72.8</td>\n",
       "      <td>73.6</td>\n",
       "    </tr>\n",
       "  </tbody>\n",
       "</table>\n",
       "</div>"
      ],
      "text/plain": [
       "                municipality  e2008  e2009  e2010  e2011  e2012  e2013  e2014  \\\n",
       "0                Hele landet   76.0   72.8   72.1   71.8   71.3   71.3   71.6   \n",
       "1         Region Hovedstaden   75.8   73.3   72.6   72.5   72.2   72.3   72.5   \n",
       "2    Landsdel Byen København   73.4   71.0   70.5   70.5   70.4   70.6   70.9   \n",
       "3                  København   72.5   70.0   69.7   69.6   69.4   69.7   70.0   \n",
       "4              Frederiksberg   75.6   73.7   72.7   72.8   73.0   73.3   73.5   \n",
       "5                     Dragør   80.5   78.8   78.5   78.5   78.7   78.7   78.9   \n",
       "6                     Tårnby   79.0   76.3   75.4   75.8   75.4   75.8   75.7   \n",
       "7  Landsdel Københavns omegn   77.1   74.2   73.2   73.0   72.4   72.4   72.6   \n",
       "8                Albertslund   73.1   69.2   67.5   67.4   66.5   67.0   67.4   \n",
       "9                   Ballerup   75.9   72.9   71.9   72.0   71.4   71.0   71.8   \n",
       "\n",
       "   e2015  e2016  \n",
       "0   72.1   72.8  \n",
       "1   73.2   73.8  \n",
       "2   71.6   72.3  \n",
       "3   70.8   71.5  \n",
       "4   74.0   74.7  \n",
       "5   78.6   79.2  \n",
       "6   76.5   77.4  \n",
       "7   73.3   73.8  \n",
       "8   68.7   68.8  \n",
       "9   72.8   73.6  "
      ]
     },
     "execution_count": 43,
     "metadata": {},
     "output_type": "execute_result"
    }
   ],
   "source": [
    "empl.rename(columns = myDict, inplace=True)\n",
    "empl.head(10)"
   ]
  },
  {
   "cell_type": "markdown",
   "metadata": {},
   "source": [
    "Now we can find the employment rate in the municipality where Anders grew up: "
   ]
  },
  {
   "cell_type": "code",
   "execution_count": 44,
   "metadata": {},
   "outputs": [
    {
     "data": {
      "text/html": [
       "<div>\n",
       "<style scoped>\n",
       "    .dataframe tbody tr th:only-of-type {\n",
       "        vertical-align: middle;\n",
       "    }\n",
       "\n",
       "    .dataframe tbody tr th {\n",
       "        vertical-align: top;\n",
       "    }\n",
       "\n",
       "    .dataframe thead th {\n",
       "        text-align: right;\n",
       "    }\n",
       "</style>\n",
       "<table border=\"1\" class=\"dataframe\">\n",
       "  <thead>\n",
       "    <tr style=\"text-align: right;\">\n",
       "      <th></th>\n",
       "      <th>municipality</th>\n",
       "      <th>e2008</th>\n",
       "      <th>e2009</th>\n",
       "      <th>e2010</th>\n",
       "      <th>e2011</th>\n",
       "      <th>e2012</th>\n",
       "      <th>e2013</th>\n",
       "      <th>e2014</th>\n",
       "      <th>e2015</th>\n",
       "      <th>e2016</th>\n",
       "    </tr>\n",
       "  </thead>\n",
       "  <tbody>\n",
       "    <tr>\n",
       "      <th>40</th>\n",
       "      <td>Lejre</td>\n",
       "      <td>81.5</td>\n",
       "      <td>79.4</td>\n",
       "      <td>78.3</td>\n",
       "      <td>78.2</td>\n",
       "      <td>77.5</td>\n",
       "      <td>77.4</td>\n",
       "      <td>77.3</td>\n",
       "      <td>78.2</td>\n",
       "      <td>78.6</td>\n",
       "    </tr>\n",
       "  </tbody>\n",
       "</table>\n",
       "</div>"
      ],
      "text/plain": [
       "   municipality  e2008  e2009  e2010  e2011  e2012  e2013  e2014  e2015  e2016\n",
       "40        Lejre   81.5   79.4   78.3   78.2   77.5   77.4   77.3   78.2   78.6"
      ]
     },
     "execution_count": 44,
     "metadata": {},
     "output_type": "execute_result"
    }
   ],
   "source": [
    "empl.loc[empl.municipality == 'Lejre']"
   ]
  },
  {
   "cell_type": "markdown",
   "metadata": {},
   "source": [
    "### Dropping observations that are not actually municipalities \n",
    "\n",
    "The dataset contains observations like \"Region Hovedstaden\", which is not a municipality so we want to drop such rows. To do this, we can use the `df['var'].str` functionalities, in particular `df['var'].str.contains('PATTERN')`. "
   ]
  },
  {
   "cell_type": "code",
   "execution_count": 45,
   "metadata": {},
   "outputs": [
    {
     "data": {
      "text/html": [
       "<div>\n",
       "<style scoped>\n",
       "    .dataframe tbody tr th:only-of-type {\n",
       "        vertical-align: middle;\n",
       "    }\n",
       "\n",
       "    .dataframe tbody tr th {\n",
       "        vertical-align: top;\n",
       "    }\n",
       "\n",
       "    .dataframe thead th {\n",
       "        text-align: right;\n",
       "    }\n",
       "</style>\n",
       "<table border=\"1\" class=\"dataframe\">\n",
       "  <thead>\n",
       "    <tr style=\"text-align: right;\">\n",
       "      <th></th>\n",
       "      <th>municipality</th>\n",
       "      <th>e2008</th>\n",
       "      <th>e2009</th>\n",
       "      <th>e2010</th>\n",
       "      <th>e2011</th>\n",
       "      <th>e2012</th>\n",
       "      <th>e2013</th>\n",
       "      <th>e2014</th>\n",
       "      <th>e2015</th>\n",
       "      <th>e2016</th>\n",
       "    </tr>\n",
       "  </thead>\n",
       "  <tbody>\n",
       "    <tr>\n",
       "      <th>1</th>\n",
       "      <td>Region Hovedstaden</td>\n",
       "      <td>75.8</td>\n",
       "      <td>73.3</td>\n",
       "      <td>72.6</td>\n",
       "      <td>72.5</td>\n",
       "      <td>72.2</td>\n",
       "      <td>72.3</td>\n",
       "      <td>72.5</td>\n",
       "      <td>73.2</td>\n",
       "      <td>73.8</td>\n",
       "    </tr>\n",
       "    <tr>\n",
       "      <th>36</th>\n",
       "      <td>Region Sjælland</td>\n",
       "      <td>75.7</td>\n",
       "      <td>72.7</td>\n",
       "      <td>71.9</td>\n",
       "      <td>71.6</td>\n",
       "      <td>70.9</td>\n",
       "      <td>71.0</td>\n",
       "      <td>71.3</td>\n",
       "      <td>71.9</td>\n",
       "      <td>72.6</td>\n",
       "    </tr>\n",
       "    <tr>\n",
       "      <th>56</th>\n",
       "      <td>Region Syddanmark</td>\n",
       "      <td>75.7</td>\n",
       "      <td>72.0</td>\n",
       "      <td>71.2</td>\n",
       "      <td>70.7</td>\n",
       "      <td>70.0</td>\n",
       "      <td>70.1</td>\n",
       "      <td>70.5</td>\n",
       "      <td>70.8</td>\n",
       "      <td>71.6</td>\n",
       "    </tr>\n",
       "    <tr>\n",
       "      <th>81</th>\n",
       "      <td>Region Midtjylland</td>\n",
       "      <td>77.0</td>\n",
       "      <td>73.4</td>\n",
       "      <td>72.8</td>\n",
       "      <td>72.4</td>\n",
       "      <td>71.8</td>\n",
       "      <td>71.7</td>\n",
       "      <td>72.2</td>\n",
       "      <td>72.5</td>\n",
       "      <td>73.3</td>\n",
       "    </tr>\n",
       "    <tr>\n",
       "      <th>103</th>\n",
       "      <td>Region Nordjylland</td>\n",
       "      <td>75.2</td>\n",
       "      <td>71.5</td>\n",
       "      <td>71.2</td>\n",
       "      <td>71.0</td>\n",
       "      <td>70.6</td>\n",
       "      <td>70.2</td>\n",
       "      <td>70.3</td>\n",
       "      <td>70.7</td>\n",
       "      <td>71.7</td>\n",
       "    </tr>\n",
       "  </tbody>\n",
       "</table>\n",
       "</div>"
      ],
      "text/plain": [
       "           municipality  e2008  e2009  e2010  e2011  e2012  e2013  e2014  \\\n",
       "1    Region Hovedstaden   75.8   73.3   72.6   72.5   72.2   72.3   72.5   \n",
       "36      Region Sjælland   75.7   72.7   71.9   71.6   70.9   71.0   71.3   \n",
       "56    Region Syddanmark   75.7   72.0   71.2   70.7   70.0   70.1   70.5   \n",
       "81   Region Midtjylland   77.0   73.4   72.8   72.4   71.8   71.7   72.2   \n",
       "103  Region Nordjylland   75.2   71.5   71.2   71.0   70.6   70.2   70.3   \n",
       "\n",
       "     e2015  e2016  \n",
       "1     73.2   73.8  \n",
       "36    71.9   72.6  \n",
       "56    70.8   71.6  \n",
       "81    72.5   73.3  \n",
       "103   70.7   71.7  "
      ]
     },
     "execution_count": 45,
     "metadata": {},
     "output_type": "execute_result"
    }
   ],
   "source": [
    "I  = empl.municipality.str.contains('Region')\n",
    "empl.loc[I, :]"
   ]
  },
  {
   "cell_type": "markdown",
   "metadata": {},
   "source": [
    "Delete these rows. "
   ]
  },
  {
   "cell_type": "code",
   "execution_count": 46,
   "metadata": {},
   "outputs": [],
   "source": [
    "for val in ['Region', 'Landsdel', 'Hele landet']: \n",
    "    I = empl.municipality.str.contains(val)\n",
    "    empl = empl.loc[I == False] # keep everything else"
   ]
  },
  {
   "cell_type": "markdown",
   "metadata": {},
   "source": [
    "### Summary statistics \n",
    "\n",
    "To get an overview of employments across municipalities we can use the function `df.describe()`. Note that each observation (municipality) is weighted equally. "
   ]
  },
  {
   "cell_type": "code",
   "execution_count": 47,
   "metadata": {},
   "outputs": [
    {
     "data": {
      "text/html": [
       "<div>\n",
       "<style scoped>\n",
       "    .dataframe tbody tr th:only-of-type {\n",
       "        vertical-align: middle;\n",
       "    }\n",
       "\n",
       "    .dataframe tbody tr th {\n",
       "        vertical-align: top;\n",
       "    }\n",
       "\n",
       "    .dataframe thead th {\n",
       "        text-align: right;\n",
       "    }\n",
       "</style>\n",
       "<table border=\"1\" class=\"dataframe\">\n",
       "  <thead>\n",
       "    <tr style=\"text-align: right;\">\n",
       "      <th></th>\n",
       "      <th>e2008</th>\n",
       "      <th>e2009</th>\n",
       "      <th>e2010</th>\n",
       "      <th>e2011</th>\n",
       "      <th>e2012</th>\n",
       "      <th>e2013</th>\n",
       "      <th>e2014</th>\n",
       "      <th>e2015</th>\n",
       "      <th>e2016</th>\n",
       "    </tr>\n",
       "  </thead>\n",
       "  <tbody>\n",
       "    <tr>\n",
       "      <th>count</th>\n",
       "      <td>99.000000</td>\n",
       "      <td>99.000000</td>\n",
       "      <td>99.000000</td>\n",
       "      <td>99.000000</td>\n",
       "      <td>99.000000</td>\n",
       "      <td>99.000000</td>\n",
       "      <td>99.000000</td>\n",
       "      <td>99.000000</td>\n",
       "      <td>99.000000</td>\n",
       "    </tr>\n",
       "    <tr>\n",
       "      <th>mean</th>\n",
       "      <td>76.629293</td>\n",
       "      <td>73.419192</td>\n",
       "      <td>72.794949</td>\n",
       "      <td>72.591919</td>\n",
       "      <td>72.020202</td>\n",
       "      <td>72.091919</td>\n",
       "      <td>72.431313</td>\n",
       "      <td>72.876768</td>\n",
       "      <td>73.669697</td>\n",
       "    </tr>\n",
       "    <tr>\n",
       "      <th>std</th>\n",
       "      <td>3.727538</td>\n",
       "      <td>3.626537</td>\n",
       "      <td>3.617062</td>\n",
       "      <td>3.691211</td>\n",
       "      <td>3.804240</td>\n",
       "      <td>3.704484</td>\n",
       "      <td>3.660062</td>\n",
       "      <td>3.647275</td>\n",
       "      <td>3.549690</td>\n",
       "    </tr>\n",
       "    <tr>\n",
       "      <th>min</th>\n",
       "      <td>62.900000</td>\n",
       "      <td>63.400000</td>\n",
       "      <td>62.400000</td>\n",
       "      <td>61.500000</td>\n",
       "      <td>60.700000</td>\n",
       "      <td>61.200000</td>\n",
       "      <td>61.600000</td>\n",
       "      <td>62.200000</td>\n",
       "      <td>62.600000</td>\n",
       "    </tr>\n",
       "    <tr>\n",
       "      <th>25%</th>\n",
       "      <td>74.650000</td>\n",
       "      <td>71.350000</td>\n",
       "      <td>70.550000</td>\n",
       "      <td>70.000000</td>\n",
       "      <td>69.450000</td>\n",
       "      <td>69.700000</td>\n",
       "      <td>70.200000</td>\n",
       "      <td>70.750000</td>\n",
       "      <td>71.500000</td>\n",
       "    </tr>\n",
       "    <tr>\n",
       "      <th>50%</th>\n",
       "      <td>76.800000</td>\n",
       "      <td>73.300000</td>\n",
       "      <td>72.900000</td>\n",
       "      <td>72.600000</td>\n",
       "      <td>72.100000</td>\n",
       "      <td>72.200000</td>\n",
       "      <td>72.600000</td>\n",
       "      <td>73.100000</td>\n",
       "      <td>74.000000</td>\n",
       "    </tr>\n",
       "    <tr>\n",
       "      <th>75%</th>\n",
       "      <td>79.150000</td>\n",
       "      <td>75.900000</td>\n",
       "      <td>75.200000</td>\n",
       "      <td>75.050000</td>\n",
       "      <td>74.500000</td>\n",
       "      <td>74.500000</td>\n",
       "      <td>74.700000</td>\n",
       "      <td>75.200000</td>\n",
       "      <td>75.700000</td>\n",
       "    </tr>\n",
       "    <tr>\n",
       "      <th>max</th>\n",
       "      <td>84.000000</td>\n",
       "      <td>81.500000</td>\n",
       "      <td>81.400000</td>\n",
       "      <td>80.500000</td>\n",
       "      <td>80.700000</td>\n",
       "      <td>80.500000</td>\n",
       "      <td>80.900000</td>\n",
       "      <td>81.200000</td>\n",
       "      <td>81.800000</td>\n",
       "    </tr>\n",
       "  </tbody>\n",
       "</table>\n",
       "</div>"
      ],
      "text/plain": [
       "           e2008      e2009      e2010      e2011      e2012      e2013  \\\n",
       "count  99.000000  99.000000  99.000000  99.000000  99.000000  99.000000   \n",
       "mean   76.629293  73.419192  72.794949  72.591919  72.020202  72.091919   \n",
       "std     3.727538   3.626537   3.617062   3.691211   3.804240   3.704484   \n",
       "min    62.900000  63.400000  62.400000  61.500000  60.700000  61.200000   \n",
       "25%    74.650000  71.350000  70.550000  70.000000  69.450000  69.700000   \n",
       "50%    76.800000  73.300000  72.900000  72.600000  72.100000  72.200000   \n",
       "75%    79.150000  75.900000  75.200000  75.050000  74.500000  74.500000   \n",
       "max    84.000000  81.500000  81.400000  80.500000  80.700000  80.500000   \n",
       "\n",
       "           e2014      e2015      e2016  \n",
       "count  99.000000  99.000000  99.000000  \n",
       "mean   72.431313  72.876768  73.669697  \n",
       "std     3.660062   3.647275   3.549690  \n",
       "min    61.600000  62.200000  62.600000  \n",
       "25%    70.200000  70.750000  71.500000  \n",
       "50%    72.600000  73.100000  74.000000  \n",
       "75%    74.700000  75.200000  75.700000  \n",
       "max    80.900000  81.200000  81.800000  "
      ]
     },
     "execution_count": 47,
     "metadata": {},
     "output_type": "execute_result"
    }
   ],
   "source": [
    "empl.describe()"
   ]
  },
  {
   "cell_type": "markdown",
   "metadata": {},
   "source": [
    "We can also just get the mean for each year:"
   ]
  },
  {
   "cell_type": "code",
   "execution_count": 48,
   "metadata": {},
   "outputs": [
    {
     "data": {
      "text/plain": [
       "e2008    76.629293\n",
       "e2009    73.419192\n",
       "e2010    72.794949\n",
       "e2011    72.591919\n",
       "e2012    72.020202\n",
       "e2013    72.091919\n",
       "e2014    72.431313\n",
       "e2015    72.876768\n",
       "e2016    73.669697\n",
       "dtype: float64"
      ]
     },
     "execution_count": 48,
     "metadata": {},
     "output_type": "execute_result"
    }
   ],
   "source": [
    "empl.mean()"
   ]
  },
  {
   "cell_type": "markdown",
   "metadata": {},
   "source": [
    "## Long vs. wide datasets: `pd.wide_to_long()`\n",
    "\n",
    "Often in economic applications, it can be useful to switch between *wide* vs. *long* formats (long is sometimes referred to as *tall*, e.g. in Stata). \n",
    "\n",
    "This is done by the commands `pd.wide_to_long()` (and `pd.long_to_wide()`). \n",
    "\n",
    "Many types of analyses are easier to do in one format than in another so it is extremely useful to be able to switch comfortably between formats. \n",
    "\n",
    "**Common:** Think of a dataset as having an \"ID\" and a \"PERIOD\" variable. In our dataset `empl`, the ID variable is `municipality`, and the period variable is `year`. \n",
    "\n",
    "**Wide dataset:** The default from Statistics Denmark: each row corresponds to an ID and there is a variable for each PERIOD. \n",
    "\n",
    "**Tall dataset:** There is one row for each combination of (ID, PERIOD). \n",
    "\n",
    "In general, Pandas will assume that the variables in the *wide* format have a particular structure: namely they are of the form XPERIOD, where X is called the \"stub\". In our case, the variable names are e.g. `e2011`, so the stub is `e` and the period (for that variable) is `2011`. "
   ]
  },
  {
   "cell_type": "code",
   "execution_count": 49,
   "metadata": {},
   "outputs": [
    {
     "data": {
      "text/html": [
       "<div>\n",
       "<style scoped>\n",
       "    .dataframe tbody tr th:only-of-type {\n",
       "        vertical-align: middle;\n",
       "    }\n",
       "\n",
       "    .dataframe tbody tr th {\n",
       "        vertical-align: top;\n",
       "    }\n",
       "\n",
       "    .dataframe thead th {\n",
       "        text-align: right;\n",
       "    }\n",
       "</style>\n",
       "<table border=\"1\" class=\"dataframe\">\n",
       "  <thead>\n",
       "    <tr style=\"text-align: right;\">\n",
       "      <th></th>\n",
       "      <th></th>\n",
       "      <th>e</th>\n",
       "    </tr>\n",
       "    <tr>\n",
       "      <th>municipality</th>\n",
       "      <th>year</th>\n",
       "      <th></th>\n",
       "    </tr>\n",
       "  </thead>\n",
       "  <tbody>\n",
       "    <tr>\n",
       "      <th>København</th>\n",
       "      <th>2008</th>\n",
       "      <td>72.5</td>\n",
       "    </tr>\n",
       "    <tr>\n",
       "      <th>Frederiksberg</th>\n",
       "      <th>2008</th>\n",
       "      <td>75.6</td>\n",
       "    </tr>\n",
       "    <tr>\n",
       "      <th>Dragør</th>\n",
       "      <th>2008</th>\n",
       "      <td>80.5</td>\n",
       "    </tr>\n",
       "    <tr>\n",
       "      <th>Tårnby</th>\n",
       "      <th>2008</th>\n",
       "      <td>79.0</td>\n",
       "    </tr>\n",
       "    <tr>\n",
       "      <th>Albertslund</th>\n",
       "      <th>2008</th>\n",
       "      <td>73.1</td>\n",
       "    </tr>\n",
       "    <tr>\n",
       "      <th>Ballerup</th>\n",
       "      <th>2008</th>\n",
       "      <td>75.9</td>\n",
       "    </tr>\n",
       "    <tr>\n",
       "      <th>Brøndby</th>\n",
       "      <th>2008</th>\n",
       "      <td>72.3</td>\n",
       "    </tr>\n",
       "    <tr>\n",
       "      <th>Gentofte</th>\n",
       "      <th>2008</th>\n",
       "      <td>79.2</td>\n",
       "    </tr>\n",
       "    <tr>\n",
       "      <th>Gladsaxe</th>\n",
       "      <th>2008</th>\n",
       "      <td>77.9</td>\n",
       "    </tr>\n",
       "    <tr>\n",
       "      <th>Glostrup</th>\n",
       "      <th>2008</th>\n",
       "      <td>79.2</td>\n",
       "    </tr>\n",
       "  </tbody>\n",
       "</table>\n",
       "</div>"
      ],
      "text/plain": [
       "                       e\n",
       "municipality  year      \n",
       "København     2008  72.5\n",
       "Frederiksberg 2008  75.6\n",
       "Dragør        2008  80.5\n",
       "Tårnby        2008  79.0\n",
       "Albertslund   2008  73.1\n",
       "Ballerup      2008  75.9\n",
       "Brøndby       2008  72.3\n",
       "Gentofte      2008  79.2\n",
       "Gladsaxe      2008  77.9\n",
       "Glostrup      2008  79.2"
      ]
     },
     "execution_count": 49,
     "metadata": {},
     "output_type": "execute_result"
    }
   ],
   "source": [
    "empl_tall = pd.wide_to_long(empl, stubnames='e', i='municipality', j='year')\n",
    "empl_tall.head(10)"
   ]
  },
  {
   "cell_type": "markdown",
   "metadata": {},
   "source": [
    "**Note:** The variables `municipality` and `year`  are now in the index!! We see that because they are \"below\" `e` in the `head` overview. "
   ]
  },
  {
   "cell_type": "code",
   "execution_count": 50,
   "metadata": {},
   "outputs": [],
   "source": [
    "empl_tall = empl_tall.reset_index()"
   ]
  },
  {
   "cell_type": "markdown",
   "metadata": {},
   "source": [
    "Now we can look for the municipality we care about:"
   ]
  },
  {
   "cell_type": "code",
   "execution_count": 51,
   "metadata": {},
   "outputs": [
    {
     "data": {
      "text/html": [
       "<div>\n",
       "<style scoped>\n",
       "    .dataframe tbody tr th:only-of-type {\n",
       "        vertical-align: middle;\n",
       "    }\n",
       "\n",
       "    .dataframe tbody tr th {\n",
       "        vertical-align: top;\n",
       "    }\n",
       "\n",
       "    .dataframe thead th {\n",
       "        text-align: right;\n",
       "    }\n",
       "</style>\n",
       "<table border=\"1\" class=\"dataframe\">\n",
       "  <thead>\n",
       "    <tr style=\"text-align: right;\">\n",
       "      <th></th>\n",
       "      <th>municipality</th>\n",
       "      <th>year</th>\n",
       "      <th>e</th>\n",
       "    </tr>\n",
       "  </thead>\n",
       "  <tbody>\n",
       "    <tr>\n",
       "      <th>32</th>\n",
       "      <td>Lejre</td>\n",
       "      <td>2008</td>\n",
       "      <td>81.5</td>\n",
       "    </tr>\n",
       "    <tr>\n",
       "      <th>131</th>\n",
       "      <td>Lejre</td>\n",
       "      <td>2009</td>\n",
       "      <td>79.4</td>\n",
       "    </tr>\n",
       "    <tr>\n",
       "      <th>230</th>\n",
       "      <td>Lejre</td>\n",
       "      <td>2010</td>\n",
       "      <td>78.3</td>\n",
       "    </tr>\n",
       "    <tr>\n",
       "      <th>329</th>\n",
       "      <td>Lejre</td>\n",
       "      <td>2011</td>\n",
       "      <td>78.2</td>\n",
       "    </tr>\n",
       "    <tr>\n",
       "      <th>428</th>\n",
       "      <td>Lejre</td>\n",
       "      <td>2012</td>\n",
       "      <td>77.5</td>\n",
       "    </tr>\n",
       "    <tr>\n",
       "      <th>527</th>\n",
       "      <td>Lejre</td>\n",
       "      <td>2013</td>\n",
       "      <td>77.4</td>\n",
       "    </tr>\n",
       "    <tr>\n",
       "      <th>626</th>\n",
       "      <td>Lejre</td>\n",
       "      <td>2014</td>\n",
       "      <td>77.3</td>\n",
       "    </tr>\n",
       "    <tr>\n",
       "      <th>725</th>\n",
       "      <td>Lejre</td>\n",
       "      <td>2015</td>\n",
       "      <td>78.2</td>\n",
       "    </tr>\n",
       "    <tr>\n",
       "      <th>824</th>\n",
       "      <td>Lejre</td>\n",
       "      <td>2016</td>\n",
       "      <td>78.6</td>\n",
       "    </tr>\n",
       "  </tbody>\n",
       "</table>\n",
       "</div>"
      ],
      "text/plain": [
       "    municipality  year     e\n",
       "32         Lejre  2008  81.5\n",
       "131        Lejre  2009  79.4\n",
       "230        Lejre  2010  78.3\n",
       "329        Lejre  2011  78.2\n",
       "428        Lejre  2012  77.5\n",
       "527        Lejre  2013  77.4\n",
       "626        Lejre  2014  77.3\n",
       "725        Lejre  2015  78.2\n",
       "824        Lejre  2016  78.6"
      ]
     },
     "execution_count": 51,
     "metadata": {},
     "output_type": "execute_result"
    }
   ],
   "source": [
    "empl_tall.loc[empl_tall.municipality == 'Lejre', :]"
   ]
  },
  {
   "cell_type": "markdown",
   "metadata": {},
   "source": [
    "**Teaser:** As a quick teaser for what's to come, here's a cute little plot using the builtin pandas plot function. "
   ]
  },
  {
   "cell_type": "code",
   "execution_count": 52,
   "metadata": {},
   "outputs": [],
   "source": [
    "empl_tall.loc[empl_tall['municipality'] == 'Lejre', :].plot(x='year',y='e'); "
   ]
  },
  {
   "cell_type": "markdown",
   "metadata": {},
   "source": [
    "We can even do it interactively:"
   ]
  },
  {
   "cell_type": "code",
   "execution_count": 61,
   "metadata": {},
   "outputs": [],
   "source": [
    "import ipywidgets as widgets\n",
    "def plot_e(dataframe, municipality): \n",
    "    I = dataframe['municipality'] == municipality\n",
    "    \n",
    "    ax=dataframe.loc[I,:].plot(x='year', y='e', style='-o', legend='False')"
   ]
  },
  {
   "cell_type": "code",
   "execution_count": 62,
   "metadata": {},
   "outputs": [
    {
     "data": {
      "application/vnd.jupyter.widget-view+json": {
       "model_id": "35d82676e8294fd2a88b2a35e1e82e3f",
       "version_major": 2,
       "version_minor": 0
      },
      "text/plain": [
       "interactive(children=(Dropdown(description='Municipality', index=32, options=('København', 'Frederiksberg', 'D…"
      ]
     },
     "metadata": {},
     "output_type": "display_data"
    }
   ],
   "source": [
    "widgets.interact(plot_e, \n",
    "    dataframe = widgets.fixed(empl_tall),\n",
    "    municipality = widgets.Dropdown(description='Municipality', options=empl_tall.municipality.unique(), value='Lejre')\n",
    "); "
   ]
  },
  {
   "cell_type": "markdown",
   "metadata": {},
   "source": [
    "## Income\n",
    "\n",
    "Next, we will read in the avg. disposable income for highly educated in each municipality. Here we do the cleaning, renaming and structuring in a few condensed lines."
   ]
  },
  {
   "cell_type": "code",
   "execution_count": null,
   "metadata": {},
   "outputs": [],
   "source": [
    "pd.read_"
   ]
  },
  {
   "cell_type": "code",
   "execution_count": null,
   "metadata": {},
   "outputs": [],
   "source": [
    "# a. load\n",
    "inc = pd.read_excel('./data/INDKP107.xlsx', skiprows=2)\n",
    "\n",
    "# b. clean and rename\n",
    "inc.drop([f'Unnamed: {i}' for i in range(4)], axis=1, inplace=True)\n",
    "inc.rename(columns = {'Unnamed: 4':'municipality'}, inplace=True) # using list comprehension\n",
    "inc.rename(columns = {str(i): f'inc{i}' for i in range(2004,2018)}, inplace=True) # usinc dictionary comprehension\n",
    "\n",
    "# c. drop rows with missing\n",
    "inc.dropna(inplace=True)\n",
    "\n",
    "# d. remove non-municipalities\n",
    "for val in ['Region','Landsdel', 'Hele landet']: \n",
    "    I = inc.municipality.str.contains(val)\n",
    "    inc.drop(inc[I].index, inplace=True) # .index -> get the indexes of the series\n",
    "    \n",
    "inc.head(5)"
   ]
  },
  {
   "cell_type": "markdown",
   "metadata": {},
   "source": [
    "Convert wide -> tall:"
   ]
  },
  {
   "cell_type": "code",
   "execution_count": null,
   "metadata": {},
   "outputs": [],
   "source": [
    "inc_tall = pd.wide_to_long(df=inc, stubnames='inc', i='municipality', j='year')\n",
    "inc_tall.reset_index(inplace=True)\n",
    "inc_tall.head(5)"
   ]
  },
  {
   "cell_type": "markdown",
   "metadata": {},
   "source": [
    "## Municipal area\n",
    "\n",
    "Finally, let's read in a dataset on municipality areas in km$^2$. "
   ]
  },
  {
   "cell_type": "code",
   "execution_count": null,
   "metadata": {},
   "outputs": [],
   "source": [
    "# a. load\n",
    "area = pd.read_excel('./data/areal.xlsx', skiprows=2)\n",
    "\n",
    "# b. clean and rename\n",
    "area.rename(columns = {'Unnamed: 0':'municipality','areal':'km2'}, inplace=True)\n",
    "\n",
    "# c. drop rows with missing\n",
    "area.dropna(inplace=True)\n",
    "\n",
    "# d. remove non-municipalities\n",
    "for val in ['Region','Landsdel', 'Hele landet']: \n",
    "    I = area.municipality.str.contains(val)\n",
    "    area.drop(area[I].index, inplace=True)\n",
    "    \n",
    "area.head(5)"
   ]
  },
  {
   "cell_type": "markdown",
   "metadata": {},
   "source": [
    "## Writing data\n",
    "\n",
    "As with reading in data, we have the corresponding functions:\n",
    "* df.to_csv()\n",
    "* df.to_excel()\n",
    "* df.to_stata()\n",
    "* df.to_sas()\n",
    "* df.to_hdf(): Pro = low memory footprint, Cons = restrictive as to which variables you can save; Python only. \n",
    "* df.to_pickle(): Pro = quick and dirty, can save all variable types. Cons = Python only; quite unsafe (a malicious hacker can store a virus in a pickle!). \n",
    "\n",
    "Let's save our dataset to CSV form. We will set `index=False` to avoid saving the index (which does not mean anything here but can in other contexts be an annoying thing). "
   ]
  },
  {
   "cell_type": "code",
   "execution_count": null,
   "metadata": {},
   "outputs": [],
   "source": [
    "empl_tall.to_csv('./data/RAS200_tall.csv', index=False)"
   ]
  },
  {
   "cell_type": "code",
   "execution_count": null,
   "metadata": {},
   "outputs": [],
   "source": [
    "inc_tall.to_csv('./data/INDKP107_tall.csv', index=False)"
   ]
  },
  {
   "cell_type": "code",
   "execution_count": null,
   "metadata": {},
   "outputs": [],
   "source": [
    "area.to_csv('./data/area.csv', index=False)"
   ]
  }
 ],
 "metadata": {
  "kernelspec": {
   "display_name": "Python 3",
   "language": "python",
   "name": "python3"
  },
  "language_info": {
   "codemirror_mode": {
    "name": "ipython",
    "version": 3
   },
   "file_extension": ".py",
   "mimetype": "text/x-python",
   "name": "python",
   "nbconvert_exporter": "python",
   "pygments_lexer": "ipython3",
   "version": "3.7.1"
  },
  "toc-autonumbering": true
 },
 "nbformat": 4,
 "nbformat_minor": 2
}
