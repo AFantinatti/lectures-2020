{
 "cells": [
  {
   "cell_type": "markdown",
   "metadata": {
    "toc": true
   },
   "source": [
    "<h1>Table of Contents<span class=\"tocSkip\"></span></h1>\n",
    "<div class=\"toc\"><ul class=\"toc-item\"><li><span><a href=\"#Summary\" data-toc-modified-id=\"Summary-1\"><span class=\"toc-item-num\">1&nbsp;&nbsp;</span>Summary</a></span></li><li><span><a href=\"#Types\" data-toc-modified-id=\"Types-2\"><span class=\"toc-item-num\">2&nbsp;&nbsp;</span>Types</a></span><ul class=\"toc-item\"><li><span><a href=\"#Atomic-types\" data-toc-modified-id=\"Atomic-types-2.1\"><span class=\"toc-item-num\">2.1&nbsp;&nbsp;</span>Atomic types</a></span></li><li><span><a href=\"#Operators\" data-toc-modified-id=\"Operators-2.2\"><span class=\"toc-item-num\">2.2&nbsp;&nbsp;</span>Operators</a></span></li><li><span><a href=\"#Lists-(a-container)\" data-toc-modified-id=\"Lists-(a-container)-2.3\"><span class=\"toc-item-num\">2.3&nbsp;&nbsp;</span>Lists (a container)</a></span></li><li><span><a href=\"#Tuples-(another-container)\" data-toc-modified-id=\"Tuples-(another-container)-2.4\"><span class=\"toc-item-num\">2.4&nbsp;&nbsp;</span>Tuples (another container)</a></span></li><li><span><a href=\"#Dictionaries-(a-keyword-container)\" data-toc-modified-id=\"Dictionaries-(a-keyword-container)-2.5\"><span class=\"toc-item-num\">2.5&nbsp;&nbsp;</span>Dictionaries (a keyword container)</a></span></li></ul></li><li><span><a href=\"#Classes-(user-defined-types)\" data-toc-modified-id=\"Classes-(user-defined-types)-3\"><span class=\"toc-item-num\">3&nbsp;&nbsp;</span>Classes (user-defined types)</a></span></li><li><span><a href=\"#Conditionals-and-loops\" data-toc-modified-id=\"Conditionals-and-loops-4\"><span class=\"toc-item-num\">4&nbsp;&nbsp;</span>Conditionals and loops</a></span><ul class=\"toc-item\"><li><span><a href=\"#Conditionals\" data-toc-modified-id=\"Conditionals-4.1\"><span class=\"toc-item-num\">4.1&nbsp;&nbsp;</span>Conditionals</a></span></li><li><span><a href=\"#Simple-loops\" data-toc-modified-id=\"Simple-loops-4.2\"><span class=\"toc-item-num\">4.2&nbsp;&nbsp;</span>Simple loops</a></span></li><li><span><a href=\"#Itertools\" data-toc-modified-id=\"Itertools-4.3\"><span class=\"toc-item-num\">4.3&nbsp;&nbsp;</span>Itertools</a></span></li><li><span><a href=\"#Dictionaries\" data-toc-modified-id=\"Dictionaries-4.4\"><span class=\"toc-item-num\">4.4&nbsp;&nbsp;</span>Dictionaries</a></span></li><li><span><a href=\"#List-comprehensions\" data-toc-modified-id=\"List-comprehensions-4.5\"><span class=\"toc-item-num\">4.5&nbsp;&nbsp;</span>List comprehensions</a></span></li><li><span><a href=\"#Iterator\" data-toc-modified-id=\"Iterator-4.6\"><span class=\"toc-item-num\">4.6&nbsp;&nbsp;</span>Iterator</a></span></li></ul></li><li><span><a href=\"#Functions\" data-toc-modified-id=\"Functions-5\"><span class=\"toc-item-num\">5&nbsp;&nbsp;</span>Functions</a></span><ul class=\"toc-item\"><li><span><a href=\"#Baseline\" data-toc-modified-id=\"Baseline-5.1\"><span class=\"toc-item-num\">5.1&nbsp;&nbsp;</span>Baseline</a></span></li><li><span><a href=\"#A-function-is-an-object\" data-toc-modified-id=\"A-function-is-an-object-5.2\"><span class=\"toc-item-num\">5.2&nbsp;&nbsp;</span>A function is an object</a></span></li><li><span><a href=\"#Scope\" data-toc-modified-id=\"Scope-5.3\"><span class=\"toc-item-num\">5.3&nbsp;&nbsp;</span>Scope</a></span></li><li><span><a href=\"#Recursion\" data-toc-modified-id=\"Recursion-5.4\"><span class=\"toc-item-num\">5.4&nbsp;&nbsp;</span>Recursion</a></span></li></ul></li><li><span><a href=\"#Floating-point-numbers\" data-toc-modified-id=\"Floating-point-numbers-6\"><span class=\"toc-item-num\">6&nbsp;&nbsp;</span>Floating point numbers</a></span></li><li><span><a href=\"#Numpy\" data-toc-modified-id=\"Numpy-7\"><span class=\"toc-item-num\">7&nbsp;&nbsp;</span>Numpy</a></span></li><li><span><a href=\"#Export-to-HTML\" data-toc-modified-id=\"Export-to-HTML-8\"><span class=\"toc-item-num\">8&nbsp;&nbsp;</span>Export to HTML</a></span></li></ul></div>"
   ]
  },
  {
   "cell_type": "markdown",
   "metadata": {},
   "source": [
    "# Summary"
   ]
  },
  {
   "cell_type": "markdown",
   "metadata": {
    "cell_style": "split"
   },
   "source": [
    "You will be given an in-depth introduction to the **fundamentals of Python** (objects, variables, operators, classes, methods, functions, conditionals, loops). You learn to discriminate between different **types** such as integers, floats, strings, lists, tuples and dictionaries, and determine whether they are **subscriptable** (slicable) and/or **mutable**. You will learn about **referencing** and **copying**. You will learn a tiny bit about **floating point arithmetics**."
   ]
  },
  {
   "cell_type": "markdown",
   "metadata": {
    "cell_style": "split"
   },
   "source": [
    "**Links**:\n",
    "\n",
    "- **tutorial**: [link](https://www.python-course.eu/python3_course.php) (detailed)\n",
    "\n",
    "- **numpy**: [link](https://www.python-course.eu/numpy.php)\n"
   ]
  },
  {
   "cell_type": "markdown",
   "metadata": {
    "heading_collapsed": true
   },
   "source": [
    "# Types"
   ]
  },
  {
   "cell_type": "markdown",
   "metadata": {
    "hidden": true
   },
   "source": [
    "All **variables** in Python is a **reference** to an **object** of some **type**."
   ]
  },
  {
   "cell_type": "markdown",
   "metadata": {
    "heading_collapsed": true,
    "hidden": true
   },
   "source": [
    "## Atomic types"
   ]
  },
  {
   "cell_type": "markdown",
   "metadata": {
    "hidden": true
   },
   "source": [
    "**Integers:**"
   ]
  },
  {
   "cell_type": "code",
   "execution_count": 1,
   "metadata": {
    "ExecuteTime": {
     "end_time": "2018-10-30T18:39:32.052057Z",
     "start_time": "2018-10-30T18:39:32.045061Z"
    },
    "hidden": true
   },
   "outputs": [
    {
     "name": "stdout",
     "output_type": "stream",
     "text": [
      "<class 'int'>\n",
      "1\n"
     ]
    }
   ],
   "source": [
    "x = 1 # variable x reference an integer type object with a value of 1\n",
    "print(type(x)) # prints the type of x\n",
    "print(x) # prints the value of x"
   ]
  },
  {
   "cell_type": "markdown",
   "metadata": {
    "hidden": true
   },
   "source": [
    "**Floats**:"
   ]
  },
  {
   "cell_type": "code",
   "execution_count": 2,
   "metadata": {
    "ExecuteTime": {
     "end_time": "2018-10-30T18:39:32.065049Z",
     "start_time": "2018-10-30T18:39:32.053057Z"
    },
    "hidden": true
   },
   "outputs": [
    {
     "name": "stdout",
     "output_type": "stream",
     "text": [
      "<class 'float'>\n",
      "1.2\n"
     ]
    }
   ],
   "source": [
    "x = 1.2 # variable x reference an floating point (decimal number) type object with a value of 1.2 \n",
    "print(type(x))\n",
    "print(x)"
   ]
  },
  {
   "cell_type": "markdown",
   "metadata": {
    "hidden": true
   },
   "source": [
    "**Strings**:"
   ]
  },
  {
   "cell_type": "code",
   "execution_count": 3,
   "metadata": {
    "ExecuteTime": {
     "end_time": "2018-10-30T18:39:32.077042Z",
     "start_time": "2018-10-30T18:39:32.066049Z"
    },
    "hidden": true
   },
   "outputs": [
    {
     "name": "stdout",
     "output_type": "stream",
     "text": [
      "<class 'str'>\n",
      "abc\n"
     ]
    }
   ],
   "source": [
    "x = 'abc' # variable x reference a string type opbject with a value of 'abc'\n",
    "print(type(x))\n",
    "print(x)"
   ]
  },
  {
   "cell_type": "markdown",
   "metadata": {
    "hidden": true
   },
   "source": [
    "**Booleans**:"
   ]
  },
  {
   "cell_type": "code",
   "execution_count": 4,
   "metadata": {
    "ExecuteTime": {
     "end_time": "2018-10-30T18:39:32.097032Z",
     "start_time": "2018-10-30T18:39:32.078043Z"
    },
    "hidden": true
   },
   "outputs": [
    {
     "name": "stdout",
     "output_type": "stream",
     "text": [
      "<class 'bool'>\n",
      "False\n"
     ]
    }
   ],
   "source": [
    "x = False # variable x reference a boolean type opbject with a value of False\n",
    "print(type(x))\n",
    "print(x)"
   ]
  },
  {
   "cell_type": "markdown",
   "metadata": {
    "hidden": true
   },
   "source": [
    "Objects of one type can (sometimes) be **converted** into another type. E.g. from float to string:"
   ]
  },
  {
   "cell_type": "code",
   "execution_count": 5,
   "metadata": {
    "ExecuteTime": {
     "end_time": "2018-10-30T18:39:32.109026Z",
     "start_time": "2018-10-30T18:39:32.098032Z"
    },
    "hidden": true
   },
   "outputs": [
    {
     "name": "stdout",
     "output_type": "stream",
     "text": [
      "<class 'str'>\n",
      "1.2\n"
     ]
    }
   ],
   "source": [
    "x = 1.2  # variable x reference an floating point (decimal number) type object with a value of 1.2 \n",
    "x = str(x)  # variable x now reference a string type object with a value created based on x \n",
    "print(type(x))\n",
    "print(x)"
   ]
  },
  {
   "cell_type": "markdown",
   "metadata": {
    "hidden": true
   },
   "source": [
    "or from float to integer:"
   ]
  },
  {
   "cell_type": "code",
   "execution_count": 6,
   "metadata": {
    "ExecuteTime": {
     "end_time": "2018-10-30T18:39:32.122018Z",
     "start_time": "2018-10-30T18:39:32.110024Z"
    },
    "hidden": true
   },
   "outputs": [
    {
     "name": "stdout",
     "output_type": "stream",
     "text": [
      "<class 'int'>\n",
      "1\n"
     ]
    }
   ],
   "source": [
    "x = 1.2\n",
    "x = int(x) # variable x now reference an integer type object with a value created based on x \n",
    "print(type(x))\n",
    "print(x)"
   ]
  },
  {
   "cell_type": "markdown",
   "metadata": {
    "ExecuteTime": {
     "end_time": "2018-10-29T14:00:26.198380Z",
     "start_time": "2018-10-29T14:00:26.194412Z"
    },
    "hidden": true
   },
   "source": [
    "**Note:** You can e.g. not convert a string into an integer raises an error,"
   ]
  },
  {
   "cell_type": "code",
   "execution_count": 7,
   "metadata": {
    "ExecuteTime": {
     "end_time": "2018-10-30T18:39:32.134021Z",
     "start_time": "2018-10-30T18:39:32.123017Z"
    },
    "hidden": true
   },
   "outputs": [
    {
     "name": "stdout",
     "output_type": "stream",
     "text": [
      "cannot be done\n"
     ]
    }
   ],
   "source": [
    "try: # try to run this block\n",
    "    x = int('abc')\n",
    "    print('can be done')\n",
    "except: # if any error found run this block instead\n",
    "    print('cannot be done')"
   ]
  },
  {
   "cell_type": "markdown",
   "metadata": {
    "heading_collapsed": true,
    "hidden": true
   },
   "source": [
    "## Operators"
   ]
  },
  {
   "cell_type": "markdown",
   "metadata": {
    "hidden": true
   },
   "source": [
    "Variables can be combined using **operators** (e.g. +, -, /, **)"
   ]
  },
  {
   "cell_type": "code",
   "execution_count": 8,
   "metadata": {
    "ExecuteTime": {
     "end_time": "2018-10-30T18:39:32.154001Z",
     "start_time": "2018-10-30T18:39:32.135011Z"
    },
    "hidden": true
   },
   "outputs": [
    {
     "name": "stdout",
     "output_type": "stream",
     "text": [
      "5\n",
      "1\n",
      "1.5\n",
      "6\n",
      "9\n"
     ]
    }
   ],
   "source": [
    "# numbers\n",
    "x = 3\n",
    "y = 2\n",
    "print(x+y)\n",
    "print(x-y)\n",
    "print(x/y)\n",
    "print(x*y)\n",
    "print(x**y)"
   ]
  },
  {
   "cell_type": "code",
   "execution_count": 9,
   "metadata": {
    "ExecuteTime": {
     "end_time": "2018-10-30T18:39:32.166992Z",
     "start_time": "2018-10-30T18:39:32.155004Z"
    },
    "hidden": true
   },
   "outputs": [
    {
     "name": "stdout",
     "output_type": "stream",
     "text": [
      "abcdef\n"
     ]
    }
   ],
   "source": [
    "# strings\n",
    "x = 'abc'\n",
    "y = 'def'\n",
    "print(x+y)"
   ]
  },
  {
   "cell_type": "code",
   "execution_count": 10,
   "metadata": {
    "ExecuteTime": {
     "end_time": "2018-10-30T18:39:32.185983Z",
     "start_time": "2018-10-30T18:39:32.167994Z"
    },
    "hidden": true
   },
   "outputs": [
    {
     "name": "stdout",
     "output_type": "stream",
     "text": [
      "abcabc\n"
     ]
    }
   ],
   "source": [
    "# strings and integers\n",
    "x = 'abc'\n",
    "y = 2\n",
    "print(x*y)"
   ]
  },
  {
   "cell_type": "markdown",
   "metadata": {
    "hidden": true
   },
   "source": [
    "Variables can be changed using **augmented operators** (e.g. +=,-=,/=)"
   ]
  },
  {
   "cell_type": "code",
   "execution_count": 11,
   "metadata": {
    "ExecuteTime": {
     "end_time": "2018-10-30T18:39:32.201973Z",
     "start_time": "2018-10-30T18:39:32.187980Z"
    },
    "hidden": true
   },
   "outputs": [
    {
     "name": "stdout",
     "output_type": "stream",
     "text": [
      "3\n",
      "4\n",
      "8\n",
      "4.0\n"
     ]
    }
   ],
   "source": [
    "x = 3\n",
    "print(x)\n",
    "x += 1 \n",
    "print(x)\n",
    "x *= 2 \n",
    "print(x)\n",
    "x /= 2 \n",
    "print(x)"
   ]
  },
  {
   "cell_type": "markdown",
   "metadata": {
    "hidden": true
   },
   "source": [
    "Variables can be compared using **boolean operators** (e.g. <, <=, >, >=, !=, ==)"
   ]
  },
  {
   "cell_type": "code",
   "execution_count": 12,
   "metadata": {
    "ExecuteTime": {
     "end_time": "2018-10-30T18:39:32.212969Z",
     "start_time": "2018-10-30T18:39:32.202973Z"
    },
    "hidden": true,
    "scrolled": true
   },
   "outputs": [
    {
     "name": "stdout",
     "output_type": "stream",
     "text": [
      "False\n",
      "False\n",
      "True\n",
      "False\n"
     ]
    }
   ],
   "source": [
    "x = 3\n",
    "y = 2\n",
    "print(x < y)\n",
    "print(x <= y)\n",
    "print(x != y)\n",
    "print(x == y)"
   ]
  },
  {
   "cell_type": "markdown",
   "metadata": {
    "heading_collapsed": true,
    "hidden": true
   },
   "source": [
    "## Lists (a container)"
   ]
  },
  {
   "cell_type": "markdown",
   "metadata": {
    "hidden": true
   },
   "source": [
    "Python also have **containers** (also called **collection types**). A first example is a **list**.  A list contains **variables** each **referencing** to some **object**."
   ]
  },
  {
   "cell_type": "code",
   "execution_count": 13,
   "metadata": {
    "ExecuteTime": {
     "end_time": "2018-10-30T18:39:32.227970Z",
     "start_time": "2018-10-30T18:39:32.213967Z"
    },
    "hidden": true,
    "scrolled": false
   },
   "outputs": [
    {
     "name": "stdout",
     "output_type": "stream",
     "text": [
      "<class 'list'>\n",
      "[1, 'abc']\n"
     ]
    }
   ],
   "source": [
    "x = [1,'abc'] # variable x reference a list type opbject with elements referencing 1 and 'abc'\n",
    "print(type(x))\n",
    "print(x) # prints the contens of the list"
   ]
  },
  {
   "cell_type": "markdown",
   "metadata": {
    "hidden": true
   },
   "source": [
    "The **length** of a list can be found with the **len** function."
   ]
  },
  {
   "cell_type": "code",
   "execution_count": 14,
   "metadata": {
    "ExecuteTime": {
     "end_time": "2018-10-30T18:39:32.240952Z",
     "start_time": "2018-10-30T18:39:32.229958Z"
    },
    "hidden": true
   },
   "outputs": [
    {
     "name": "stdout",
     "output_type": "stream",
     "text": [
      "2\n"
     ]
    }
   ],
   "source": [
    "print(len(x))"
   ]
  },
  {
   "cell_type": "markdown",
   "metadata": {
    "hidden": true
   },
   "source": [
    "A list is **subscriptable** starting from **index 0**."
   ]
  },
  {
   "cell_type": "code",
   "execution_count": 15,
   "metadata": {
    "ExecuteTime": {
     "end_time": "2018-10-30T18:39:32.251952Z",
     "start_time": "2018-10-30T18:39:32.241951Z"
    },
    "hidden": true,
    "scrolled": true
   },
   "outputs": [
    {
     "name": "stdout",
     "output_type": "stream",
     "text": [
      "1\n",
      "abc\n"
     ]
    }
   ],
   "source": [
    "print(x[0])\n",
    "print(x[1])"
   ]
  },
  {
   "cell_type": "markdown",
   "metadata": {
    "hidden": true
   },
   "source": [
    "A list is **mutable**, i.e. you can change its elements on the fly."
   ]
  },
  {
   "cell_type": "code",
   "execution_count": 16,
   "metadata": {
    "ExecuteTime": {
     "end_time": "2018-10-30T18:39:32.268938Z",
     "start_time": "2018-10-30T18:39:32.252945Z"
    },
    "hidden": true
   },
   "outputs": [
    {
     "name": "stdout",
     "output_type": "stream",
     "text": [
      "[2, 'def']\n"
     ]
    }
   ],
   "source": [
    "x[0] = 2\n",
    "x[1] = 'def'\n",
    "print(x)"
   ]
  },
  {
   "cell_type": "markdown",
   "metadata": {
    "hidden": true
   },
   "source": [
    "and add more elements"
   ]
  },
  {
   "cell_type": "code",
   "execution_count": 17,
   "metadata": {
    "ExecuteTime": {
     "end_time": "2018-10-30T18:39:32.279940Z",
     "start_time": "2018-10-30T18:39:32.270935Z"
    },
    "hidden": true
   },
   "outputs": [
    {
     "name": "stdout",
     "output_type": "stream",
     "text": [
      "[2, 'def', 'new_element']\n"
     ]
    }
   ],
   "source": [
    "x.append('new_element') # add new element to end of list\n",
    "print(x)"
   ]
  },
  {
   "cell_type": "markdown",
   "metadata": {
    "hidden": true
   },
   "source": [
    "A list is **slicable**, i.e. you can exact a list from a list "
   ]
  },
  {
   "cell_type": "code",
   "execution_count": 18,
   "metadata": {
    "ExecuteTime": {
     "end_time": "2018-10-30T18:39:32.291928Z",
     "start_time": "2018-10-30T18:39:32.280929Z"
    },
    "hidden": true
   },
   "outputs": [
    {
     "name": "stdout",
     "output_type": "stream",
     "text": [
      "[0, 1, 2]\n",
      "[1, 2]\n",
      "[1, 2, 3, 4]\n",
      "[0, 1, 2]\n"
     ]
    }
   ],
   "source": [
    "x = [0,1,2,3,4,5]\n",
    "print(x[0:3])\n",
    "print(x[1:3])\n",
    "print(x[1:-1])\n",
    "print(x[:3])"
   ]
  },
  {
   "cell_type": "markdown",
   "metadata": {
    "hidden": true
   },
   "source": [
    "**Important**: Multiple variables can refer to the **same** list. "
   ]
  },
  {
   "cell_type": "code",
   "execution_count": 19,
   "metadata": {
    "ExecuteTime": {
     "end_time": "2018-10-30T18:39:32.304916Z",
     "start_time": "2018-10-30T18:39:32.292923Z"
    },
    "hidden": true
   },
   "outputs": [
    {
     "name": "stdout",
     "output_type": "stream",
     "text": [
      "[2, 2, 3]\n"
     ]
    }
   ],
   "source": [
    "x = [1,2,3]\n",
    "y = x # y now reference the same list of references as x\n",
    "y[0] = 2 # change the first element in the list y references\n",
    "print(x) # x is also changed because it references the same list as y"
   ]
  },
  {
   "cell_type": "markdown",
   "metadata": {
    "hidden": true
   },
   "source": [
    "If one variable is deleted, the other one still reference the list."
   ]
  },
  {
   "cell_type": "code",
   "execution_count": 20,
   "metadata": {
    "ExecuteTime": {
     "end_time": "2018-10-30T18:39:32.316922Z",
     "start_time": "2018-10-30T18:39:32.305916Z"
    },
    "hidden": true
   },
   "outputs": [
    {
     "name": "stdout",
     "output_type": "stream",
     "text": [
      "[2, 2, 3]\n"
     ]
    }
   ],
   "source": [
    "del x # delete the variable x\n",
    "print(y)"
   ]
  },
  {
   "cell_type": "markdown",
   "metadata": {
    "hidden": true
   },
   "source": [
    "Alternatively, lists can by **copied** by using the copy-module:"
   ]
  },
  {
   "cell_type": "code",
   "execution_count": 21,
   "metadata": {
    "ExecuteTime": {
     "end_time": "2018-10-30T18:39:32.332920Z",
     "start_time": "2018-10-30T18:39:32.317909Z"
    },
    "hidden": true
   },
   "outputs": [
    {
     "name": "stdout",
     "output_type": "stream",
     "text": [
      "[1, 2, 3]\n"
     ]
    }
   ],
   "source": [
    "from copy import copy\n",
    "\n",
    "x = [1,2,3]\n",
    "y = copy(x) # y now a copy y \n",
    "y[0] = 2\n",
    "print(x)"
   ]
  },
  {
   "cell_type": "markdown",
   "metadata": {
    "hidden": true
   },
   "source": [
    "or by slicing:"
   ]
  },
  {
   "cell_type": "code",
   "execution_count": 22,
   "metadata": {
    "ExecuteTime": {
     "end_time": "2018-10-30T18:39:32.351910Z",
     "start_time": "2018-10-30T18:39:32.333900Z"
    },
    "hidden": true
   },
   "outputs": [
    {
     "name": "stdout",
     "output_type": "stream",
     "text": [
      "[1, 2, 3]\n"
     ]
    }
   ],
   "source": [
    "x = [1,2,3]\n",
    "y = x[:]\n",
    "y[0] = 1\n",
    "print(x)"
   ]
  },
  {
   "cell_type": "markdown",
   "metadata": {
    "hidden": true
   },
   "source": [
    "A **deepcopy** is necessary, when the list contains mutable objects."
   ]
  },
  {
   "cell_type": "code",
   "execution_count": 23,
   "metadata": {
    "ExecuteTime": {
     "end_time": "2018-10-30T18:39:32.364883Z",
     "start_time": "2018-10-30T18:39:32.352893Z"
    },
    "hidden": true,
    "scrolled": true
   },
   "outputs": [
    {
     "name": "stdout",
     "output_type": "stream",
     "text": [
      "[[2, 2, 3], 1, 3]\n",
      "[[2, 2, 3], 2, 3]\n",
      "[[2, 2, 3], 2, 3]\n",
      "[[1, 2, 3], 2, 3]\n"
     ]
    }
   ],
   "source": [
    "from copy import deepcopy\n",
    "\n",
    "x = [[1,2,3],2,3]\n",
    "y1 = copy(x) # y1 now a copy x\n",
    "y2 = x[:] # y2 is now another copy of x\n",
    "y3 = deepcopy(x) # y3 is a deep copy\n",
    "\n",
    "x[0][0] = 2\n",
    "x[1] = 1\n",
    "print(x)\n",
    "print(y1)\n",
    "print(y2)\n",
    "print(y3)"
   ]
  },
  {
   "cell_type": "markdown",
   "metadata": {
    "heading_collapsed": true,
    "hidden": true
   },
   "source": [
    "## Tuples (another container)"
   ]
  },
  {
   "cell_type": "markdown",
   "metadata": {
    "hidden": true
   },
   "source": [
    "A **tuple** is an **immutable list**."
   ]
  },
  {
   "cell_type": "code",
   "execution_count": 24,
   "metadata": {
    "ExecuteTime": {
     "end_time": "2018-10-30T18:39:32.375878Z",
     "start_time": "2018-10-30T18:39:32.365884Z"
    },
    "hidden": true
   },
   "outputs": [
    {
     "name": "stdout",
     "output_type": "stream",
     "text": [
      "1\n",
      "dit NOT succeed in setting a[0]=2\n",
      "(1, 2, 3)\n"
     ]
    }
   ],
   "source": [
    "a = (1,2,3)\n",
    "print(a[0])\n",
    "try: # try to run this block\n",
    "    a[0] = 2\n",
    "    print('did succeed in setting a[0]=2')\n",
    "except: # if any error found run this block instead\n",
    "    print('dit NOT succeed in setting a[0]=2')\n",
    "print(a)"
   ]
  },
  {
   "cell_type": "markdown",
   "metadata": {
    "heading_collapsed": true,
    "hidden": true
   },
   "source": [
    "## Dictionaries (a keyword container)"
   ]
  },
  {
   "cell_type": "markdown",
   "metadata": {
    "hidden": true
   },
   "source": [
    "A **dictionary** is a **keyword-based** (instead of index-based) container. All immutable objects can be used as keywords. Values are unrestricted. Dictionaries can be extended on the fly:"
   ]
  },
  {
   "cell_type": "code",
   "execution_count": 25,
   "metadata": {
    "ExecuteTime": {
     "end_time": "2018-10-30T18:39:32.387874Z",
     "start_time": "2018-10-30T18:39:32.377876Z"
    },
    "hidden": true
   },
   "outputs": [],
   "source": [
    "x = {} # create x as an empty dictionry\n",
    "x['abc'] = '1' # keywrod='abc', value = '1'\n",
    "x[('abc',1)] = 2 # keywrod=('abc',1), value = '1'"
   ]
  },
  {
   "cell_type": "code",
   "execution_count": 26,
   "metadata": {
    "ExecuteTime": {
     "end_time": "2018-10-30T18:39:32.405876Z",
     "start_time": "2018-10-30T18:39:32.388871Z"
    },
    "hidden": true
   },
   "outputs": [],
   "source": [
    "y = {'abc': '1'} # create y as an dictionary with key-value-pair ('abc','1')"
   ]
  },
  {
   "cell_type": "markdown",
   "metadata": {
    "hidden": true
   },
   "source": [
    "Elements of a dictionary are **extracted** using their keyword: "
   ]
  },
  {
   "cell_type": "code",
   "execution_count": 27,
   "metadata": {
    "ExecuteTime": {
     "end_time": "2018-10-30T18:39:32.419854Z",
     "start_time": "2018-10-30T18:39:32.406860Z"
    },
    "hidden": true
   },
   "outputs": [
    {
     "name": "stdout",
     "output_type": "stream",
     "text": [
      "1\n"
     ]
    }
   ],
   "source": [
    "print(x['abc'])"
   ]
  },
  {
   "cell_type": "markdown",
   "metadata": {
    "heading_collapsed": true
   },
   "source": [
    "# Classes (user-defined types)"
   ]
  },
  {
   "cell_type": "markdown",
   "metadata": {
    "hidden": true
   },
   "source": [
    "New types of objects can be defined using **classes**."
   ]
  },
  {
   "cell_type": "code",
   "execution_count": 28,
   "metadata": {
    "ExecuteTime": {
     "end_time": "2018-10-30T18:39:32.441859Z",
     "start_time": "2018-10-30T18:39:32.420852Z"
    },
    "hidden": true
   },
   "outputs": [
    {
     "name": "stdout",
     "output_type": "stream",
     "text": [
      "jeppe\n",
      "24.151672503320853\n"
     ]
    }
   ],
   "source": [
    "# a. define a new type of object called a consumer\n",
    "class consumer():\n",
    "    \n",
    "    def __init__(self,name,height,weight):\n",
    "        \n",
    "        self.name = name # an attribute\n",
    "        self.height = height # an attribute\n",
    "        self.weight = weight # an attribute\n",
    "    \n",
    "    def bmi(self): # a method\n",
    "        bmi = self.weight/(self.height/100)**2 # calculate bmi\n",
    "        return bmi # output bmi \n",
    "        \n",
    "# b. create an instance of the consumer object called \"jeppe\"        \n",
    "jeppe = consumer('jeppe',182,80) # height=182, weight=80\n",
    "\n",
    "# c. print an attribute\n",
    "print(jeppe.name)\n",
    "\n",
    "# d. print the result of calling a method\n",
    "print(jeppe.bmi())"
   ]
  },
  {
   "cell_type": "markdown",
   "metadata": {
    "hidden": true
   },
   "source": [
    "**Attributes** can be changed and extracted with **.-notation**"
   ]
  },
  {
   "cell_type": "code",
   "execution_count": 29,
   "metadata": {
    "ExecuteTime": {
     "end_time": "2018-10-30T18:39:32.460831Z",
     "start_time": "2018-10-30T18:39:32.442840Z"
    },
    "hidden": true
   },
   "outputs": [
    {
     "name": "stdout",
     "output_type": "stream",
     "text": [
      "160\n",
      "31.249999999999993\n"
     ]
    }
   ],
   "source": [
    "jeppe.height = 160\n",
    "print(jeppe.height)\n",
    "print(jeppe.bmi())"
   ]
  },
  {
   "cell_type": "markdown",
   "metadata": {
    "hidden": true
   },
   "source": [
    "Or with **setattr- and getatrr-notation**"
   ]
  },
  {
   "cell_type": "code",
   "execution_count": 30,
   "metadata": {
    "ExecuteTime": {
     "end_time": "2018-10-30T18:39:32.486829Z",
     "start_time": "2018-10-30T18:39:32.461831Z"
    },
    "hidden": true
   },
   "outputs": [
    {
     "name": "stdout",
     "output_type": "stream",
     "text": [
      "182\n",
      "24.151672503320853\n"
     ]
    }
   ],
   "source": [
    "setattr(jeppe,'height',182)\n",
    "height = getattr(jeppe,'height')\n",
    "print(height)\n",
    "print(jeppe.bmi())"
   ]
  },
  {
   "cell_type": "markdown",
   "metadata": {
    "hidden": true
   },
   "source": [
    "If the **appropriate methods** are defined, standard operators, e.g. +, and general functions such as print can be used."
   ]
  },
  {
   "cell_type": "code",
   "execution_count": 31,
   "metadata": {
    "ExecuteTime": {
     "end_time": "2018-10-30T18:39:32.507820Z",
     "start_time": "2018-10-30T18:39:32.487817Z"
    },
    "code_folding": [],
    "hidden": true
   },
   "outputs": [
    {
     "name": "stdout",
     "output_type": "stream",
     "text": [
      "<class '__main__.fraction'>\n",
      "1/3\n",
      "<class '__main__.fraction'>\n",
      "2/4\n",
      "\n",
      "8/12\n"
     ]
    }
   ],
   "source": [
    "# a. define a new type of object called a fraction\n",
    "class fraction:\n",
    "    \n",
    "    def __init__(self,nominator,denominator):\n",
    "        self.nom = nominator\n",
    "        self.denom = denominator\n",
    "    \n",
    "    def __str__(self): # called when using print\n",
    "        return f'{self.nom}/{self.denom}'\n",
    "    \n",
    "    def __add__(self,other): # called when using +\n",
    "        \n",
    "        new_nom = self.nom*other.denom + self.nom*other.denom\n",
    "        new_denom = self.denom*other.denom\n",
    "        return fraction(new_nom,new_denom)\n",
    "\n",
    "# b. create an instance of the fraction object  \n",
    "x = fraction(1,3)\n",
    "print(type(x))\n",
    "print(x)\n",
    "\n",
    "# c. create another instance of the fraction object\n",
    "y = fraction(2,4)\n",
    "print(type(y))\n",
    "print(y)\n",
    "\n",
    "# d. add them together\n",
    "print('')\n",
    "print(x+y)"
   ]
  },
  {
   "cell_type": "markdown",
   "metadata": {
    "heading_collapsed": true
   },
   "source": [
    "# Conditionals and loops"
   ]
  },
  {
   "cell_type": "markdown",
   "metadata": {
    "heading_collapsed": true,
    "hidden": true
   },
   "source": [
    "## Conditionals"
   ]
  },
  {
   "cell_type": "markdown",
   "metadata": {
    "hidden": true
   },
   "source": [
    "You typically want your program to do one thing if some condition is met, and another thing if another condition is met. In Python this is done with **conditional statments**:"
   ]
  },
  {
   "cell_type": "code",
   "execution_count": 32,
   "metadata": {
    "ExecuteTime": {
     "end_time": "2018-10-30T18:39:32.523796Z",
     "start_time": "2018-10-30T18:39:32.508804Z"
    },
    "hidden": true
   },
   "outputs": [
    {
     "name": "stdout",
     "output_type": "stream",
     "text": [
      "fourth possiblity\n"
     ]
    }
   ],
   "source": [
    "x = 2\n",
    "if x < 2: \n",
    "    # happens if x is smaller than 2\n",
    "    print('first possibility')\n",
    "elif x > 4:\n",
    "    # happens if x is not smaller than 2 and x is larger than 4\n",
    "    print('second possibility')\n",
    "elif x < 0:\n",
    "    # happens if x is not smaller than 2, x is not larger than 4\n",
    "    #  and x is smaller than 0\n",
    "    print('third posibility') # note: this can never happen\n",
    "else:\n",
    "    # happens if x is not smaller than 2, x is not larger than 4\n",
    "    #  and x is not smaller than 0\n",
    "    print('fourth possiblity')  "
   ]
  },
  {
   "cell_type": "markdown",
   "metadata": {
    "hidden": true
   },
   "source": [
    "Note that:\n",
    "\n",
    "1. \"elif\" is short for \"else if\" \n",
    "2. the **indentation** after if, elif and else is required "
   ]
  },
  {
   "cell_type": "markdown",
   "metadata": {
    "hidden": true
   },
   "source": [
    "An **equivalent formulation** of the above if-elif-else statement is:"
   ]
  },
  {
   "cell_type": "code",
   "execution_count": 33,
   "metadata": {
    "ExecuteTime": {
     "end_time": "2018-10-30T18:39:32.539787Z",
     "start_time": "2018-10-30T18:39:32.524795Z"
    },
    "hidden": true
   },
   "outputs": [
    {
     "name": "stdout",
     "output_type": "stream",
     "text": [
      "fourth possiblity\n"
     ]
    }
   ],
   "source": [
    "x = 2\n",
    "cond_1 = x < 2 # a boolean (true or false)\n",
    "cond_2 = x > 4 # a boolean (true or false)\n",
    "cond_3 = x < 0 # a boolean (true or false)\n",
    "if cond_1: \n",
    "    print('first possibility')\n",
    "elif cond_2:\n",
    "    print('second possibility')\n",
    "elif cond_3:\n",
    "    print('third posibility') # note: this can never happen\n",
    "else:\n",
    "    print('fourth possiblity')"
   ]
  },
  {
   "cell_type": "markdown",
   "metadata": {
    "heading_collapsed": true,
    "hidden": true
   },
   "source": [
    "## Simple loops"
   ]
  },
  {
   "cell_type": "markdown",
   "metadata": {
    "hidden": true
   },
   "source": [
    "It is time-consuming to write: "
   ]
  },
  {
   "cell_type": "code",
   "execution_count": 34,
   "metadata": {
    "ExecuteTime": {
     "end_time": "2018-10-30T18:39:32.552781Z",
     "start_time": "2018-10-30T18:39:32.540787Z"
    },
    "hidden": true
   },
   "outputs": [
    {
     "name": "stdout",
     "output_type": "stream",
     "text": [
      "[1, 4, 9, 16, 25]\n"
     ]
    }
   ],
   "source": [
    "x_list = [1,2,3,4,5]\n",
    "y_list = []\n",
    "y_list.append(x_list[0]**2)\n",
    "y_list.append(x_list[1]**2)\n",
    "y_list.append(x_list[2]**2)\n",
    "y_list.append(x_list[3]**2)\n",
    "y_list.append(x_list[4]**2)\n",
    "print(y_list)"
   ]
  },
  {
   "cell_type": "markdown",
   "metadata": {
    "hidden": true
   },
   "source": [
    "Use a **for loop** instead"
   ]
  },
  {
   "cell_type": "code",
   "execution_count": 35,
   "metadata": {
    "ExecuteTime": {
     "end_time": "2018-10-30T18:39:32.568774Z",
     "start_time": "2018-10-30T18:39:32.553780Z"
    },
    "hidden": true
   },
   "outputs": [
    {
     "name": "stdout",
     "output_type": "stream",
     "text": [
      "[1, 4, 9, 16, 25]\n"
     ]
    }
   ],
   "source": [
    "y_list = []\n",
    "for x in x_list:\n",
    "    y_list.append(x**2)\n",
    "print(y_list)"
   ]
  },
  {
   "cell_type": "markdown",
   "metadata": {
    "hidden": true
   },
   "source": [
    "Or a **while loop**:"
   ]
  },
  {
   "cell_type": "code",
   "execution_count": 36,
   "metadata": {
    "ExecuteTime": {
     "end_time": "2018-10-30T18:39:32.580764Z",
     "start_time": "2018-10-30T18:39:32.570771Z"
    },
    "hidden": true
   },
   "outputs": [],
   "source": [
    "y_list = []\n",
    "i = 0\n",
    "while i <= 3:\n",
    "    y_list.append(x_list[i]**2)\n",
    "    i += 1"
   ]
  },
  {
   "cell_type": "markdown",
   "metadata": {
    "ExecuteTime": {
     "end_time": "2018-10-28T18:58:54.579277Z",
     "start_time": "2018-10-28T18:58:54.575293Z"
    },
    "hidden": true
   },
   "source": [
    "For loops can also be **enumerated**"
   ]
  },
  {
   "cell_type": "code",
   "execution_count": 37,
   "metadata": {
    "ExecuteTime": {
     "end_time": "2018-10-30T18:39:32.595762Z",
     "start_time": "2018-10-30T18:39:32.582763Z"
    },
    "hidden": true
   },
   "outputs": [
    {
     "name": "stdout",
     "output_type": "stream",
     "text": [
      "[(0, 1), (1, 4), (2, 9), (3, 16), (4, 25)]\n"
     ]
    }
   ],
   "source": [
    "y_list = []\n",
    "for i,x in enumerate(x_list):\n",
    "    y_list.append((i,x**2))\n",
    "print(y_list)"
   ]
  },
  {
   "cell_type": "markdown",
   "metadata": {
    "hidden": true
   },
   "source": [
    "Loops can be fine-tuned with **continue** and **break**"
   ]
  },
  {
   "cell_type": "code",
   "execution_count": 38,
   "metadata": {
    "ExecuteTime": {
     "end_time": "2018-10-30T18:39:32.613746Z",
     "start_time": "2018-10-30T18:39:32.597755Z"
    },
    "hidden": true
   },
   "outputs": [
    {
     "name": "stdout",
     "output_type": "stream",
     "text": [
      "[(0, 1), (2, 9), (3, 16)]\n"
     ]
    }
   ],
   "source": [
    "y_list = []\n",
    "for i,x in enumerate(x_list):\n",
    "    if i == 1:\n",
    "        continue # go to next iteration \n",
    "    elif i == 4:\n",
    "        break # stop loop prematurely\n",
    "    y_list.append((i,x**2))\n",
    "print(y_list)"
   ]
  },
  {
   "cell_type": "markdown",
   "metadata": {
    "heading_collapsed": true,
    "hidden": true
   },
   "source": [
    "## Itertools"
   ]
  },
  {
   "cell_type": "code",
   "execution_count": 39,
   "metadata": {
    "ExecuteTime": {
     "end_time": "2018-10-30T18:39:32.631736Z",
     "start_time": "2018-10-30T18:39:32.614746Z"
    },
    "hidden": true
   },
   "outputs": [
    {
     "name": "stdout",
     "output_type": "stream",
     "text": [
      "('I', 'a')\n",
      "('II', 'b')\n",
      "('II', 'c')\n"
     ]
    }
   ],
   "source": [
    "import itertools as it\n",
    "\n",
    "x = ['I', 'II', 'II']\n",
    "y = ['a', 'b', 'c']\n",
    "\n",
    "for i,j in zip(x,y):\n",
    "    print((i,j))"
   ]
  },
  {
   "cell_type": "code",
   "execution_count": 40,
   "metadata": {
    "ExecuteTime": {
     "end_time": "2018-10-30T18:39:32.647738Z",
     "start_time": "2018-10-30T18:39:32.632736Z"
    },
    "hidden": true
   },
   "outputs": [
    {
     "name": "stdout",
     "output_type": "stream",
     "text": [
      "('I', 'a')\n",
      "('I', 'b')\n",
      "('I', 'c')\n",
      "('II', 'a')\n",
      "('II', 'b')\n",
      "('II', 'c')\n",
      "('II', 'a')\n",
      "('II', 'b')\n",
      "('II', 'c')\n"
     ]
    }
   ],
   "source": [
    "for i,j in it.product(x,y):\n",
    "    print((i,j))"
   ]
  },
  {
   "cell_type": "code",
   "execution_count": 41,
   "metadata": {
    "ExecuteTime": {
     "end_time": "2018-10-30T18:39:32.659722Z",
     "start_time": "2018-10-30T18:39:32.649727Z"
    },
    "hidden": true
   },
   "outputs": [
    {
     "name": "stdout",
     "output_type": "stream",
     "text": [
      "(0, 'I', 'a')\n",
      "(1, 'I', 'b')\n",
      "(2, 'I', 'c')\n",
      "(3, 'II', 'a')\n",
      "(4, 'II', 'b')\n",
      "(5, 'II', 'c')\n",
      "(6, 'II', 'a')\n",
      "(7, 'II', 'b')\n",
      "(8, 'II', 'c')\n"
     ]
    }
   ],
   "source": [
    "for k,(i,j) in enumerate(it.product(x,y)):\n",
    "    print((k,i,j))"
   ]
  },
  {
   "cell_type": "code",
   "execution_count": 42,
   "metadata": {
    "ExecuteTime": {
     "end_time": "2018-10-30T18:39:32.674713Z",
     "start_time": "2018-10-30T18:39:32.660720Z"
    },
    "hidden": true,
    "scrolled": true
   },
   "outputs": [
    {
     "name": "stdout",
     "output_type": "stream",
     "text": [
      "(0, 0, 0, 'I', 'a')\n",
      "(1, 0, 1, 'I', 'b')\n",
      "(2, 0, 2, 'I', 'c')\n",
      "(3, 1, 0, 'II', 'a')\n",
      "(4, 1, 1, 'II', 'b')\n",
      "(5, 1, 2, 'II', 'c')\n",
      "(6, 2, 0, 'II', 'a')\n",
      "(7, 2, 1, 'II', 'b')\n",
      "(8, 2, 2, 'II', 'c')\n"
     ]
    }
   ],
   "source": [
    "for k,((k1,i),(k2,j)) in enumerate(it.product(enumerate(x),enumerate(y))):\n",
    "    print((k,k1,k2,i,j))"
   ]
  },
  {
   "cell_type": "markdown",
   "metadata": {
    "heading_collapsed": true,
    "hidden": true
   },
   "source": [
    "## Dictionaries"
   ]
  },
  {
   "cell_type": "markdown",
   "metadata": {
    "hidden": true
   },
   "source": [
    "You can loop throug keys, values or key-value pairs of a dictionary."
   ]
  },
  {
   "cell_type": "code",
   "execution_count": 43,
   "metadata": {
    "ExecuteTime": {
     "end_time": "2018-10-30T18:39:32.692703Z",
     "start_time": "2018-10-30T18:39:32.675719Z"
    },
    "hidden": true
   },
   "outputs": [
    {
     "name": "stdout",
     "output_type": "stream",
     "text": [
      "a\n",
      "b\n",
      "c\n",
      "\n",
      "-\n",
      "--\n",
      "---\n",
      "\n",
      "('a', '-')\n",
      "('b', '--')\n",
      "('c', '---')\n"
     ]
    }
   ],
   "source": [
    "my_dict = {'a': '-', 'b': '--', 'c': '---'}\n",
    "for key in my_dict.keys():\n",
    "    print(key)\n",
    "print('')\n",
    "for val in my_dict.values():\n",
    "    print(val)\n",
    "print('')\n",
    "for key,val in my_dict.items():\n",
    "    print((key,val))"
   ]
  },
  {
   "cell_type": "markdown",
   "metadata": {
    "code_folding": [],
    "heading_collapsed": true,
    "hidden": true
   },
   "source": [
    "## List comprehensions"
   ]
  },
  {
   "cell_type": "markdown",
   "metadata": {
    "hidden": true
   },
   "source": [
    "You can get a list in a loop:"
   ]
  },
  {
   "cell_type": "code",
   "execution_count": 44,
   "metadata": {
    "ExecuteTime": {
     "end_time": "2018-10-30T18:39:32.704706Z",
     "start_time": "2018-10-30T18:39:32.693703Z"
    },
    "hidden": true
   },
   "outputs": [
    {
     "name": "stdout",
     "output_type": "stream",
     "text": [
      "[0, 1, 4, 9, 16, 25, 36, 49, 64, 81]\n"
     ]
    }
   ],
   "source": [
    "my_list = []\n",
    "for x in range(10):\n",
    "    my_list.append(x**2)\n",
    "print(my_list)"
   ]
  },
  {
   "cell_type": "markdown",
   "metadata": {
    "hidden": true
   },
   "source": [
    "or with a list comprehension:"
   ]
  },
  {
   "cell_type": "code",
   "execution_count": 45,
   "metadata": {
    "ExecuteTime": {
     "end_time": "2018-10-30T18:39:32.728683Z",
     "start_time": "2018-10-30T18:39:32.705696Z"
    },
    "hidden": true
   },
   "outputs": [
    {
     "name": "stdout",
     "output_type": "stream",
     "text": [
      "[0, 1, 4, 9, 16, 25, 36, 49, 64, 81]\n"
     ]
    }
   ],
   "source": [
    "my_list = [x**2 for x in range(10)]\n",
    "print(my_list)"
   ]
  },
  {
   "cell_type": "markdown",
   "metadata": {
    "heading_collapsed": true,
    "hidden": true
   },
   "source": [
    "## Iterator"
   ]
  },
  {
   "cell_type": "markdown",
   "metadata": {
    "hidden": true
   },
   "source": [
    "Consider the following loop, where my_list is said to be **iterable**."
   ]
  },
  {
   "cell_type": "code",
   "execution_count": 46,
   "metadata": {
    "ExecuteTime": {
     "end_time": "2018-10-30T18:39:32.740692Z",
     "start_time": "2018-10-30T18:39:32.729684Z"
    },
    "hidden": true,
    "scrolled": true
   },
   "outputs": [
    {
     "name": "stdout",
     "output_type": "stream",
     "text": [
      "0\n",
      "2\n",
      "4\n",
      "6\n",
      "8\n"
     ]
    }
   ],
   "source": [
    "my_list = [0,2,4,6,8]\n",
    "for i in my_list:\n",
    "    print(i)"
   ]
  },
  {
   "cell_type": "markdown",
   "metadata": {
    "hidden": true
   },
   "source": [
    "Consider the same loop generatored with a **iterator** "
   ]
  },
  {
   "cell_type": "code",
   "execution_count": 47,
   "metadata": {
    "ExecuteTime": {
     "end_time": "2018-10-30T18:39:32.755679Z",
     "start_time": "2018-10-30T18:39:32.742675Z"
    },
    "hidden": true,
    "scrolled": false
   },
   "outputs": [
    {
     "name": "stdout",
     "output_type": "stream",
     "text": [
      "0\n",
      "2\n",
      "4\n",
      "6\n",
      "8\n"
     ]
    }
   ],
   "source": [
    "for i in range(0,10,2):\n",
    "    print(i)"
   ]
  },
  {
   "cell_type": "markdown",
   "metadata": {
    "hidden": true
   },
   "source": [
    "which can also be written"
   ]
  },
  {
   "cell_type": "code",
   "execution_count": 48,
   "metadata": {
    "ExecuteTime": {
     "end_time": "2018-10-30T18:39:32.774660Z",
     "start_time": "2018-10-30T18:39:32.757668Z"
    },
    "hidden": true
   },
   "outputs": [
    {
     "name": "stdout",
     "output_type": "stream",
     "text": [
      "<range_iterator object at 0x000002681D86FCB0>\n",
      "0\n",
      "2\n",
      "4\n"
     ]
    }
   ],
   "source": [
    "x = iter(range(0,10,2))\n",
    "print(x)\n",
    "print(next(x))\n",
    "print(next(x))\n",
    "print(next(x))"
   ]
  },
  {
   "cell_type": "markdown",
   "metadata": {
    "hidden": true
   },
   "source": [
    "The main benefit here is that the, potentially long my_list, is never created"
   ]
  },
  {
   "cell_type": "markdown",
   "metadata": {
    "hidden": true
   },
   "source": [
    "We can also write **our own iterator class**:"
   ]
  },
  {
   "cell_type": "code",
   "execution_count": 49,
   "metadata": {
    "ExecuteTime": {
     "end_time": "2018-10-30T18:39:32.794646Z",
     "start_time": "2018-10-30T18:39:32.776658Z"
    },
    "hidden": true
   },
   "outputs": [
    {
     "name": "stdout",
     "output_type": "stream",
     "text": [
      "0\n",
      "2\n",
      "4\n",
      "\n",
      "0\n",
      "2\n",
      "4\n",
      "6\n",
      "8\n"
     ]
    }
   ],
   "source": [
    "class range_two_step:\n",
    "    \n",
    "    def __init__(self, N):\n",
    "        self.i = 0\n",
    "        self.N = N\n",
    "        \n",
    "    def __iter__(self):\n",
    "        return self\n",
    "    \n",
    "    def __next__(self):\n",
    "        \n",
    "        if self.i >= self.N:\n",
    "            raise StopIteration\n",
    "        \n",
    "        temp = self.i\n",
    "        self.i = self.i + 2\n",
    "        return temp \n",
    "\n",
    "# a. create an iterator from the class\n",
    "x = iter(range_two_step(10))\n",
    "print(next(x))\n",
    "print(next(x))\n",
    "print(next(x))\n",
    "print('')\n",
    "\n",
    "# b. use it in a loop\n",
    "for i in range_two_step(10):\n",
    "    print(i)"
   ]
  },
  {
   "cell_type": "markdown",
   "metadata": {
    "heading_collapsed": true
   },
   "source": [
    "# Functions"
   ]
  },
  {
   "cell_type": "markdown",
   "metadata": {
    "heading_collapsed": true,
    "hidden": true
   },
   "source": [
    "## Baseline"
   ]
  },
  {
   "cell_type": "markdown",
   "metadata": {
    "hidden": true
   },
   "source": [
    "One input, one output:"
   ]
  },
  {
   "cell_type": "code",
   "execution_count": 50,
   "metadata": {
    "ExecuteTime": {
     "end_time": "2018-10-30T18:39:32.807639Z",
     "start_time": "2018-10-30T18:39:32.795646Z"
    },
    "hidden": true
   },
   "outputs": [
    {
     "name": "stdout",
     "output_type": "stream",
     "text": [
      "4\n"
     ]
    }
   ],
   "source": [
    "def f(x):\n",
    "    return x**2\n",
    "\n",
    "print(f(2))"
   ]
  },
  {
   "cell_type": "markdown",
   "metadata": {
    "hidden": true
   },
   "source": [
    "Two input, one output:"
   ]
  },
  {
   "cell_type": "code",
   "execution_count": 51,
   "metadata": {
    "ExecuteTime": {
     "end_time": "2018-10-30T18:39:32.822631Z",
     "start_time": "2018-10-30T18:39:32.808649Z"
    },
    "hidden": true
   },
   "outputs": [
    {
     "name": "stdout",
     "output_type": "stream",
     "text": [
      "8\n"
     ]
    }
   ],
   "source": [
    "def f(x,y):\n",
    "    return x**2 + y**2\n",
    "\n",
    "print(f(2,2))"
   ]
  },
  {
   "cell_type": "markdown",
   "metadata": {
    "hidden": true
   },
   "source": [
    "Two input, two output:"
   ]
  },
  {
   "cell_type": "code",
   "execution_count": 52,
   "metadata": {
    "ExecuteTime": {
     "end_time": "2018-10-30T18:39:32.834626Z",
     "start_time": "2018-10-30T18:39:32.823631Z"
    },
    "hidden": true
   },
   "outputs": [
    {
     "name": "stdout",
     "output_type": "stream",
     "text": [
      "(4, 4)\n"
     ]
    }
   ],
   "source": [
    "def f(x,y):\n",
    "    z = x**2\n",
    "    q = y**2\n",
    "    return z,q\n",
    "\n",
    "print(f(2,2))"
   ]
  },
  {
   "cell_type": "markdown",
   "metadata": {
    "hidden": true
   },
   "source": [
    "Undefined number of inputs:"
   ]
  },
  {
   "cell_type": "code",
   "execution_count": 53,
   "metadata": {
    "ExecuteTime": {
     "end_time": "2018-10-30T18:39:32.849616Z",
     "start_time": "2018-10-30T18:39:32.835625Z"
    },
    "hidden": true
   },
   "outputs": [
    {
     "name": "stdout",
     "output_type": "stream",
     "text": [
      "8\n",
      "16\n"
     ]
    }
   ],
   "source": [
    "def f(*args):\n",
    "    out = 0\n",
    "    for x in args:\n",
    "        out += x**2\n",
    "    return out\n",
    "print(f(2,2))\n",
    "print(f(2,2,2,2))"
   ]
  },
  {
   "cell_type": "markdown",
   "metadata": {
    "hidden": true
   },
   "source": [
    "Keyword inputs:"
   ]
  },
  {
   "cell_type": "code",
   "execution_count": 54,
   "metadata": {
    "ExecuteTime": {
     "end_time": "2018-10-30T18:39:32.864620Z",
     "start_time": "2018-10-30T18:39:32.851616Z"
    },
    "hidden": true
   },
   "outputs": [
    {
     "name": "stdout",
     "output_type": "stream",
     "text": [
      "8\n",
      "16\n"
     ]
    }
   ],
   "source": [
    "def f(*args,a=2):\n",
    "    out = 0\n",
    "    for x in args:\n",
    "        out += x**a\n",
    "    return out\n",
    "print(f(2,2))\n",
    "print(f(2,2,a=3))"
   ]
  },
  {
   "cell_type": "markdown",
   "metadata": {
    "hidden": true
   },
   "source": [
    "Undefined keyword inputs:"
   ]
  },
  {
   "cell_type": "code",
   "execution_count": 55,
   "metadata": {
    "ExecuteTime": {
     "end_time": "2018-10-30T18:39:32.877617Z",
     "start_time": "2018-10-30T18:39:32.865608Z"
    },
    "hidden": true
   },
   "outputs": [
    {
     "name": "stdout",
     "output_type": "stream",
     "text": [
      "('a', 'abc')\n",
      "('b', '2')\n",
      "('c', [1, 2, 3])\n"
     ]
    }
   ],
   "source": [
    "def g(**kwargs):\n",
    "    for key, value in kwargs.items():\n",
    "        print((key,value))\n",
    "\n",
    "g(a='abc',b='2',c=[1,2,3])"
   ]
  },
  {
   "cell_type": "markdown",
   "metadata": {
    "heading_collapsed": true,
    "hidden": true
   },
   "source": [
    "## A function is an object"
   ]
  },
  {
   "cell_type": "code",
   "execution_count": 56,
   "metadata": {
    "ExecuteTime": {
     "end_time": "2018-10-30T18:39:32.895607Z",
     "start_time": "2018-10-30T18:39:32.878601Z"
    },
    "hidden": true
   },
   "outputs": [
    {
     "name": "stdout",
     "output_type": "stream",
     "text": [
      "4\n",
      "4\n",
      "4\n"
     ]
    }
   ],
   "source": [
    "# a. standard formulation\n",
    "def f(x):\n",
    "    return x**2\n",
    "\n",
    "# b. lambda formulation\n",
    "g = lambda x: x**2\n",
    "\n",
    "# c. new reference to same function\n",
    "h = f\n",
    "\n",
    "print(f(2))\n",
    "print(g(2))\n",
    "del f\n",
    "print(h(2))"
   ]
  },
  {
   "cell_type": "markdown",
   "metadata": {
    "heading_collapsed": true,
    "hidden": true
   },
   "source": [
    "## Scope"
   ]
  },
  {
   "cell_type": "code",
   "execution_count": 57,
   "metadata": {
    "ExecuteTime": {
     "end_time": "2018-10-30T18:39:32.911582Z",
     "start_time": "2018-10-30T18:39:32.896601Z"
    },
    "hidden": true
   },
   "outputs": [
    {
     "name": "stdout",
     "output_type": "stream",
     "text": [
      "(4, 4, 16, 4)\n",
      "(8, 4, 16, 8)\n"
     ]
    }
   ],
   "source": [
    "a = 2\n",
    "def f(x):\n",
    "    return x**a # a is implicitely global\n",
    "\n",
    "def g(x,a=a):\n",
    "    return x**a # a default value is fixed when the function is defined\n",
    "\n",
    "def h(x):\n",
    "    a = 4 # a is local\n",
    "    return x**a\n",
    "\n",
    "def w(x):\n",
    "    global a # a is explicitely global\n",
    "    return x**a\n",
    "\n",
    "print((f(2),g(2),h(2),w(2)))\n",
    "a += 1\n",
    "print((f(2),g(2),h(2),w(2)))"
   ]
  },
  {
   "cell_type": "markdown",
   "metadata": {
    "heading_collapsed": true,
    "hidden": true
   },
   "source": [
    "## Recursion"
   ]
  },
  {
   "cell_type": "code",
   "execution_count": 58,
   "metadata": {
    "ExecuteTime": {
     "end_time": "2018-10-30T18:39:32.930573Z",
     "start_time": "2018-10-30T18:39:32.912583Z"
    },
    "hidden": true,
    "scrolled": true
   },
   "outputs": [
    {
     "name": "stdout",
     "output_type": "stream",
     "text": [
      "0\n",
      "1\n",
      "1\n",
      "2\n",
      "3\n",
      "5\n",
      "8\n",
      "13\n",
      "21\n",
      "34\n"
     ]
    }
   ],
   "source": [
    "def fib(n):\n",
    "    if n == 0:\n",
    "        return 0\n",
    "    elif n == 1:\n",
    "        return 1\n",
    "    else:\n",
    "        return fib(n-1) + fib(n-2)\n",
    "    \n",
    "for i in range(10):\n",
    "    print(fib(i))"
   ]
  },
  {
   "cell_type": "markdown",
   "metadata": {},
   "source": [
    "# Floating point numbers"
   ]
  },
  {
   "cell_type": "markdown",
   "metadata": {},
   "source": [
    "There are uncountable many real numbers. On a computer the real line is approximated with numbers on the form:\n",
    "\n",
    "$$ \\text{number} = \\text{significant} \\times \\text{base}^{exponent} $$\n",
    "\n",
    "* **sign**: 1 bit, positive or negative (positive or negative)\n",
    "* **exponent**: 11 bits\n",
    "* **signifcant**: 52 bits"
   ]
  },
  {
   "cell_type": "markdown",
   "metadata": {},
   "source": [
    "All numbers is therefore not represented, but a *close* neighboring point is used."
   ]
  },
  {
   "cell_type": "code",
   "execution_count": 59,
   "metadata": {
    "ExecuteTime": {
     "end_time": "2018-10-30T18:39:32.946576Z",
     "start_time": "2018-10-30T18:39:32.932571Z"
    }
   },
   "outputs": [
    {
     "name": "stdout",
     "output_type": "stream",
     "text": [
      "0.1000000000000000055511151231257827021181583404541015625000000000000000000000000000000000000000000000\n",
      "17.1000000000000014210854715202003717422485351562500000000000000000000000000000000000000000000000000000\n"
     ]
    }
   ],
   "source": [
    "x = 0.1\n",
    "print(f'{x:.100f}') # printing x with 100 decimals\n",
    "x = 17.1\n",
    "print(f'{x:.100f}') # printing x with 100 decimals"
   ]
  },
  {
   "cell_type": "markdown",
   "metadata": {},
   "source": [
    "Simple sums might consequently, not be exactly what you expect."
   ]
  },
  {
   "cell_type": "code",
   "execution_count": 60,
   "metadata": {
    "ExecuteTime": {
     "end_time": "2018-10-30T18:39:32.958559Z",
     "start_time": "2018-10-30T18:39:32.947600Z"
    }
   },
   "outputs": [
    {
     "name": "stdout",
     "output_type": "stream",
     "text": [
      "0.9999999999999999\n"
     ]
    }
   ],
   "source": [
    "print(0.1 + 0.1 + 0.1 + 0.1 + 0.1 + 0.1 + 0.1 + 0.1 + 0.1 + 0.1)"
   ]
  },
  {
   "cell_type": "code",
   "execution_count": 61,
   "metadata": {
    "ExecuteTime": {
     "end_time": "2018-10-30T18:39:32.970551Z",
     "start_time": "2018-10-30T18:39:32.959556Z"
    }
   },
   "outputs": [
    {
     "name": "stdout",
     "output_type": "stream",
     "text": [
      "0.30000000000000004\n"
     ]
    }
   ],
   "source": [
    "print(0.1 + 0.2)"
   ]
  },
  {
   "cell_type": "code",
   "execution_count": 62,
   "metadata": {
    "ExecuteTime": {
     "end_time": "2018-10-30T18:39:32.994547Z",
     "start_time": "2018-10-30T18:39:32.971550Z"
    }
   },
   "outputs": [
    {
     "data": {
      "text/plain": [
       "0.029999999999999805"
      ]
     },
     "execution_count": 62,
     "metadata": {},
     "output_type": "execute_result"
    }
   ],
   "source": [
    "1.13 - 1.1"
   ]
  },
  {
   "cell_type": "code",
   "execution_count": 63,
   "metadata": {
    "ExecuteTime": {
     "end_time": "2018-10-30T18:39:33.008531Z",
     "start_time": "2018-10-30T18:39:32.995542Z"
    }
   },
   "outputs": [
    {
     "name": "stdout",
     "output_type": "stream",
     "text": [
      "1.0000000000001\n",
      "1.00000000000001\n",
      "1.000000000000001\n",
      "1.0\n"
     ]
    }
   ],
   "source": [
    "a = 1\n",
    "print(a+1e-13)\n",
    "print(a+1e-14)\n",
    "print(a+1e-15)\n",
    "print(a+1e-16)"
   ]
  },
  {
   "cell_type": "markdown",
   "metadata": {},
   "source": [
    "**Comparisions of floating point numbers** is therefore always problematic"
   ]
  },
  {
   "cell_type": "code",
   "execution_count": 64,
   "metadata": {
    "ExecuteTime": {
     "end_time": "2018-10-30T18:39:33.022523Z",
     "start_time": "2018-10-30T18:39:33.009530Z"
    }
   },
   "outputs": [
    {
     "data": {
      "text/plain": [
       "False"
      ]
     },
     "execution_count": 64,
     "metadata": {},
     "output_type": "execute_result"
    }
   ],
   "source": [
    "(0.001*1000) / (11.11*1000) == 0.001 / 11.11"
   ]
  },
  {
   "cell_type": "markdown",
   "metadata": {},
   "source": [
    "Multiplying many small numbers can result in an exact zero (**underflow**)"
   ]
  },
  {
   "cell_type": "code",
   "execution_count": 65,
   "metadata": {
    "ExecuteTime": {
     "end_time": "2018-10-30T18:39:33.034515Z",
     "start_time": "2018-10-30T18:39:33.023522Z"
    },
    "scrolled": true
   },
   "outputs": [
    {
     "name": "stdout",
     "output_type": "stream",
     "text": [
      "1e-60\n",
      "1e-120\n",
      "1e-180\n",
      "1e-240\n",
      "9.999999999999999e-301\n",
      "0.0\n"
     ]
    }
   ],
   "source": [
    "x = 1e-60\n",
    "y = x\n",
    "print(y)\n",
    "y *= x\n",
    "print(y)\n",
    "y *= x\n",
    "print(y)\n",
    "y *= x\n",
    "print(y)\n",
    "y *= x\n",
    "print(y)\n",
    "y *= x\n",
    "print(y)\n",
    "y *= x"
   ]
  },
  {
   "cell_type": "markdown",
   "metadata": {},
   "source": [
    "If products or sums become too big, they can no longer be represented, and the final result may be wrong or not possible to calculate"
   ]
  },
  {
   "cell_type": "code",
   "execution_count": 66,
   "metadata": {
    "ExecuteTime": {
     "end_time": "2018-10-30T18:39:33.052507Z",
     "start_time": "2018-10-30T18:39:33.035515Z"
    }
   },
   "outputs": [
    {
     "name": "stdout",
     "output_type": "stream",
     "text": [
      "  1,2.700000000000000177635683940025\n",
      " 10,2.700000000000000621724893790088\n",
      " 20,2.700000000000001065814103640150\n",
      " 40,2.700000000000001953992523340276\n",
      " 80,2.700000000000001509903313490213\n",
      "120,nan\n",
      "160,nan\n",
      "200,nan\n"
     ]
    }
   ],
   "source": [
    "x = 1.0\n",
    "y = 2.7\n",
    "for j in [1,10,20,40,80,120,160,200]:\n",
    "    i = 1.0\n",
    "    while i < j:\n",
    "        x *= i\n",
    "        y *= i\n",
    "        i += 1\n",
    "    print(f'{j:3d},{y/x:.30f}') # should by 2.0"
   ]
  },
  {
   "cell_type": "markdown",
   "metadata": {},
   "source": [
    "# Numpy"
   ]
  },
  {
   "cell_type": "code",
   "execution_count": 68,
   "metadata": {
    "ExecuteTime": {
     "end_time": "2018-10-30T18:39:47.253335Z",
     "start_time": "2018-10-30T18:39:47.176338Z"
    }
   },
   "outputs": [],
   "source": [
    "import numpy as np # import the numpy module"
   ]
  },
  {
   "cell_type": "markdown",
   "metadata": {},
   "source": [
    "A **numpy array** is a **list with homogenous elements**."
   ]
  },
  {
   "cell_type": "markdown",
   "metadata": {},
   "source": [
    "Arrays have one or **multiple dimensions**:"
   ]
  },
  {
   "cell_type": "code",
   "execution_count": 85,
   "metadata": {
    "ExecuteTime": {
     "end_time": "2018-10-30T19:01:05.279798Z",
     "start_time": "2018-10-30T19:01:05.275814Z"
    }
   },
   "outputs": [
    {
     "name": "stdout",
     "output_type": "stream",
     "text": [
      "(10, 9)\n",
      "(1, 2)\n",
      "((10,), (3, 3))\n"
     ]
    }
   ],
   "source": [
    "A = np.array([0, 1, 2, 3, 4, 5, 6, 7, 8, 9]) # on dimension\n",
    "B = np.array([ [3.4, 8.7, 9.9], \n",
    "               [1.1, -7.8, -0.7],\n",
    "               [4.1, 12.3, 4.8]]) # two dimensions\n",
    "\n",
    "print((A.size,B.size))\n",
    "print((A.ndim,B.ndim))\n",
    "print((A.shape,B.shape))"
   ]
  },
  {
   "cell_type": "markdown",
   "metadata": {},
   "source": [
    "Memory is structured in **rows**."
   ]
  },
  {
   "cell_type": "code",
   "execution_count": 88,
   "metadata": {
    "ExecuteTime": {
     "end_time": "2018-10-30T19:02:43.985422Z",
     "start_time": "2018-10-30T19:02:43.981425Z"
    }
   },
   "outputs": [
    {
     "name": "stdout",
     "output_type": "stream",
     "text": [
      "row-by-row\n",
      "[3.4 8.7 9.9]\n",
      "(3.4, 3.4)\n",
      "(8.7, 8.7)\n",
      "(9.9, 9.9)\n",
      "\n",
      "[ 1.1 -7.8 -0.7]\n",
      "(1.1, 1.1)\n",
      "(-7.8, -7.8)\n",
      "(-0.7, -0.7)\n",
      "\n",
      "[ 4.1 12.3  4.8]\n",
      "(4.1, 4.1)\n",
      "(12.3, 12.3)\n",
      "(4.8, 4.8)\n",
      "\n",
      "element-by-element\n",
      "3.4\n",
      "8.7\n",
      "9.9\n",
      "1.1\n",
      "-7.8\n",
      "-0.7\n",
      "4.1\n",
      "12.3\n",
      "4.8\n"
     ]
    }
   ],
   "source": [
    "# a. printing row-by-row\n",
    "print('row-by-row')\n",
    "for i in range(B.shape[0]):\n",
    "    print(B[i,:])\n",
    "    for j in range(B.shape[1]):\n",
    "        print((B[i,j],B[i][j]))\n",
    "    print('')\n",
    "\n",
    "# b. printin element-by-element\n",
    "print('element-by-element')\n",
    "for i in range(B.size):\n",
    "    print(B.ravel()[i])"
   ]
  },
  {
   "cell_type": "markdown",
   "metadata": {},
   "source": [
    "When slicing a numpy array, a **view** is returned."
   ]
  },
  {
   "cell_type": "code",
   "execution_count": 79,
   "metadata": {
    "ExecuteTime": {
     "end_time": "2018-10-30T18:48:50.111179Z",
     "start_time": "2018-10-30T18:48:50.108175Z"
    },
    "scrolled": true
   },
   "outputs": [
    {
     "name": "stdout",
     "output_type": "stream",
     "text": [
      "[0 1 0 0 4 5 6 7 8 9]\n",
      "[0 1 2 3 4 5 6 7 8 9]\n"
     ]
    }
   ],
   "source": [
    "A = np.array([0, 1, 2, 3, 4, 5, 6, 7, 8, 9])\n",
    "B = A.copy() # a copy of A\n",
    "C = A[2:6] # a view into A\n",
    "C[0] = 0\n",
    "C[1] = 0\n",
    "print(A) # changed\n",
    "print(B) # not changed"
   ]
  },
  {
   "cell_type": "markdown",
   "metadata": {},
   "source": [
    "New arrays can be **created directly**, and be forced to be of integers."
   ]
  },
  {
   "cell_type": "code",
   "execution_count": 80,
   "metadata": {
    "ExecuteTime": {
     "end_time": "2018-10-30T18:49:59.199610Z",
     "start_time": "2018-10-30T18:49:59.197610Z"
    }
   },
   "outputs": [],
   "source": [
    "A = np.empty((3,5)) # floats\n",
    "B = np.empty((3,5),dtype=np.int32) # inters (32-bit)"
   ]
  },
  {
   "cell_type": "markdown",
   "metadata": {},
   "source": [
    "Standard **mathematical operations** can be applied."
   ]
  },
  {
   "cell_type": "code",
   "execution_count": 89,
   "metadata": {
    "ExecuteTime": {
     "end_time": "2018-10-30T19:04:57.694007Z",
     "start_time": "2018-10-30T19:04:57.690012Z"
    },
    "scrolled": false
   },
   "outputs": [
    {
     "name": "stdout",
     "output_type": "stream",
     "text": [
      "[[3 2]\n",
      " [2 3]]\n",
      "[[-1 -2]\n",
      " [-2 -1]]\n",
      "[[2 0]\n",
      " [0 2]]\n",
      "[[0.5 0. ]\n",
      " [0.  0.5]]\n",
      "[[2 2]\n",
      " [2 2]]\n"
     ]
    }
   ],
   "source": [
    "A = np.array([[1,0],[0,1]])\n",
    "B = np.array([[2,2],[2,2]])\n",
    "print(A+B)\n",
    "print(A-B)\n",
    "print(A*B)\n",
    "print(A/B)\n",
    "print(A@B) # matrix product"
   ]
  },
  {
   "cell_type": "markdown",
   "metadata": {},
   "source": [
    "If arrays does not fit **broadcasting** is applied."
   ]
  },
  {
   "cell_type": "code",
   "execution_count": 83,
   "metadata": {
    "ExecuteTime": {
     "end_time": "2018-10-30T18:51:49.453050Z",
     "start_time": "2018-10-30T18:51:49.448056Z"
    }
   },
   "outputs": [
    {
     "name": "stdout",
     "output_type": "stream",
     "text": [
      "Multiplication with broadcasting: \n",
      "[[11 24 39]\n",
      " [21 44 69]\n",
      " [31 64 99]]\n",
      "... and now addition with broadcasting: \n",
      "[[12 14 16]\n",
      " [22 24 26]\n",
      " [32 34 36]]\n"
     ]
    }
   ],
   "source": [
    "A = np.array([ [11, 12, 13], [21, 22, 23], [31, 32, 33] ])\n",
    "B = np.array([1, 2, 3])\n",
    "print('multiplication with broadcasting:')\n",
    "print(A * B)\n",
    "print('addition with broadcasting:')\n",
    "print(A + B)"
   ]
  },
  {
   "cell_type": "markdown",
   "metadata": {},
   "source": [
    "Indexes can be **logical**"
   ]
  },
  {
   "cell_type": "code",
   "execution_count": 96,
   "metadata": {
    "ExecuteTime": {
     "end_time": "2018-10-30T19:08:33.032595Z",
     "start_time": "2018-10-30T19:08:33.028597Z"
    }
   },
   "outputs": [
    {
     "name": "stdout",
     "output_type": "stream",
     "text": [
      "[1 2]\n",
      "[]\n"
     ]
    }
   ],
   "source": [
    "A = np.array([1,2,3,4])\n",
    "B = np.array([3,3,3,3])\n",
    "I = (A < 3) & (B == 3)\n",
    "J = (A < 3) & (B == 4)\n",
    "print(A[I])\n",
    "print(A[J])"
   ]
  },
  {
   "cell_type": "markdown",
   "metadata": {},
   "source": [
    "**Methods** to know:\n",
    "\n",
    "- size / ndim / shape\n",
    "- ravel / reshape\n",
    "- copy\n",
    "\n",
    "**Functions** to know:\n",
    "\n",
    "- linspace\n",
    "- array / empty / zeros / ones\n",
    "- mean / median / std / var / sum\n",
    "- min/max, amin/amax / fmin/fmax / sort\n",
    "- meshgrid / hstack / vstack / concatenate / tile\n",
    "\n",
    "**Concepts** to know:\n",
    "\n",
    "- view vs. copy\n",
    "- broadcasting\n",
    "- logical indexing"
   ]
  },
  {
   "cell_type": "markdown",
   "metadata": {},
   "source": [
    "# Export to HTML"
   ]
  },
  {
   "cell_type": "code",
   "execution_count": null,
   "metadata": {
    "ExecuteTime": {
     "end_time": "2018-10-30T18:39:33.113481Z",
     "start_time": "2018-10-30T18:39:32.342Z"
    }
   },
   "outputs": [],
   "source": [
    "import os\n",
    "os.system('jupyter nbconvert --to html \"Optimize_Print_and_Plot.ipynb\"')"
   ]
  }
 ],
 "metadata": {
  "kernelspec": {
   "display_name": "Python 3",
   "language": "python",
   "name": "python3"
  },
  "language_info": {
   "codemirror_mode": {
    "name": "ipython",
    "version": 3
   },
   "file_extension": ".py",
   "mimetype": "text/x-python",
   "name": "python",
   "nbconvert_exporter": "python",
   "pygments_lexer": "ipython3",
   "version": "3.6.5"
  },
  "toc": {
   "base_numbering": 1,
   "nav_menu": {},
   "number_sections": true,
   "sideBar": true,
   "skip_h1_title": false,
   "title_cell": "Table of Contents",
   "title_sidebar": "Contents",
   "toc_cell": true,
   "toc_position": {},
   "toc_section_display": true,
   "toc_window_display": false
  }
 },
 "nbformat": 4,
 "nbformat_minor": 2
}
