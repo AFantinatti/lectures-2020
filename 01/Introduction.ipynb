{
 "cells": [
  {
   "cell_type": "markdown",
   "metadata": {},
   "source": [
    "# The Jupyter notebook"
   ]
  },
  {
   "cell_type": "markdown",
   "metadata": {},
   "source": [
    "**Summary:** The Jupyter notebook is a document with text, code and code results. "
   ]
  },
  {
   "cell_type": "markdown",
   "metadata": {},
   "source": [
    "This is a text cell, or more precisely a *markdown* cell.\n",
    "\n",
    "We can make lists:\n",
    "\n",
    "1. **First** item\n",
    "2. _Second_ item\n",
    "3. ~~Third~~ item\n",
    "\n",
    "We can also do LaTeX math, e.g. $\\alpha^2$ (or \\\\(\\alpha^2\\\\)), or\n",
    "\n",
    "$$ X = \\int_0^{\\infty} \\frac{x}{x+1} dx $$\n",
    "\\\\[ X = \\int_0^{\\infty} \\frac{x}{x+1} dx \\\\]"
   ]
  },
  {
   "cell_type": "code",
   "execution_count": null,
   "metadata": {},
   "outputs": [],
   "source": [
    "# this is a comment in a code cell\n",
    "\n",
    "# let us do some calculations\n",
    "a = 2\n",
    "b = 3\n",
    "c = a+b\n",
    "\n",
    "# lets print the results (shown below the cell)\n",
    "print(c)"
   ]
  },
  {
   "cell_type": "markdown",
   "metadata": {},
   "source": [
    "We can now write some more text, and continue with our calculations."
   ]
  },
  {
   "cell_type": "code",
   "execution_count": null,
   "metadata": {},
   "outputs": [],
   "source": [
    "d = c*2\n",
    "print(d)"
   ]
  },
  {
   "cell_type": "markdown",
   "metadata": {},
   "source": [
    "**Note:** Despite JupyterLab is running in a browser, it is running offline (the path is something like *localhos:8889/lab*).<br>\n",
    "(The exception is if you use *binder*, then JupyterLab wil run in the cloud, and the path will begin with *hub.mybinder.org*)."
   ]
  },
  {
   "cell_type": "markdown",
   "metadata": {},
   "source": [
    "# Solve the consumer problem"
   ]
  },
  {
   "cell_type": "markdown",
   "metadata": {},
   "source": [
    "Consider the following consumer problem:"
   ]
  },
  {
   "cell_type": "markdown",
   "metadata": {},
   "source": [
    "\\\\[\n",
    "\\begin{eqnarray*}\n",
    "V(p_{1},p_{2},I) & = & \\max_{x_{1},x_{2}} x_{1}^{\\alpha}x_{2}^{1-\\alpha}\\\\\n",
    " & \\text{s.t.}\\\\\n",
    "p_{1}x_{1}+p_{2}x_{2} & \\leq & I,\\,\\,\\,p_{1},p_{2},I>0\\\\\n",
    "x_{1},x_{2} & \\geq & 0\n",
    "\\end{eqnarray*}\n",
    "\\\\]"
   ]
  },
  {
   "cell_type": "markdown",
   "metadata": {},
   "source": [
    "We can solve this problem _numerically_ in a few lines of code."
   ]
  },
  {
   "cell_type": "markdown",
   "metadata": {},
   "source": [
    "Choose some parameters:"
   ]
  },
  {
   "cell_type": "code",
   "execution_count": null,
   "metadata": {},
   "outputs": [],
   "source": [
    "alpha = 0.25\n",
    "I = 10\n",
    "p1 = 1\n",
    "p2 = 2"
   ]
  },
  {
   "cell_type": "markdown",
   "metadata": {},
   "source": [
    "The consumer objective is:"
   ]
  },
  {
   "cell_type": "code",
   "execution_count": null,
   "metadata": {},
   "outputs": [],
   "source": [
    "def value_of_choice(x1,alpha,I,p1,p2):\n",
    "    \n",
    "    # a. all income not spent on the first good\n",
    "    #    is spent on the second\n",
    "    x2 = (I-p1*x1)/p2 \n",
    "    \n",
    "    # b. the resulting utility is\n",
    "    utility = x1**alpha * x2**(1-alpha)\n",
    "    \n",
    "    return utility"
   ]
  },
  {
   "cell_type": "markdown",
   "metadata": {},
   "source": [
    "We can now use a function from the *scipy* module to solve the consumer problem."
   ]
  },
  {
   "cell_type": "code",
   "execution_count": null,
   "metadata": {},
   "outputs": [],
   "source": [
    "# a. load external module from scipy\n",
    "from scipy import optimize\n",
    "\n",
    "# b. call minimizer\n",
    "solution = optimize.minimize_scalar(\n",
    "    lambda x1: -value_of_choice(x1,alpha,I,p1,p2),\n",
    "    bounds=(0,I/p1))\n",
    "\n",
    "# c. print result\n",
    "x1 = solution.x\n",
    "x2 = (I-x1*p1)/p2\n",
    "print(x1,x2)"
   ]
  },
  {
   "cell_type": "markdown",
   "metadata": {},
   "source": [
    "**Task**: Solve the consumer problem with the CES utility funciton.\n",
    "\n",
    "$$u(x_1,x_2) = (\\alpha x_1^{-\\beta} + (1-\\alpha) x_2^{-\\beta})^{-1/\\beta} $$"
   ]
  },
  {
   "cell_type": "code",
   "execution_count": null,
   "metadata": {},
   "outputs": [],
   "source": [
    "# update this code\n",
    "\n",
    "alpha = 0.5\n",
    "beta = 0.000001\n",
    "I = 10\n",
    "p1 = 1\n",
    "p2 = 2\n",
    "\n",
    "def value_of_choice_ces(x1,alpha,beta,I,p1,p2):\n",
    "    x2 = (I-p1*x1)/p2\n",
    "    if x1 > 0 and x2 > 0:\n",
    "        utility = (alpha*x1**(-beta)+(1-alpha)*x2**(-beta))**(-1/beta) \n",
    "    else:\n",
    "        utility = 0\n",
    "    return utility\n",
    "\n",
    "solution = optimize.minimize_scalar(\n",
    "    lambda x1: -value_of_choice_ces(x1,alpha,beta,I,p1,p2),\n",
    "    bounds=(0,I/p1))\n",
    "\n",
    "x1 = solution.x\n",
    "x2 = (I-x1*p1)/p2\n",
    "print(x1,x2)"
   ]
  },
  {
   "cell_type": "markdown",
   "metadata": {},
   "source": [
    "# Simulate the AS-AD model"
   ]
  },
  {
   "cell_type": "markdown",
   "metadata": {},
   "source": [
    "Consider the following AS-AD model:\n",
    "\n",
    "\\\\[ \n",
    "\\begin{eqnarray*}\n",
    "\\hat{y}_{t} &=& b\\hat{y}_{t-1}+\\beta(z_{t}-z_{t-1})-a\\beta s_{t}+a\\beta\\phi s_{t-1} \\\\\n",
    "\\hat{\\pi}_{t} &=& b\\hat{\\pi}_{t-1}+\\beta\\gamma z_{t}-\\beta\\phi\\gamma z_{t}+\\beta s_{t}-\\beta\\phi s_{t-1} \\\\\n",
    "z_{t} &=& \\delta z_{t-1}+x_{t}, x_{t} \\sim N(0,\\sigma_x^2) \\\\\n",
    "s_{t} &=& \\omega s_{t-1}+c_{t}, c_{t} \\sim N(0,\\sigma_c^2) \\\\\n",
    "b &=& \\frac{1+a\\phi\\gamma}{1+a\\gamma} \\\\\n",
    "\\beta &=& \\frac{1}{1+a\\gamma}\n",
    "\\end{eqnarray*}\n",
    "\\\\]\n",
    "\n",
    "where \\\\( \\hat{y}_{t} \\\\) is the output gap, \\\\( \\hat{\\pi}_{t} \\\\) is the inflation gap, \\\\( z_{t} \\\\) is a AR(1) demand shock, and \\\\( \\hat{s}_{t} \\\\) is a AR(1) supply shock."
   ]
  },
  {
   "cell_type": "markdown",
   "metadata": {},
   "source": [
    "Choose parameters:"
   ]
  },
  {
   "cell_type": "code",
   "execution_count": null,
   "metadata": {},
   "outputs": [],
   "source": [
    "a = 0.4\n",
    "gamma = 0.1\n",
    "phi = 0.9\n",
    "delta = 0.8\n",
    "omega = 0.15\n",
    "sigma_x = 1\n",
    "sigma_c = 0.2\n",
    "T = 100"
   ]
  },
  {
   "cell_type": "markdown",
   "metadata": {},
   "source": [
    "Calculate combined parameters:"
   ]
  },
  {
   "cell_type": "code",
   "execution_count": null,
   "metadata": {},
   "outputs": [],
   "source": [
    "b = (1+a*phi*gamma)/(1+a*gamma)\n",
    "beta = 1/(1+a*gamma) "
   ]
  },
  {
   "cell_type": "markdown",
   "metadata": {},
   "source": [
    "Define model functions:"
   ]
  },
  {
   "cell_type": "code",
   "execution_count": null,
   "metadata": {},
   "outputs": [],
   "source": [
    "y_hat_func = lambda y_hat_lag,z,z_lag,s,s_lag: b*y_hat_lag + beta*(z-z_lag) - a*beta*s + a*beta*phi*s_lag\n",
    "pi_hat_func = lambda pi_lag,z,z_lag,s,s_lag: b*pi_lag + beta*gamma*z - beta*phi*gamma*z_lag + beta*s - beta*phi*s_lag\n",
    "z_func = lambda z_lag,x: delta*z_lag + x\n",
    "s_func = lambda s_lag,c: omega*s_lag + c"
   ]
  },
  {
   "cell_type": "markdown",
   "metadata": {},
   "source": [
    "Run the simulation:"
   ]
  },
  {
   "cell_type": "code",
   "execution_count": null,
   "metadata": {},
   "outputs": [],
   "source": [
    "import numpy as np\n",
    "\n",
    "# a. set setup\n",
    "np.random.seed(2015)   \n",
    "\n",
    "# b. allocate simulation data\n",
    "x = np.random.normal(loc=0,scale=sigma_x,size=T)\n",
    "c = np.random.normal(loc=0,scale=sigma_c,size=T)\n",
    "z = np.zeros(T)\n",
    "s = np.zeros(T)\n",
    "y_hat = np.zeros(T)\n",
    "pi_hat = np.zeros(T)\n",
    "\n",
    "# c. run simulation\n",
    "for t in range(1,T):\n",
    "\n",
    "    # i. update z and s\n",
    "    z[t] = z_func(z[t-1],x[t])\n",
    "    s[t] = s_func(s[t-1],c[t])\n",
    "\n",
    "    # ii. compute y og pi \n",
    "    y_hat[t] = y_hat_func(y_hat[t-1],z[t],z[t-1],s[t],s[t-1])\n",
    "    pi_hat[t] = pi_hat_func(pi_hat[t-1],z[t],z[t-1],s[t],s[t-1])"
   ]
  },
  {
   "cell_type": "markdown",
   "metadata": {},
   "source": [
    "Plot the simulation:"
   ]
  },
  {
   "cell_type": "code",
   "execution_count": null,
   "metadata": {},
   "outputs": [],
   "source": [
    "import matplotlib.pyplot as plt\n",
    "%matplotlib inline\n",
    "\n",
    "fig = plt.figure()\n",
    "ax = fig.add_subplot(1,1,1)\n",
    "\n",
    "ax.plot(y_hat,label='$\\\\hat{y}$')\n",
    "ax.plot(pi_hat,label='$\\\\hat{pi}$')\n",
    "\n",
    "ax.set_xlabel('time')\n",
    "\n",
    "ax.set_ylabel('percent')\n",
    "ax.set_ylim([-8,8])\n",
    "\n",
    "ax.legend(loc='upper left');"
   ]
  },
  {
   "cell_type": "markdown",
   "metadata": {},
   "source": [
    "# Using modules"
   ]
  },
  {
   "cell_type": "code",
   "execution_count": null,
   "metadata": {},
   "outputs": [],
   "source": [
    "import mymodule"
   ]
  },
  {
   "cell_type": "code",
   "execution_count": null,
   "metadata": {},
   "outputs": [],
   "source": [
    "x = 5\n",
    "y = mymodule.myfunction(5)\n",
    "print(y)"
   ]
  }
 ],
 "metadata": {
  "kernelspec": {
   "display_name": "Python 3",
   "language": "python",
   "name": "python3"
  },
  "language_info": {
   "codemirror_mode": {
    "name": "ipython",
    "version": 3
   },
   "file_extension": ".py",
   "mimetype": "text/x-python",
   "name": "python",
   "nbconvert_exporter": "python",
   "pygments_lexer": "ipython3",
   "version": "3.7.1"
  },
  "toc-autonumbering": true
 },
 "nbformat": 4,
 "nbformat_minor": 2
}
